{
  "nbformat": 4,
  "nbformat_minor": 0,
  "metadata": {
    "colab": {
      "provenance": [],
      "gpuType": "T4",
      "collapsed_sections": [
        "XjPoeTWdP8TP"
      ],
      "toc_visible": true
    },
    "kernelspec": {
      "name": "python3",
      "display_name": "Python 3"
    },
    "language_info": {
      "name": "python"
    },
    "accelerator": "GPU",
    "widgets": {
      "application/vnd.jupyter.widget-state+json": {
        "557294e5abca4f2eb4c7f526fd8a1f23": {
          "model_module": "@jupyter-widgets/controls",
          "model_name": "HBoxModel",
          "model_module_version": "1.5.0",
          "state": {
            "_dom_classes": [],
            "_model_module": "@jupyter-widgets/controls",
            "_model_module_version": "1.5.0",
            "_model_name": "HBoxModel",
            "_view_count": null,
            "_view_module": "@jupyter-widgets/controls",
            "_view_module_version": "1.5.0",
            "_view_name": "HBoxView",
            "box_style": "",
            "children": [
              "IPY_MODEL_8f410de922294e19aba79e42e0aba72e",
              "IPY_MODEL_a2e8a89d487a4900935bebe62d15aee7",
              "IPY_MODEL_69c976a6046540fdb2b129f1dffd5a8d"
            ],
            "layout": "IPY_MODEL_0418ed1d1a8643fbb261620e0055e638"
          }
        },
        "8f410de922294e19aba79e42e0aba72e": {
          "model_module": "@jupyter-widgets/controls",
          "model_name": "HTMLModel",
          "model_module_version": "1.5.0",
          "state": {
            "_dom_classes": [],
            "_model_module": "@jupyter-widgets/controls",
            "_model_module_version": "1.5.0",
            "_model_name": "HTMLModel",
            "_view_count": null,
            "_view_module": "@jupyter-widgets/controls",
            "_view_module_version": "1.5.0",
            "_view_name": "HTMLView",
            "description": "",
            "description_tooltip": null,
            "layout": "IPY_MODEL_f4a46b5849e543f29e5042dcf8235333",
            "placeholder": "​",
            "style": "IPY_MODEL_a3e7cff12cb54a55b6c1ce27a0f9f6cc",
            "value": "tokenizer_config.json: 100%"
          }
        },
        "a2e8a89d487a4900935bebe62d15aee7": {
          "model_module": "@jupyter-widgets/controls",
          "model_name": "FloatProgressModel",
          "model_module_version": "1.5.0",
          "state": {
            "_dom_classes": [],
            "_model_module": "@jupyter-widgets/controls",
            "_model_module_version": "1.5.0",
            "_model_name": "FloatProgressModel",
            "_view_count": null,
            "_view_module": "@jupyter-widgets/controls",
            "_view_module_version": "1.5.0",
            "_view_name": "ProgressView",
            "bar_style": "success",
            "description": "",
            "description_tooltip": null,
            "layout": "IPY_MODEL_8a759020655741a5a97d2170e15ba556",
            "max": 48,
            "min": 0,
            "orientation": "horizontal",
            "style": "IPY_MODEL_48b4b5937a104a899d09f23746362f46",
            "value": 48
          }
        },
        "69c976a6046540fdb2b129f1dffd5a8d": {
          "model_module": "@jupyter-widgets/controls",
          "model_name": "HTMLModel",
          "model_module_version": "1.5.0",
          "state": {
            "_dom_classes": [],
            "_model_module": "@jupyter-widgets/controls",
            "_model_module_version": "1.5.0",
            "_model_name": "HTMLModel",
            "_view_count": null,
            "_view_module": "@jupyter-widgets/controls",
            "_view_module_version": "1.5.0",
            "_view_name": "HTMLView",
            "description": "",
            "description_tooltip": null,
            "layout": "IPY_MODEL_3816a55c9b104847a24b082fc2329ed8",
            "placeholder": "​",
            "style": "IPY_MODEL_7cff89f8cd03474abb59e3ebbbbafca6",
            "value": " 48.0/48.0 [00:00&lt;00:00, 2.49kB/s]"
          }
        },
        "0418ed1d1a8643fbb261620e0055e638": {
          "model_module": "@jupyter-widgets/base",
          "model_name": "LayoutModel",
          "model_module_version": "1.2.0",
          "state": {
            "_model_module": "@jupyter-widgets/base",
            "_model_module_version": "1.2.0",
            "_model_name": "LayoutModel",
            "_view_count": null,
            "_view_module": "@jupyter-widgets/base",
            "_view_module_version": "1.2.0",
            "_view_name": "LayoutView",
            "align_content": null,
            "align_items": null,
            "align_self": null,
            "border": null,
            "bottom": null,
            "display": null,
            "flex": null,
            "flex_flow": null,
            "grid_area": null,
            "grid_auto_columns": null,
            "grid_auto_flow": null,
            "grid_auto_rows": null,
            "grid_column": null,
            "grid_gap": null,
            "grid_row": null,
            "grid_template_areas": null,
            "grid_template_columns": null,
            "grid_template_rows": null,
            "height": null,
            "justify_content": null,
            "justify_items": null,
            "left": null,
            "margin": null,
            "max_height": null,
            "max_width": null,
            "min_height": null,
            "min_width": null,
            "object_fit": null,
            "object_position": null,
            "order": null,
            "overflow": null,
            "overflow_x": null,
            "overflow_y": null,
            "padding": null,
            "right": null,
            "top": null,
            "visibility": null,
            "width": null
          }
        },
        "f4a46b5849e543f29e5042dcf8235333": {
          "model_module": "@jupyter-widgets/base",
          "model_name": "LayoutModel",
          "model_module_version": "1.2.0",
          "state": {
            "_model_module": "@jupyter-widgets/base",
            "_model_module_version": "1.2.0",
            "_model_name": "LayoutModel",
            "_view_count": null,
            "_view_module": "@jupyter-widgets/base",
            "_view_module_version": "1.2.0",
            "_view_name": "LayoutView",
            "align_content": null,
            "align_items": null,
            "align_self": null,
            "border": null,
            "bottom": null,
            "display": null,
            "flex": null,
            "flex_flow": null,
            "grid_area": null,
            "grid_auto_columns": null,
            "grid_auto_flow": null,
            "grid_auto_rows": null,
            "grid_column": null,
            "grid_gap": null,
            "grid_row": null,
            "grid_template_areas": null,
            "grid_template_columns": null,
            "grid_template_rows": null,
            "height": null,
            "justify_content": null,
            "justify_items": null,
            "left": null,
            "margin": null,
            "max_height": null,
            "max_width": null,
            "min_height": null,
            "min_width": null,
            "object_fit": null,
            "object_position": null,
            "order": null,
            "overflow": null,
            "overflow_x": null,
            "overflow_y": null,
            "padding": null,
            "right": null,
            "top": null,
            "visibility": null,
            "width": null
          }
        },
        "a3e7cff12cb54a55b6c1ce27a0f9f6cc": {
          "model_module": "@jupyter-widgets/controls",
          "model_name": "DescriptionStyleModel",
          "model_module_version": "1.5.0",
          "state": {
            "_model_module": "@jupyter-widgets/controls",
            "_model_module_version": "1.5.0",
            "_model_name": "DescriptionStyleModel",
            "_view_count": null,
            "_view_module": "@jupyter-widgets/base",
            "_view_module_version": "1.2.0",
            "_view_name": "StyleView",
            "description_width": ""
          }
        },
        "8a759020655741a5a97d2170e15ba556": {
          "model_module": "@jupyter-widgets/base",
          "model_name": "LayoutModel",
          "model_module_version": "1.2.0",
          "state": {
            "_model_module": "@jupyter-widgets/base",
            "_model_module_version": "1.2.0",
            "_model_name": "LayoutModel",
            "_view_count": null,
            "_view_module": "@jupyter-widgets/base",
            "_view_module_version": "1.2.0",
            "_view_name": "LayoutView",
            "align_content": null,
            "align_items": null,
            "align_self": null,
            "border": null,
            "bottom": null,
            "display": null,
            "flex": null,
            "flex_flow": null,
            "grid_area": null,
            "grid_auto_columns": null,
            "grid_auto_flow": null,
            "grid_auto_rows": null,
            "grid_column": null,
            "grid_gap": null,
            "grid_row": null,
            "grid_template_areas": null,
            "grid_template_columns": null,
            "grid_template_rows": null,
            "height": null,
            "justify_content": null,
            "justify_items": null,
            "left": null,
            "margin": null,
            "max_height": null,
            "max_width": null,
            "min_height": null,
            "min_width": null,
            "object_fit": null,
            "object_position": null,
            "order": null,
            "overflow": null,
            "overflow_x": null,
            "overflow_y": null,
            "padding": null,
            "right": null,
            "top": null,
            "visibility": null,
            "width": null
          }
        },
        "48b4b5937a104a899d09f23746362f46": {
          "model_module": "@jupyter-widgets/controls",
          "model_name": "ProgressStyleModel",
          "model_module_version": "1.5.0",
          "state": {
            "_model_module": "@jupyter-widgets/controls",
            "_model_module_version": "1.5.0",
            "_model_name": "ProgressStyleModel",
            "_view_count": null,
            "_view_module": "@jupyter-widgets/base",
            "_view_module_version": "1.2.0",
            "_view_name": "StyleView",
            "bar_color": null,
            "description_width": ""
          }
        },
        "3816a55c9b104847a24b082fc2329ed8": {
          "model_module": "@jupyter-widgets/base",
          "model_name": "LayoutModel",
          "model_module_version": "1.2.0",
          "state": {
            "_model_module": "@jupyter-widgets/base",
            "_model_module_version": "1.2.0",
            "_model_name": "LayoutModel",
            "_view_count": null,
            "_view_module": "@jupyter-widgets/base",
            "_view_module_version": "1.2.0",
            "_view_name": "LayoutView",
            "align_content": null,
            "align_items": null,
            "align_self": null,
            "border": null,
            "bottom": null,
            "display": null,
            "flex": null,
            "flex_flow": null,
            "grid_area": null,
            "grid_auto_columns": null,
            "grid_auto_flow": null,
            "grid_auto_rows": null,
            "grid_column": null,
            "grid_gap": null,
            "grid_row": null,
            "grid_template_areas": null,
            "grid_template_columns": null,
            "grid_template_rows": null,
            "height": null,
            "justify_content": null,
            "justify_items": null,
            "left": null,
            "margin": null,
            "max_height": null,
            "max_width": null,
            "min_height": null,
            "min_width": null,
            "object_fit": null,
            "object_position": null,
            "order": null,
            "overflow": null,
            "overflow_x": null,
            "overflow_y": null,
            "padding": null,
            "right": null,
            "top": null,
            "visibility": null,
            "width": null
          }
        },
        "7cff89f8cd03474abb59e3ebbbbafca6": {
          "model_module": "@jupyter-widgets/controls",
          "model_name": "DescriptionStyleModel",
          "model_module_version": "1.5.0",
          "state": {
            "_model_module": "@jupyter-widgets/controls",
            "_model_module_version": "1.5.0",
            "_model_name": "DescriptionStyleModel",
            "_view_count": null,
            "_view_module": "@jupyter-widgets/base",
            "_view_module_version": "1.2.0",
            "_view_name": "StyleView",
            "description_width": ""
          }
        },
        "2ea3925d918b47949d9362502f376424": {
          "model_module": "@jupyter-widgets/controls",
          "model_name": "HBoxModel",
          "model_module_version": "1.5.0",
          "state": {
            "_dom_classes": [],
            "_model_module": "@jupyter-widgets/controls",
            "_model_module_version": "1.5.0",
            "_model_name": "HBoxModel",
            "_view_count": null,
            "_view_module": "@jupyter-widgets/controls",
            "_view_module_version": "1.5.0",
            "_view_name": "HBoxView",
            "box_style": "",
            "children": [
              "IPY_MODEL_c778578250324eb78145969574f36697",
              "IPY_MODEL_a4ce22aee7fe4f6796d0fea039e07b56",
              "IPY_MODEL_d77884084efa4ec6adcc3cacacfe9ec3"
            ],
            "layout": "IPY_MODEL_09a0d472434240ec8f5cbee7136b4356"
          }
        },
        "c778578250324eb78145969574f36697": {
          "model_module": "@jupyter-widgets/controls",
          "model_name": "HTMLModel",
          "model_module_version": "1.5.0",
          "state": {
            "_dom_classes": [],
            "_model_module": "@jupyter-widgets/controls",
            "_model_module_version": "1.5.0",
            "_model_name": "HTMLModel",
            "_view_count": null,
            "_view_module": "@jupyter-widgets/controls",
            "_view_module_version": "1.5.0",
            "_view_name": "HTMLView",
            "description": "",
            "description_tooltip": null,
            "layout": "IPY_MODEL_169699c0c70c4fc6bc901881a2a1e513",
            "placeholder": "​",
            "style": "IPY_MODEL_fae7c663250f4dee84c8c81263e17181",
            "value": "vocab.txt: 100%"
          }
        },
        "a4ce22aee7fe4f6796d0fea039e07b56": {
          "model_module": "@jupyter-widgets/controls",
          "model_name": "FloatProgressModel",
          "model_module_version": "1.5.0",
          "state": {
            "_dom_classes": [],
            "_model_module": "@jupyter-widgets/controls",
            "_model_module_version": "1.5.0",
            "_model_name": "FloatProgressModel",
            "_view_count": null,
            "_view_module": "@jupyter-widgets/controls",
            "_view_module_version": "1.5.0",
            "_view_name": "ProgressView",
            "bar_style": "success",
            "description": "",
            "description_tooltip": null,
            "layout": "IPY_MODEL_3e1fc69e59764bd4ae84325934980be9",
            "max": 231508,
            "min": 0,
            "orientation": "horizontal",
            "style": "IPY_MODEL_381269252dfb45b699d683ba12c47750",
            "value": 231508
          }
        },
        "d77884084efa4ec6adcc3cacacfe9ec3": {
          "model_module": "@jupyter-widgets/controls",
          "model_name": "HTMLModel",
          "model_module_version": "1.5.0",
          "state": {
            "_dom_classes": [],
            "_model_module": "@jupyter-widgets/controls",
            "_model_module_version": "1.5.0",
            "_model_name": "HTMLModel",
            "_view_count": null,
            "_view_module": "@jupyter-widgets/controls",
            "_view_module_version": "1.5.0",
            "_view_name": "HTMLView",
            "description": "",
            "description_tooltip": null,
            "layout": "IPY_MODEL_57b20c99357a4427a51d3aa56c12b266",
            "placeholder": "​",
            "style": "IPY_MODEL_8c9e6c69241c4ca4bf72c0e875b0e52f",
            "value": " 232k/232k [00:00&lt;00:00, 557kB/s]"
          }
        },
        "09a0d472434240ec8f5cbee7136b4356": {
          "model_module": "@jupyter-widgets/base",
          "model_name": "LayoutModel",
          "model_module_version": "1.2.0",
          "state": {
            "_model_module": "@jupyter-widgets/base",
            "_model_module_version": "1.2.0",
            "_model_name": "LayoutModel",
            "_view_count": null,
            "_view_module": "@jupyter-widgets/base",
            "_view_module_version": "1.2.0",
            "_view_name": "LayoutView",
            "align_content": null,
            "align_items": null,
            "align_self": null,
            "border": null,
            "bottom": null,
            "display": null,
            "flex": null,
            "flex_flow": null,
            "grid_area": null,
            "grid_auto_columns": null,
            "grid_auto_flow": null,
            "grid_auto_rows": null,
            "grid_column": null,
            "grid_gap": null,
            "grid_row": null,
            "grid_template_areas": null,
            "grid_template_columns": null,
            "grid_template_rows": null,
            "height": null,
            "justify_content": null,
            "justify_items": null,
            "left": null,
            "margin": null,
            "max_height": null,
            "max_width": null,
            "min_height": null,
            "min_width": null,
            "object_fit": null,
            "object_position": null,
            "order": null,
            "overflow": null,
            "overflow_x": null,
            "overflow_y": null,
            "padding": null,
            "right": null,
            "top": null,
            "visibility": null,
            "width": null
          }
        },
        "169699c0c70c4fc6bc901881a2a1e513": {
          "model_module": "@jupyter-widgets/base",
          "model_name": "LayoutModel",
          "model_module_version": "1.2.0",
          "state": {
            "_model_module": "@jupyter-widgets/base",
            "_model_module_version": "1.2.0",
            "_model_name": "LayoutModel",
            "_view_count": null,
            "_view_module": "@jupyter-widgets/base",
            "_view_module_version": "1.2.0",
            "_view_name": "LayoutView",
            "align_content": null,
            "align_items": null,
            "align_self": null,
            "border": null,
            "bottom": null,
            "display": null,
            "flex": null,
            "flex_flow": null,
            "grid_area": null,
            "grid_auto_columns": null,
            "grid_auto_flow": null,
            "grid_auto_rows": null,
            "grid_column": null,
            "grid_gap": null,
            "grid_row": null,
            "grid_template_areas": null,
            "grid_template_columns": null,
            "grid_template_rows": null,
            "height": null,
            "justify_content": null,
            "justify_items": null,
            "left": null,
            "margin": null,
            "max_height": null,
            "max_width": null,
            "min_height": null,
            "min_width": null,
            "object_fit": null,
            "object_position": null,
            "order": null,
            "overflow": null,
            "overflow_x": null,
            "overflow_y": null,
            "padding": null,
            "right": null,
            "top": null,
            "visibility": null,
            "width": null
          }
        },
        "fae7c663250f4dee84c8c81263e17181": {
          "model_module": "@jupyter-widgets/controls",
          "model_name": "DescriptionStyleModel",
          "model_module_version": "1.5.0",
          "state": {
            "_model_module": "@jupyter-widgets/controls",
            "_model_module_version": "1.5.0",
            "_model_name": "DescriptionStyleModel",
            "_view_count": null,
            "_view_module": "@jupyter-widgets/base",
            "_view_module_version": "1.2.0",
            "_view_name": "StyleView",
            "description_width": ""
          }
        },
        "3e1fc69e59764bd4ae84325934980be9": {
          "model_module": "@jupyter-widgets/base",
          "model_name": "LayoutModel",
          "model_module_version": "1.2.0",
          "state": {
            "_model_module": "@jupyter-widgets/base",
            "_model_module_version": "1.2.0",
            "_model_name": "LayoutModel",
            "_view_count": null,
            "_view_module": "@jupyter-widgets/base",
            "_view_module_version": "1.2.0",
            "_view_name": "LayoutView",
            "align_content": null,
            "align_items": null,
            "align_self": null,
            "border": null,
            "bottom": null,
            "display": null,
            "flex": null,
            "flex_flow": null,
            "grid_area": null,
            "grid_auto_columns": null,
            "grid_auto_flow": null,
            "grid_auto_rows": null,
            "grid_column": null,
            "grid_gap": null,
            "grid_row": null,
            "grid_template_areas": null,
            "grid_template_columns": null,
            "grid_template_rows": null,
            "height": null,
            "justify_content": null,
            "justify_items": null,
            "left": null,
            "margin": null,
            "max_height": null,
            "max_width": null,
            "min_height": null,
            "min_width": null,
            "object_fit": null,
            "object_position": null,
            "order": null,
            "overflow": null,
            "overflow_x": null,
            "overflow_y": null,
            "padding": null,
            "right": null,
            "top": null,
            "visibility": null,
            "width": null
          }
        },
        "381269252dfb45b699d683ba12c47750": {
          "model_module": "@jupyter-widgets/controls",
          "model_name": "ProgressStyleModel",
          "model_module_version": "1.5.0",
          "state": {
            "_model_module": "@jupyter-widgets/controls",
            "_model_module_version": "1.5.0",
            "_model_name": "ProgressStyleModel",
            "_view_count": null,
            "_view_module": "@jupyter-widgets/base",
            "_view_module_version": "1.2.0",
            "_view_name": "StyleView",
            "bar_color": null,
            "description_width": ""
          }
        },
        "57b20c99357a4427a51d3aa56c12b266": {
          "model_module": "@jupyter-widgets/base",
          "model_name": "LayoutModel",
          "model_module_version": "1.2.0",
          "state": {
            "_model_module": "@jupyter-widgets/base",
            "_model_module_version": "1.2.0",
            "_model_name": "LayoutModel",
            "_view_count": null,
            "_view_module": "@jupyter-widgets/base",
            "_view_module_version": "1.2.0",
            "_view_name": "LayoutView",
            "align_content": null,
            "align_items": null,
            "align_self": null,
            "border": null,
            "bottom": null,
            "display": null,
            "flex": null,
            "flex_flow": null,
            "grid_area": null,
            "grid_auto_columns": null,
            "grid_auto_flow": null,
            "grid_auto_rows": null,
            "grid_column": null,
            "grid_gap": null,
            "grid_row": null,
            "grid_template_areas": null,
            "grid_template_columns": null,
            "grid_template_rows": null,
            "height": null,
            "justify_content": null,
            "justify_items": null,
            "left": null,
            "margin": null,
            "max_height": null,
            "max_width": null,
            "min_height": null,
            "min_width": null,
            "object_fit": null,
            "object_position": null,
            "order": null,
            "overflow": null,
            "overflow_x": null,
            "overflow_y": null,
            "padding": null,
            "right": null,
            "top": null,
            "visibility": null,
            "width": null
          }
        },
        "8c9e6c69241c4ca4bf72c0e875b0e52f": {
          "model_module": "@jupyter-widgets/controls",
          "model_name": "DescriptionStyleModel",
          "model_module_version": "1.5.0",
          "state": {
            "_model_module": "@jupyter-widgets/controls",
            "_model_module_version": "1.5.0",
            "_model_name": "DescriptionStyleModel",
            "_view_count": null,
            "_view_module": "@jupyter-widgets/base",
            "_view_module_version": "1.2.0",
            "_view_name": "StyleView",
            "description_width": ""
          }
        },
        "6df6740b45b94e7f9bd527cfcdd5ae79": {
          "model_module": "@jupyter-widgets/controls",
          "model_name": "HBoxModel",
          "model_module_version": "1.5.0",
          "state": {
            "_dom_classes": [],
            "_model_module": "@jupyter-widgets/controls",
            "_model_module_version": "1.5.0",
            "_model_name": "HBoxModel",
            "_view_count": null,
            "_view_module": "@jupyter-widgets/controls",
            "_view_module_version": "1.5.0",
            "_view_name": "HBoxView",
            "box_style": "",
            "children": [
              "IPY_MODEL_c3b9ca54b3bc4f3a814a8adfb8109d71",
              "IPY_MODEL_32add1113024445b800cd1b76e7bb5cd",
              "IPY_MODEL_2690a0d59efc4a2aa07faf77ecb05161"
            ],
            "layout": "IPY_MODEL_84efa9f2747f4461a22c8b67401f53f9"
          }
        },
        "c3b9ca54b3bc4f3a814a8adfb8109d71": {
          "model_module": "@jupyter-widgets/controls",
          "model_name": "HTMLModel",
          "model_module_version": "1.5.0",
          "state": {
            "_dom_classes": [],
            "_model_module": "@jupyter-widgets/controls",
            "_model_module_version": "1.5.0",
            "_model_name": "HTMLModel",
            "_view_count": null,
            "_view_module": "@jupyter-widgets/controls",
            "_view_module_version": "1.5.0",
            "_view_name": "HTMLView",
            "description": "",
            "description_tooltip": null,
            "layout": "IPY_MODEL_c42f0b4e97ea401a83726c2e644ab7e5",
            "placeholder": "​",
            "style": "IPY_MODEL_61f5a1a7aec544928ea1a096b3302e2a",
            "value": "tokenizer.json: 100%"
          }
        },
        "32add1113024445b800cd1b76e7bb5cd": {
          "model_module": "@jupyter-widgets/controls",
          "model_name": "FloatProgressModel",
          "model_module_version": "1.5.0",
          "state": {
            "_dom_classes": [],
            "_model_module": "@jupyter-widgets/controls",
            "_model_module_version": "1.5.0",
            "_model_name": "FloatProgressModel",
            "_view_count": null,
            "_view_module": "@jupyter-widgets/controls",
            "_view_module_version": "1.5.0",
            "_view_name": "ProgressView",
            "bar_style": "success",
            "description": "",
            "description_tooltip": null,
            "layout": "IPY_MODEL_7af35d9eb0e146ae9f4b5f072d3a88f9",
            "max": 466062,
            "min": 0,
            "orientation": "horizontal",
            "style": "IPY_MODEL_0f7835c2b3544ceab384874f269ef19f",
            "value": 466062
          }
        },
        "2690a0d59efc4a2aa07faf77ecb05161": {
          "model_module": "@jupyter-widgets/controls",
          "model_name": "HTMLModel",
          "model_module_version": "1.5.0",
          "state": {
            "_dom_classes": [],
            "_model_module": "@jupyter-widgets/controls",
            "_model_module_version": "1.5.0",
            "_model_name": "HTMLModel",
            "_view_count": null,
            "_view_module": "@jupyter-widgets/controls",
            "_view_module_version": "1.5.0",
            "_view_name": "HTMLView",
            "description": "",
            "description_tooltip": null,
            "layout": "IPY_MODEL_cb86e19ca9674a4f89f18bdad73dae3a",
            "placeholder": "​",
            "style": "IPY_MODEL_e13c0ed4a5d1458a816e5b3e03dc397b",
            "value": " 466k/466k [00:00&lt;00:00, 2.36MB/s]"
          }
        },
        "84efa9f2747f4461a22c8b67401f53f9": {
          "model_module": "@jupyter-widgets/base",
          "model_name": "LayoutModel",
          "model_module_version": "1.2.0",
          "state": {
            "_model_module": "@jupyter-widgets/base",
            "_model_module_version": "1.2.0",
            "_model_name": "LayoutModel",
            "_view_count": null,
            "_view_module": "@jupyter-widgets/base",
            "_view_module_version": "1.2.0",
            "_view_name": "LayoutView",
            "align_content": null,
            "align_items": null,
            "align_self": null,
            "border": null,
            "bottom": null,
            "display": null,
            "flex": null,
            "flex_flow": null,
            "grid_area": null,
            "grid_auto_columns": null,
            "grid_auto_flow": null,
            "grid_auto_rows": null,
            "grid_column": null,
            "grid_gap": null,
            "grid_row": null,
            "grid_template_areas": null,
            "grid_template_columns": null,
            "grid_template_rows": null,
            "height": null,
            "justify_content": null,
            "justify_items": null,
            "left": null,
            "margin": null,
            "max_height": null,
            "max_width": null,
            "min_height": null,
            "min_width": null,
            "object_fit": null,
            "object_position": null,
            "order": null,
            "overflow": null,
            "overflow_x": null,
            "overflow_y": null,
            "padding": null,
            "right": null,
            "top": null,
            "visibility": null,
            "width": null
          }
        },
        "c42f0b4e97ea401a83726c2e644ab7e5": {
          "model_module": "@jupyter-widgets/base",
          "model_name": "LayoutModel",
          "model_module_version": "1.2.0",
          "state": {
            "_model_module": "@jupyter-widgets/base",
            "_model_module_version": "1.2.0",
            "_model_name": "LayoutModel",
            "_view_count": null,
            "_view_module": "@jupyter-widgets/base",
            "_view_module_version": "1.2.0",
            "_view_name": "LayoutView",
            "align_content": null,
            "align_items": null,
            "align_self": null,
            "border": null,
            "bottom": null,
            "display": null,
            "flex": null,
            "flex_flow": null,
            "grid_area": null,
            "grid_auto_columns": null,
            "grid_auto_flow": null,
            "grid_auto_rows": null,
            "grid_column": null,
            "grid_gap": null,
            "grid_row": null,
            "grid_template_areas": null,
            "grid_template_columns": null,
            "grid_template_rows": null,
            "height": null,
            "justify_content": null,
            "justify_items": null,
            "left": null,
            "margin": null,
            "max_height": null,
            "max_width": null,
            "min_height": null,
            "min_width": null,
            "object_fit": null,
            "object_position": null,
            "order": null,
            "overflow": null,
            "overflow_x": null,
            "overflow_y": null,
            "padding": null,
            "right": null,
            "top": null,
            "visibility": null,
            "width": null
          }
        },
        "61f5a1a7aec544928ea1a096b3302e2a": {
          "model_module": "@jupyter-widgets/controls",
          "model_name": "DescriptionStyleModel",
          "model_module_version": "1.5.0",
          "state": {
            "_model_module": "@jupyter-widgets/controls",
            "_model_module_version": "1.5.0",
            "_model_name": "DescriptionStyleModel",
            "_view_count": null,
            "_view_module": "@jupyter-widgets/base",
            "_view_module_version": "1.2.0",
            "_view_name": "StyleView",
            "description_width": ""
          }
        },
        "7af35d9eb0e146ae9f4b5f072d3a88f9": {
          "model_module": "@jupyter-widgets/base",
          "model_name": "LayoutModel",
          "model_module_version": "1.2.0",
          "state": {
            "_model_module": "@jupyter-widgets/base",
            "_model_module_version": "1.2.0",
            "_model_name": "LayoutModel",
            "_view_count": null,
            "_view_module": "@jupyter-widgets/base",
            "_view_module_version": "1.2.0",
            "_view_name": "LayoutView",
            "align_content": null,
            "align_items": null,
            "align_self": null,
            "border": null,
            "bottom": null,
            "display": null,
            "flex": null,
            "flex_flow": null,
            "grid_area": null,
            "grid_auto_columns": null,
            "grid_auto_flow": null,
            "grid_auto_rows": null,
            "grid_column": null,
            "grid_gap": null,
            "grid_row": null,
            "grid_template_areas": null,
            "grid_template_columns": null,
            "grid_template_rows": null,
            "height": null,
            "justify_content": null,
            "justify_items": null,
            "left": null,
            "margin": null,
            "max_height": null,
            "max_width": null,
            "min_height": null,
            "min_width": null,
            "object_fit": null,
            "object_position": null,
            "order": null,
            "overflow": null,
            "overflow_x": null,
            "overflow_y": null,
            "padding": null,
            "right": null,
            "top": null,
            "visibility": null,
            "width": null
          }
        },
        "0f7835c2b3544ceab384874f269ef19f": {
          "model_module": "@jupyter-widgets/controls",
          "model_name": "ProgressStyleModel",
          "model_module_version": "1.5.0",
          "state": {
            "_model_module": "@jupyter-widgets/controls",
            "_model_module_version": "1.5.0",
            "_model_name": "ProgressStyleModel",
            "_view_count": null,
            "_view_module": "@jupyter-widgets/base",
            "_view_module_version": "1.2.0",
            "_view_name": "StyleView",
            "bar_color": null,
            "description_width": ""
          }
        },
        "cb86e19ca9674a4f89f18bdad73dae3a": {
          "model_module": "@jupyter-widgets/base",
          "model_name": "LayoutModel",
          "model_module_version": "1.2.0",
          "state": {
            "_model_module": "@jupyter-widgets/base",
            "_model_module_version": "1.2.0",
            "_model_name": "LayoutModel",
            "_view_count": null,
            "_view_module": "@jupyter-widgets/base",
            "_view_module_version": "1.2.0",
            "_view_name": "LayoutView",
            "align_content": null,
            "align_items": null,
            "align_self": null,
            "border": null,
            "bottom": null,
            "display": null,
            "flex": null,
            "flex_flow": null,
            "grid_area": null,
            "grid_auto_columns": null,
            "grid_auto_flow": null,
            "grid_auto_rows": null,
            "grid_column": null,
            "grid_gap": null,
            "grid_row": null,
            "grid_template_areas": null,
            "grid_template_columns": null,
            "grid_template_rows": null,
            "height": null,
            "justify_content": null,
            "justify_items": null,
            "left": null,
            "margin": null,
            "max_height": null,
            "max_width": null,
            "min_height": null,
            "min_width": null,
            "object_fit": null,
            "object_position": null,
            "order": null,
            "overflow": null,
            "overflow_x": null,
            "overflow_y": null,
            "padding": null,
            "right": null,
            "top": null,
            "visibility": null,
            "width": null
          }
        },
        "e13c0ed4a5d1458a816e5b3e03dc397b": {
          "model_module": "@jupyter-widgets/controls",
          "model_name": "DescriptionStyleModel",
          "model_module_version": "1.5.0",
          "state": {
            "_model_module": "@jupyter-widgets/controls",
            "_model_module_version": "1.5.0",
            "_model_name": "DescriptionStyleModel",
            "_view_count": null,
            "_view_module": "@jupyter-widgets/base",
            "_view_module_version": "1.2.0",
            "_view_name": "StyleView",
            "description_width": ""
          }
        },
        "84a45592a60b42588f8e6f90b675f873": {
          "model_module": "@jupyter-widgets/controls",
          "model_name": "HBoxModel",
          "model_module_version": "1.5.0",
          "state": {
            "_dom_classes": [],
            "_model_module": "@jupyter-widgets/controls",
            "_model_module_version": "1.5.0",
            "_model_name": "HBoxModel",
            "_view_count": null,
            "_view_module": "@jupyter-widgets/controls",
            "_view_module_version": "1.5.0",
            "_view_name": "HBoxView",
            "box_style": "",
            "children": [
              "IPY_MODEL_051a6b7d394b447381e1972a87070214",
              "IPY_MODEL_5e84aea7c9504c59b8e125f199eb84f0",
              "IPY_MODEL_7138658343e64fcb9dcf2cbfda204dd8"
            ],
            "layout": "IPY_MODEL_074b6e6146f14c839d5b1b97839a571d"
          }
        },
        "051a6b7d394b447381e1972a87070214": {
          "model_module": "@jupyter-widgets/controls",
          "model_name": "HTMLModel",
          "model_module_version": "1.5.0",
          "state": {
            "_dom_classes": [],
            "_model_module": "@jupyter-widgets/controls",
            "_model_module_version": "1.5.0",
            "_model_name": "HTMLModel",
            "_view_count": null,
            "_view_module": "@jupyter-widgets/controls",
            "_view_module_version": "1.5.0",
            "_view_name": "HTMLView",
            "description": "",
            "description_tooltip": null,
            "layout": "IPY_MODEL_cd406a8a4fa5480a9f14ccb37e17f844",
            "placeholder": "​",
            "style": "IPY_MODEL_db2ba32b90934a028663059db0f1e2af",
            "value": "config.json: 100%"
          }
        },
        "5e84aea7c9504c59b8e125f199eb84f0": {
          "model_module": "@jupyter-widgets/controls",
          "model_name": "FloatProgressModel",
          "model_module_version": "1.5.0",
          "state": {
            "_dom_classes": [],
            "_model_module": "@jupyter-widgets/controls",
            "_model_module_version": "1.5.0",
            "_model_name": "FloatProgressModel",
            "_view_count": null,
            "_view_module": "@jupyter-widgets/controls",
            "_view_module_version": "1.5.0",
            "_view_name": "ProgressView",
            "bar_style": "success",
            "description": "",
            "description_tooltip": null,
            "layout": "IPY_MODEL_00f6b950c1d7486a8aa7ffc99f2d156f",
            "max": 570,
            "min": 0,
            "orientation": "horizontal",
            "style": "IPY_MODEL_406f2eb8dad84db3badf96a4c070c39e",
            "value": 570
          }
        },
        "7138658343e64fcb9dcf2cbfda204dd8": {
          "model_module": "@jupyter-widgets/controls",
          "model_name": "HTMLModel",
          "model_module_version": "1.5.0",
          "state": {
            "_dom_classes": [],
            "_model_module": "@jupyter-widgets/controls",
            "_model_module_version": "1.5.0",
            "_model_name": "HTMLModel",
            "_view_count": null,
            "_view_module": "@jupyter-widgets/controls",
            "_view_module_version": "1.5.0",
            "_view_name": "HTMLView",
            "description": "",
            "description_tooltip": null,
            "layout": "IPY_MODEL_a9f94af99b8643c2876170891cc470eb",
            "placeholder": "​",
            "style": "IPY_MODEL_e198098487244cc88c1bf51f21e11300",
            "value": " 570/570 [00:00&lt;00:00, 24.2kB/s]"
          }
        },
        "074b6e6146f14c839d5b1b97839a571d": {
          "model_module": "@jupyter-widgets/base",
          "model_name": "LayoutModel",
          "model_module_version": "1.2.0",
          "state": {
            "_model_module": "@jupyter-widgets/base",
            "_model_module_version": "1.2.0",
            "_model_name": "LayoutModel",
            "_view_count": null,
            "_view_module": "@jupyter-widgets/base",
            "_view_module_version": "1.2.0",
            "_view_name": "LayoutView",
            "align_content": null,
            "align_items": null,
            "align_self": null,
            "border": null,
            "bottom": null,
            "display": null,
            "flex": null,
            "flex_flow": null,
            "grid_area": null,
            "grid_auto_columns": null,
            "grid_auto_flow": null,
            "grid_auto_rows": null,
            "grid_column": null,
            "grid_gap": null,
            "grid_row": null,
            "grid_template_areas": null,
            "grid_template_columns": null,
            "grid_template_rows": null,
            "height": null,
            "justify_content": null,
            "justify_items": null,
            "left": null,
            "margin": null,
            "max_height": null,
            "max_width": null,
            "min_height": null,
            "min_width": null,
            "object_fit": null,
            "object_position": null,
            "order": null,
            "overflow": null,
            "overflow_x": null,
            "overflow_y": null,
            "padding": null,
            "right": null,
            "top": null,
            "visibility": null,
            "width": null
          }
        },
        "cd406a8a4fa5480a9f14ccb37e17f844": {
          "model_module": "@jupyter-widgets/base",
          "model_name": "LayoutModel",
          "model_module_version": "1.2.0",
          "state": {
            "_model_module": "@jupyter-widgets/base",
            "_model_module_version": "1.2.0",
            "_model_name": "LayoutModel",
            "_view_count": null,
            "_view_module": "@jupyter-widgets/base",
            "_view_module_version": "1.2.0",
            "_view_name": "LayoutView",
            "align_content": null,
            "align_items": null,
            "align_self": null,
            "border": null,
            "bottom": null,
            "display": null,
            "flex": null,
            "flex_flow": null,
            "grid_area": null,
            "grid_auto_columns": null,
            "grid_auto_flow": null,
            "grid_auto_rows": null,
            "grid_column": null,
            "grid_gap": null,
            "grid_row": null,
            "grid_template_areas": null,
            "grid_template_columns": null,
            "grid_template_rows": null,
            "height": null,
            "justify_content": null,
            "justify_items": null,
            "left": null,
            "margin": null,
            "max_height": null,
            "max_width": null,
            "min_height": null,
            "min_width": null,
            "object_fit": null,
            "object_position": null,
            "order": null,
            "overflow": null,
            "overflow_x": null,
            "overflow_y": null,
            "padding": null,
            "right": null,
            "top": null,
            "visibility": null,
            "width": null
          }
        },
        "db2ba32b90934a028663059db0f1e2af": {
          "model_module": "@jupyter-widgets/controls",
          "model_name": "DescriptionStyleModel",
          "model_module_version": "1.5.0",
          "state": {
            "_model_module": "@jupyter-widgets/controls",
            "_model_module_version": "1.5.0",
            "_model_name": "DescriptionStyleModel",
            "_view_count": null,
            "_view_module": "@jupyter-widgets/base",
            "_view_module_version": "1.2.0",
            "_view_name": "StyleView",
            "description_width": ""
          }
        },
        "00f6b950c1d7486a8aa7ffc99f2d156f": {
          "model_module": "@jupyter-widgets/base",
          "model_name": "LayoutModel",
          "model_module_version": "1.2.0",
          "state": {
            "_model_module": "@jupyter-widgets/base",
            "_model_module_version": "1.2.0",
            "_model_name": "LayoutModel",
            "_view_count": null,
            "_view_module": "@jupyter-widgets/base",
            "_view_module_version": "1.2.0",
            "_view_name": "LayoutView",
            "align_content": null,
            "align_items": null,
            "align_self": null,
            "border": null,
            "bottom": null,
            "display": null,
            "flex": null,
            "flex_flow": null,
            "grid_area": null,
            "grid_auto_columns": null,
            "grid_auto_flow": null,
            "grid_auto_rows": null,
            "grid_column": null,
            "grid_gap": null,
            "grid_row": null,
            "grid_template_areas": null,
            "grid_template_columns": null,
            "grid_template_rows": null,
            "height": null,
            "justify_content": null,
            "justify_items": null,
            "left": null,
            "margin": null,
            "max_height": null,
            "max_width": null,
            "min_height": null,
            "min_width": null,
            "object_fit": null,
            "object_position": null,
            "order": null,
            "overflow": null,
            "overflow_x": null,
            "overflow_y": null,
            "padding": null,
            "right": null,
            "top": null,
            "visibility": null,
            "width": null
          }
        },
        "406f2eb8dad84db3badf96a4c070c39e": {
          "model_module": "@jupyter-widgets/controls",
          "model_name": "ProgressStyleModel",
          "model_module_version": "1.5.0",
          "state": {
            "_model_module": "@jupyter-widgets/controls",
            "_model_module_version": "1.5.0",
            "_model_name": "ProgressStyleModel",
            "_view_count": null,
            "_view_module": "@jupyter-widgets/base",
            "_view_module_version": "1.2.0",
            "_view_name": "StyleView",
            "bar_color": null,
            "description_width": ""
          }
        },
        "a9f94af99b8643c2876170891cc470eb": {
          "model_module": "@jupyter-widgets/base",
          "model_name": "LayoutModel",
          "model_module_version": "1.2.0",
          "state": {
            "_model_module": "@jupyter-widgets/base",
            "_model_module_version": "1.2.0",
            "_model_name": "LayoutModel",
            "_view_count": null,
            "_view_module": "@jupyter-widgets/base",
            "_view_module_version": "1.2.0",
            "_view_name": "LayoutView",
            "align_content": null,
            "align_items": null,
            "align_self": null,
            "border": null,
            "bottom": null,
            "display": null,
            "flex": null,
            "flex_flow": null,
            "grid_area": null,
            "grid_auto_columns": null,
            "grid_auto_flow": null,
            "grid_auto_rows": null,
            "grid_column": null,
            "grid_gap": null,
            "grid_row": null,
            "grid_template_areas": null,
            "grid_template_columns": null,
            "grid_template_rows": null,
            "height": null,
            "justify_content": null,
            "justify_items": null,
            "left": null,
            "margin": null,
            "max_height": null,
            "max_width": null,
            "min_height": null,
            "min_width": null,
            "object_fit": null,
            "object_position": null,
            "order": null,
            "overflow": null,
            "overflow_x": null,
            "overflow_y": null,
            "padding": null,
            "right": null,
            "top": null,
            "visibility": null,
            "width": null
          }
        },
        "e198098487244cc88c1bf51f21e11300": {
          "model_module": "@jupyter-widgets/controls",
          "model_name": "DescriptionStyleModel",
          "model_module_version": "1.5.0",
          "state": {
            "_model_module": "@jupyter-widgets/controls",
            "_model_module_version": "1.5.0",
            "_model_name": "DescriptionStyleModel",
            "_view_count": null,
            "_view_module": "@jupyter-widgets/base",
            "_view_module_version": "1.2.0",
            "_view_name": "StyleView",
            "description_width": ""
          }
        },
        "c5e64c79ee934c54bfc3bbed037d19d7": {
          "model_module": "@jupyter-widgets/controls",
          "model_name": "HBoxModel",
          "model_module_version": "1.5.0",
          "state": {
            "_dom_classes": [],
            "_model_module": "@jupyter-widgets/controls",
            "_model_module_version": "1.5.0",
            "_model_name": "HBoxModel",
            "_view_count": null,
            "_view_module": "@jupyter-widgets/controls",
            "_view_module_version": "1.5.0",
            "_view_name": "HBoxView",
            "box_style": "",
            "children": [
              "IPY_MODEL_7fc99bbb2c7c4da8ac03c1ccaf04a76f",
              "IPY_MODEL_704f0664bdea4b2ca0e8a00a2623b3b9",
              "IPY_MODEL_f2d97c3764d9470eba0f5f4b9e524bb7"
            ],
            "layout": "IPY_MODEL_3db9de48ec7141909ca0a17535fb818b"
          }
        },
        "7fc99bbb2c7c4da8ac03c1ccaf04a76f": {
          "model_module": "@jupyter-widgets/controls",
          "model_name": "HTMLModel",
          "model_module_version": "1.5.0",
          "state": {
            "_dom_classes": [],
            "_model_module": "@jupyter-widgets/controls",
            "_model_module_version": "1.5.0",
            "_model_name": "HTMLModel",
            "_view_count": null,
            "_view_module": "@jupyter-widgets/controls",
            "_view_module_version": "1.5.0",
            "_view_name": "HTMLView",
            "description": "",
            "description_tooltip": null,
            "layout": "IPY_MODEL_675a7aedc5db4b9b813553e9a5820c61",
            "placeholder": "​",
            "style": "IPY_MODEL_8110114fc971498c8245b95bdbe36f43",
            "value": "model.safetensors: 100%"
          }
        },
        "704f0664bdea4b2ca0e8a00a2623b3b9": {
          "model_module": "@jupyter-widgets/controls",
          "model_name": "FloatProgressModel",
          "model_module_version": "1.5.0",
          "state": {
            "_dom_classes": [],
            "_model_module": "@jupyter-widgets/controls",
            "_model_module_version": "1.5.0",
            "_model_name": "FloatProgressModel",
            "_view_count": null,
            "_view_module": "@jupyter-widgets/controls",
            "_view_module_version": "1.5.0",
            "_view_name": "ProgressView",
            "bar_style": "success",
            "description": "",
            "description_tooltip": null,
            "layout": "IPY_MODEL_28b223e9aa1a48be90ba46b7d361469a",
            "max": 440449768,
            "min": 0,
            "orientation": "horizontal",
            "style": "IPY_MODEL_538bd5d1bbd94b6f8285dc2273d81522",
            "value": 440449768
          }
        },
        "f2d97c3764d9470eba0f5f4b9e524bb7": {
          "model_module": "@jupyter-widgets/controls",
          "model_name": "HTMLModel",
          "model_module_version": "1.5.0",
          "state": {
            "_dom_classes": [],
            "_model_module": "@jupyter-widgets/controls",
            "_model_module_version": "1.5.0",
            "_model_name": "HTMLModel",
            "_view_count": null,
            "_view_module": "@jupyter-widgets/controls",
            "_view_module_version": "1.5.0",
            "_view_name": "HTMLView",
            "description": "",
            "description_tooltip": null,
            "layout": "IPY_MODEL_a75dae2dd7dd4ad2b85c812a7f88e335",
            "placeholder": "​",
            "style": "IPY_MODEL_e230d73ce08e4ea8ae0d8878b7b1d23a",
            "value": " 440M/440M [00:10&lt;00:00, 74.3MB/s]"
          }
        },
        "3db9de48ec7141909ca0a17535fb818b": {
          "model_module": "@jupyter-widgets/base",
          "model_name": "LayoutModel",
          "model_module_version": "1.2.0",
          "state": {
            "_model_module": "@jupyter-widgets/base",
            "_model_module_version": "1.2.0",
            "_model_name": "LayoutModel",
            "_view_count": null,
            "_view_module": "@jupyter-widgets/base",
            "_view_module_version": "1.2.0",
            "_view_name": "LayoutView",
            "align_content": null,
            "align_items": null,
            "align_self": null,
            "border": null,
            "bottom": null,
            "display": null,
            "flex": null,
            "flex_flow": null,
            "grid_area": null,
            "grid_auto_columns": null,
            "grid_auto_flow": null,
            "grid_auto_rows": null,
            "grid_column": null,
            "grid_gap": null,
            "grid_row": null,
            "grid_template_areas": null,
            "grid_template_columns": null,
            "grid_template_rows": null,
            "height": null,
            "justify_content": null,
            "justify_items": null,
            "left": null,
            "margin": null,
            "max_height": null,
            "max_width": null,
            "min_height": null,
            "min_width": null,
            "object_fit": null,
            "object_position": null,
            "order": null,
            "overflow": null,
            "overflow_x": null,
            "overflow_y": null,
            "padding": null,
            "right": null,
            "top": null,
            "visibility": null,
            "width": null
          }
        },
        "675a7aedc5db4b9b813553e9a5820c61": {
          "model_module": "@jupyter-widgets/base",
          "model_name": "LayoutModel",
          "model_module_version": "1.2.0",
          "state": {
            "_model_module": "@jupyter-widgets/base",
            "_model_module_version": "1.2.0",
            "_model_name": "LayoutModel",
            "_view_count": null,
            "_view_module": "@jupyter-widgets/base",
            "_view_module_version": "1.2.0",
            "_view_name": "LayoutView",
            "align_content": null,
            "align_items": null,
            "align_self": null,
            "border": null,
            "bottom": null,
            "display": null,
            "flex": null,
            "flex_flow": null,
            "grid_area": null,
            "grid_auto_columns": null,
            "grid_auto_flow": null,
            "grid_auto_rows": null,
            "grid_column": null,
            "grid_gap": null,
            "grid_row": null,
            "grid_template_areas": null,
            "grid_template_columns": null,
            "grid_template_rows": null,
            "height": null,
            "justify_content": null,
            "justify_items": null,
            "left": null,
            "margin": null,
            "max_height": null,
            "max_width": null,
            "min_height": null,
            "min_width": null,
            "object_fit": null,
            "object_position": null,
            "order": null,
            "overflow": null,
            "overflow_x": null,
            "overflow_y": null,
            "padding": null,
            "right": null,
            "top": null,
            "visibility": null,
            "width": null
          }
        },
        "8110114fc971498c8245b95bdbe36f43": {
          "model_module": "@jupyter-widgets/controls",
          "model_name": "DescriptionStyleModel",
          "model_module_version": "1.5.0",
          "state": {
            "_model_module": "@jupyter-widgets/controls",
            "_model_module_version": "1.5.0",
            "_model_name": "DescriptionStyleModel",
            "_view_count": null,
            "_view_module": "@jupyter-widgets/base",
            "_view_module_version": "1.2.0",
            "_view_name": "StyleView",
            "description_width": ""
          }
        },
        "28b223e9aa1a48be90ba46b7d361469a": {
          "model_module": "@jupyter-widgets/base",
          "model_name": "LayoutModel",
          "model_module_version": "1.2.0",
          "state": {
            "_model_module": "@jupyter-widgets/base",
            "_model_module_version": "1.2.0",
            "_model_name": "LayoutModel",
            "_view_count": null,
            "_view_module": "@jupyter-widgets/base",
            "_view_module_version": "1.2.0",
            "_view_name": "LayoutView",
            "align_content": null,
            "align_items": null,
            "align_self": null,
            "border": null,
            "bottom": null,
            "display": null,
            "flex": null,
            "flex_flow": null,
            "grid_area": null,
            "grid_auto_columns": null,
            "grid_auto_flow": null,
            "grid_auto_rows": null,
            "grid_column": null,
            "grid_gap": null,
            "grid_row": null,
            "grid_template_areas": null,
            "grid_template_columns": null,
            "grid_template_rows": null,
            "height": null,
            "justify_content": null,
            "justify_items": null,
            "left": null,
            "margin": null,
            "max_height": null,
            "max_width": null,
            "min_height": null,
            "min_width": null,
            "object_fit": null,
            "object_position": null,
            "order": null,
            "overflow": null,
            "overflow_x": null,
            "overflow_y": null,
            "padding": null,
            "right": null,
            "top": null,
            "visibility": null,
            "width": null
          }
        },
        "538bd5d1bbd94b6f8285dc2273d81522": {
          "model_module": "@jupyter-widgets/controls",
          "model_name": "ProgressStyleModel",
          "model_module_version": "1.5.0",
          "state": {
            "_model_module": "@jupyter-widgets/controls",
            "_model_module_version": "1.5.0",
            "_model_name": "ProgressStyleModel",
            "_view_count": null,
            "_view_module": "@jupyter-widgets/base",
            "_view_module_version": "1.2.0",
            "_view_name": "StyleView",
            "bar_color": null,
            "description_width": ""
          }
        },
        "a75dae2dd7dd4ad2b85c812a7f88e335": {
          "model_module": "@jupyter-widgets/base",
          "model_name": "LayoutModel",
          "model_module_version": "1.2.0",
          "state": {
            "_model_module": "@jupyter-widgets/base",
            "_model_module_version": "1.2.0",
            "_model_name": "LayoutModel",
            "_view_count": null,
            "_view_module": "@jupyter-widgets/base",
            "_view_module_version": "1.2.0",
            "_view_name": "LayoutView",
            "align_content": null,
            "align_items": null,
            "align_self": null,
            "border": null,
            "bottom": null,
            "display": null,
            "flex": null,
            "flex_flow": null,
            "grid_area": null,
            "grid_auto_columns": null,
            "grid_auto_flow": null,
            "grid_auto_rows": null,
            "grid_column": null,
            "grid_gap": null,
            "grid_row": null,
            "grid_template_areas": null,
            "grid_template_columns": null,
            "grid_template_rows": null,
            "height": null,
            "justify_content": null,
            "justify_items": null,
            "left": null,
            "margin": null,
            "max_height": null,
            "max_width": null,
            "min_height": null,
            "min_width": null,
            "object_fit": null,
            "object_position": null,
            "order": null,
            "overflow": null,
            "overflow_x": null,
            "overflow_y": null,
            "padding": null,
            "right": null,
            "top": null,
            "visibility": null,
            "width": null
          }
        },
        "e230d73ce08e4ea8ae0d8878b7b1d23a": {
          "model_module": "@jupyter-widgets/controls",
          "model_name": "DescriptionStyleModel",
          "model_module_version": "1.5.0",
          "state": {
            "_model_module": "@jupyter-widgets/controls",
            "_model_module_version": "1.5.0",
            "_model_name": "DescriptionStyleModel",
            "_view_count": null,
            "_view_module": "@jupyter-widgets/base",
            "_view_module_version": "1.2.0",
            "_view_name": "StyleView",
            "description_width": ""
          }
        },
        "44829e570ce84294a180a723b2ae5e64": {
          "model_module": "@jupyter-widgets/controls",
          "model_name": "HBoxModel",
          "model_module_version": "1.5.0",
          "state": {
            "_dom_classes": [],
            "_model_module": "@jupyter-widgets/controls",
            "_model_module_version": "1.5.0",
            "_model_name": "HBoxModel",
            "_view_count": null,
            "_view_module": "@jupyter-widgets/controls",
            "_view_module_version": "1.5.0",
            "_view_name": "HBoxView",
            "box_style": "",
            "children": [
              "IPY_MODEL_d0bf5c815c0345229bfbec9afd1872fe",
              "IPY_MODEL_58606c6487344a35bd35c246c1e336e4",
              "IPY_MODEL_6660989b588c41e5a246315c4b5e71b7"
            ],
            "layout": "IPY_MODEL_73af3b315d88476181f8f0e363751d67"
          }
        },
        "d0bf5c815c0345229bfbec9afd1872fe": {
          "model_module": "@jupyter-widgets/controls",
          "model_name": "HTMLModel",
          "model_module_version": "1.5.0",
          "state": {
            "_dom_classes": [],
            "_model_module": "@jupyter-widgets/controls",
            "_model_module_version": "1.5.0",
            "_model_name": "HTMLModel",
            "_view_count": null,
            "_view_module": "@jupyter-widgets/controls",
            "_view_module_version": "1.5.0",
            "_view_name": "HTMLView",
            "description": "",
            "description_tooltip": null,
            "layout": "IPY_MODEL_f749ad3d2ee4437db678b35e19aa1e07",
            "placeholder": "​",
            "style": "IPY_MODEL_604d30ecc30a4e0b893d047b288dec91",
            "value": "tokenizer_config.json: 100%"
          }
        },
        "58606c6487344a35bd35c246c1e336e4": {
          "model_module": "@jupyter-widgets/controls",
          "model_name": "FloatProgressModel",
          "model_module_version": "1.5.0",
          "state": {
            "_dom_classes": [],
            "_model_module": "@jupyter-widgets/controls",
            "_model_module_version": "1.5.0",
            "_model_name": "FloatProgressModel",
            "_view_count": null,
            "_view_module": "@jupyter-widgets/controls",
            "_view_module_version": "1.5.0",
            "_view_name": "ProgressView",
            "bar_style": "success",
            "description": "",
            "description_tooltip": null,
            "layout": "IPY_MODEL_b2b3e4635a0f4913b837fbd08936ed51",
            "max": 26,
            "min": 0,
            "orientation": "horizontal",
            "style": "IPY_MODEL_9f684bb4cace4cceb4444a22ccd03b10",
            "value": 26
          }
        },
        "6660989b588c41e5a246315c4b5e71b7": {
          "model_module": "@jupyter-widgets/controls",
          "model_name": "HTMLModel",
          "model_module_version": "1.5.0",
          "state": {
            "_dom_classes": [],
            "_model_module": "@jupyter-widgets/controls",
            "_model_module_version": "1.5.0",
            "_model_name": "HTMLModel",
            "_view_count": null,
            "_view_module": "@jupyter-widgets/controls",
            "_view_module_version": "1.5.0",
            "_view_name": "HTMLView",
            "description": "",
            "description_tooltip": null,
            "layout": "IPY_MODEL_afaa907a82e14db795530894d3650841",
            "placeholder": "​",
            "style": "IPY_MODEL_035c049536624a43bda33bf6a3bec2bc",
            "value": " 26.0/26.0 [00:00&lt;00:00, 1.56kB/s]"
          }
        },
        "73af3b315d88476181f8f0e363751d67": {
          "model_module": "@jupyter-widgets/base",
          "model_name": "LayoutModel",
          "model_module_version": "1.2.0",
          "state": {
            "_model_module": "@jupyter-widgets/base",
            "_model_module_version": "1.2.0",
            "_model_name": "LayoutModel",
            "_view_count": null,
            "_view_module": "@jupyter-widgets/base",
            "_view_module_version": "1.2.0",
            "_view_name": "LayoutView",
            "align_content": null,
            "align_items": null,
            "align_self": null,
            "border": null,
            "bottom": null,
            "display": null,
            "flex": null,
            "flex_flow": null,
            "grid_area": null,
            "grid_auto_columns": null,
            "grid_auto_flow": null,
            "grid_auto_rows": null,
            "grid_column": null,
            "grid_gap": null,
            "grid_row": null,
            "grid_template_areas": null,
            "grid_template_columns": null,
            "grid_template_rows": null,
            "height": null,
            "justify_content": null,
            "justify_items": null,
            "left": null,
            "margin": null,
            "max_height": null,
            "max_width": null,
            "min_height": null,
            "min_width": null,
            "object_fit": null,
            "object_position": null,
            "order": null,
            "overflow": null,
            "overflow_x": null,
            "overflow_y": null,
            "padding": null,
            "right": null,
            "top": null,
            "visibility": null,
            "width": null
          }
        },
        "f749ad3d2ee4437db678b35e19aa1e07": {
          "model_module": "@jupyter-widgets/base",
          "model_name": "LayoutModel",
          "model_module_version": "1.2.0",
          "state": {
            "_model_module": "@jupyter-widgets/base",
            "_model_module_version": "1.2.0",
            "_model_name": "LayoutModel",
            "_view_count": null,
            "_view_module": "@jupyter-widgets/base",
            "_view_module_version": "1.2.0",
            "_view_name": "LayoutView",
            "align_content": null,
            "align_items": null,
            "align_self": null,
            "border": null,
            "bottom": null,
            "display": null,
            "flex": null,
            "flex_flow": null,
            "grid_area": null,
            "grid_auto_columns": null,
            "grid_auto_flow": null,
            "grid_auto_rows": null,
            "grid_column": null,
            "grid_gap": null,
            "grid_row": null,
            "grid_template_areas": null,
            "grid_template_columns": null,
            "grid_template_rows": null,
            "height": null,
            "justify_content": null,
            "justify_items": null,
            "left": null,
            "margin": null,
            "max_height": null,
            "max_width": null,
            "min_height": null,
            "min_width": null,
            "object_fit": null,
            "object_position": null,
            "order": null,
            "overflow": null,
            "overflow_x": null,
            "overflow_y": null,
            "padding": null,
            "right": null,
            "top": null,
            "visibility": null,
            "width": null
          }
        },
        "604d30ecc30a4e0b893d047b288dec91": {
          "model_module": "@jupyter-widgets/controls",
          "model_name": "DescriptionStyleModel",
          "model_module_version": "1.5.0",
          "state": {
            "_model_module": "@jupyter-widgets/controls",
            "_model_module_version": "1.5.0",
            "_model_name": "DescriptionStyleModel",
            "_view_count": null,
            "_view_module": "@jupyter-widgets/base",
            "_view_module_version": "1.2.0",
            "_view_name": "StyleView",
            "description_width": ""
          }
        },
        "b2b3e4635a0f4913b837fbd08936ed51": {
          "model_module": "@jupyter-widgets/base",
          "model_name": "LayoutModel",
          "model_module_version": "1.2.0",
          "state": {
            "_model_module": "@jupyter-widgets/base",
            "_model_module_version": "1.2.0",
            "_model_name": "LayoutModel",
            "_view_count": null,
            "_view_module": "@jupyter-widgets/base",
            "_view_module_version": "1.2.0",
            "_view_name": "LayoutView",
            "align_content": null,
            "align_items": null,
            "align_self": null,
            "border": null,
            "bottom": null,
            "display": null,
            "flex": null,
            "flex_flow": null,
            "grid_area": null,
            "grid_auto_columns": null,
            "grid_auto_flow": null,
            "grid_auto_rows": null,
            "grid_column": null,
            "grid_gap": null,
            "grid_row": null,
            "grid_template_areas": null,
            "grid_template_columns": null,
            "grid_template_rows": null,
            "height": null,
            "justify_content": null,
            "justify_items": null,
            "left": null,
            "margin": null,
            "max_height": null,
            "max_width": null,
            "min_height": null,
            "min_width": null,
            "object_fit": null,
            "object_position": null,
            "order": null,
            "overflow": null,
            "overflow_x": null,
            "overflow_y": null,
            "padding": null,
            "right": null,
            "top": null,
            "visibility": null,
            "width": null
          }
        },
        "9f684bb4cace4cceb4444a22ccd03b10": {
          "model_module": "@jupyter-widgets/controls",
          "model_name": "ProgressStyleModel",
          "model_module_version": "1.5.0",
          "state": {
            "_model_module": "@jupyter-widgets/controls",
            "_model_module_version": "1.5.0",
            "_model_name": "ProgressStyleModel",
            "_view_count": null,
            "_view_module": "@jupyter-widgets/base",
            "_view_module_version": "1.2.0",
            "_view_name": "StyleView",
            "bar_color": null,
            "description_width": ""
          }
        },
        "afaa907a82e14db795530894d3650841": {
          "model_module": "@jupyter-widgets/base",
          "model_name": "LayoutModel",
          "model_module_version": "1.2.0",
          "state": {
            "_model_module": "@jupyter-widgets/base",
            "_model_module_version": "1.2.0",
            "_model_name": "LayoutModel",
            "_view_count": null,
            "_view_module": "@jupyter-widgets/base",
            "_view_module_version": "1.2.0",
            "_view_name": "LayoutView",
            "align_content": null,
            "align_items": null,
            "align_self": null,
            "border": null,
            "bottom": null,
            "display": null,
            "flex": null,
            "flex_flow": null,
            "grid_area": null,
            "grid_auto_columns": null,
            "grid_auto_flow": null,
            "grid_auto_rows": null,
            "grid_column": null,
            "grid_gap": null,
            "grid_row": null,
            "grid_template_areas": null,
            "grid_template_columns": null,
            "grid_template_rows": null,
            "height": null,
            "justify_content": null,
            "justify_items": null,
            "left": null,
            "margin": null,
            "max_height": null,
            "max_width": null,
            "min_height": null,
            "min_width": null,
            "object_fit": null,
            "object_position": null,
            "order": null,
            "overflow": null,
            "overflow_x": null,
            "overflow_y": null,
            "padding": null,
            "right": null,
            "top": null,
            "visibility": null,
            "width": null
          }
        },
        "035c049536624a43bda33bf6a3bec2bc": {
          "model_module": "@jupyter-widgets/controls",
          "model_name": "DescriptionStyleModel",
          "model_module_version": "1.5.0",
          "state": {
            "_model_module": "@jupyter-widgets/controls",
            "_model_module_version": "1.5.0",
            "_model_name": "DescriptionStyleModel",
            "_view_count": null,
            "_view_module": "@jupyter-widgets/base",
            "_view_module_version": "1.2.0",
            "_view_name": "StyleView",
            "description_width": ""
          }
        },
        "832e49bf52624cdda4ef8ced694c40a5": {
          "model_module": "@jupyter-widgets/controls",
          "model_name": "HBoxModel",
          "model_module_version": "1.5.0",
          "state": {
            "_dom_classes": [],
            "_model_module": "@jupyter-widgets/controls",
            "_model_module_version": "1.5.0",
            "_model_name": "HBoxModel",
            "_view_count": null,
            "_view_module": "@jupyter-widgets/controls",
            "_view_module_version": "1.5.0",
            "_view_name": "HBoxView",
            "box_style": "",
            "children": [
              "IPY_MODEL_defb2701055a4f7daac79a21ea7145b2",
              "IPY_MODEL_0e6ada0056ea4fd5bcba27dc768b2f66",
              "IPY_MODEL_39ca6f525b7e41d9a32f2ff9aac6694f"
            ],
            "layout": "IPY_MODEL_1c709b7683364b5eae5283ce163c4a22"
          }
        },
        "defb2701055a4f7daac79a21ea7145b2": {
          "model_module": "@jupyter-widgets/controls",
          "model_name": "HTMLModel",
          "model_module_version": "1.5.0",
          "state": {
            "_dom_classes": [],
            "_model_module": "@jupyter-widgets/controls",
            "_model_module_version": "1.5.0",
            "_model_name": "HTMLModel",
            "_view_count": null,
            "_view_module": "@jupyter-widgets/controls",
            "_view_module_version": "1.5.0",
            "_view_name": "HTMLView",
            "description": "",
            "description_tooltip": null,
            "layout": "IPY_MODEL_b610444a73b0410da3fd9a7ac36bd41d",
            "placeholder": "​",
            "style": "IPY_MODEL_7ce91df0c90d43a18912075657808547",
            "value": "vocab.json: 100%"
          }
        },
        "0e6ada0056ea4fd5bcba27dc768b2f66": {
          "model_module": "@jupyter-widgets/controls",
          "model_name": "FloatProgressModel",
          "model_module_version": "1.5.0",
          "state": {
            "_dom_classes": [],
            "_model_module": "@jupyter-widgets/controls",
            "_model_module_version": "1.5.0",
            "_model_name": "FloatProgressModel",
            "_view_count": null,
            "_view_module": "@jupyter-widgets/controls",
            "_view_module_version": "1.5.0",
            "_view_name": "ProgressView",
            "bar_style": "success",
            "description": "",
            "description_tooltip": null,
            "layout": "IPY_MODEL_eb7e12b95cff4998b5f2d483d0ad0189",
            "max": 1042301,
            "min": 0,
            "orientation": "horizontal",
            "style": "IPY_MODEL_087361ac646548b8996506fe76f0da74",
            "value": 1042301
          }
        },
        "39ca6f525b7e41d9a32f2ff9aac6694f": {
          "model_module": "@jupyter-widgets/controls",
          "model_name": "HTMLModel",
          "model_module_version": "1.5.0",
          "state": {
            "_dom_classes": [],
            "_model_module": "@jupyter-widgets/controls",
            "_model_module_version": "1.5.0",
            "_model_name": "HTMLModel",
            "_view_count": null,
            "_view_module": "@jupyter-widgets/controls",
            "_view_module_version": "1.5.0",
            "_view_name": "HTMLView",
            "description": "",
            "description_tooltip": null,
            "layout": "IPY_MODEL_1b2bc9397c764bc18daaacfbca8e6b24",
            "placeholder": "​",
            "style": "IPY_MODEL_05470711ee094acaa35cf23d58e242c2",
            "value": " 1.04M/1.04M [00:00&lt;00:00, 1.33MB/s]"
          }
        },
        "1c709b7683364b5eae5283ce163c4a22": {
          "model_module": "@jupyter-widgets/base",
          "model_name": "LayoutModel",
          "model_module_version": "1.2.0",
          "state": {
            "_model_module": "@jupyter-widgets/base",
            "_model_module_version": "1.2.0",
            "_model_name": "LayoutModel",
            "_view_count": null,
            "_view_module": "@jupyter-widgets/base",
            "_view_module_version": "1.2.0",
            "_view_name": "LayoutView",
            "align_content": null,
            "align_items": null,
            "align_self": null,
            "border": null,
            "bottom": null,
            "display": null,
            "flex": null,
            "flex_flow": null,
            "grid_area": null,
            "grid_auto_columns": null,
            "grid_auto_flow": null,
            "grid_auto_rows": null,
            "grid_column": null,
            "grid_gap": null,
            "grid_row": null,
            "grid_template_areas": null,
            "grid_template_columns": null,
            "grid_template_rows": null,
            "height": null,
            "justify_content": null,
            "justify_items": null,
            "left": null,
            "margin": null,
            "max_height": null,
            "max_width": null,
            "min_height": null,
            "min_width": null,
            "object_fit": null,
            "object_position": null,
            "order": null,
            "overflow": null,
            "overflow_x": null,
            "overflow_y": null,
            "padding": null,
            "right": null,
            "top": null,
            "visibility": null,
            "width": null
          }
        },
        "b610444a73b0410da3fd9a7ac36bd41d": {
          "model_module": "@jupyter-widgets/base",
          "model_name": "LayoutModel",
          "model_module_version": "1.2.0",
          "state": {
            "_model_module": "@jupyter-widgets/base",
            "_model_module_version": "1.2.0",
            "_model_name": "LayoutModel",
            "_view_count": null,
            "_view_module": "@jupyter-widgets/base",
            "_view_module_version": "1.2.0",
            "_view_name": "LayoutView",
            "align_content": null,
            "align_items": null,
            "align_self": null,
            "border": null,
            "bottom": null,
            "display": null,
            "flex": null,
            "flex_flow": null,
            "grid_area": null,
            "grid_auto_columns": null,
            "grid_auto_flow": null,
            "grid_auto_rows": null,
            "grid_column": null,
            "grid_gap": null,
            "grid_row": null,
            "grid_template_areas": null,
            "grid_template_columns": null,
            "grid_template_rows": null,
            "height": null,
            "justify_content": null,
            "justify_items": null,
            "left": null,
            "margin": null,
            "max_height": null,
            "max_width": null,
            "min_height": null,
            "min_width": null,
            "object_fit": null,
            "object_position": null,
            "order": null,
            "overflow": null,
            "overflow_x": null,
            "overflow_y": null,
            "padding": null,
            "right": null,
            "top": null,
            "visibility": null,
            "width": null
          }
        },
        "7ce91df0c90d43a18912075657808547": {
          "model_module": "@jupyter-widgets/controls",
          "model_name": "DescriptionStyleModel",
          "model_module_version": "1.5.0",
          "state": {
            "_model_module": "@jupyter-widgets/controls",
            "_model_module_version": "1.5.0",
            "_model_name": "DescriptionStyleModel",
            "_view_count": null,
            "_view_module": "@jupyter-widgets/base",
            "_view_module_version": "1.2.0",
            "_view_name": "StyleView",
            "description_width": ""
          }
        },
        "eb7e12b95cff4998b5f2d483d0ad0189": {
          "model_module": "@jupyter-widgets/base",
          "model_name": "LayoutModel",
          "model_module_version": "1.2.0",
          "state": {
            "_model_module": "@jupyter-widgets/base",
            "_model_module_version": "1.2.0",
            "_model_name": "LayoutModel",
            "_view_count": null,
            "_view_module": "@jupyter-widgets/base",
            "_view_module_version": "1.2.0",
            "_view_name": "LayoutView",
            "align_content": null,
            "align_items": null,
            "align_self": null,
            "border": null,
            "bottom": null,
            "display": null,
            "flex": null,
            "flex_flow": null,
            "grid_area": null,
            "grid_auto_columns": null,
            "grid_auto_flow": null,
            "grid_auto_rows": null,
            "grid_column": null,
            "grid_gap": null,
            "grid_row": null,
            "grid_template_areas": null,
            "grid_template_columns": null,
            "grid_template_rows": null,
            "height": null,
            "justify_content": null,
            "justify_items": null,
            "left": null,
            "margin": null,
            "max_height": null,
            "max_width": null,
            "min_height": null,
            "min_width": null,
            "object_fit": null,
            "object_position": null,
            "order": null,
            "overflow": null,
            "overflow_x": null,
            "overflow_y": null,
            "padding": null,
            "right": null,
            "top": null,
            "visibility": null,
            "width": null
          }
        },
        "087361ac646548b8996506fe76f0da74": {
          "model_module": "@jupyter-widgets/controls",
          "model_name": "ProgressStyleModel",
          "model_module_version": "1.5.0",
          "state": {
            "_model_module": "@jupyter-widgets/controls",
            "_model_module_version": "1.5.0",
            "_model_name": "ProgressStyleModel",
            "_view_count": null,
            "_view_module": "@jupyter-widgets/base",
            "_view_module_version": "1.2.0",
            "_view_name": "StyleView",
            "bar_color": null,
            "description_width": ""
          }
        },
        "1b2bc9397c764bc18daaacfbca8e6b24": {
          "model_module": "@jupyter-widgets/base",
          "model_name": "LayoutModel",
          "model_module_version": "1.2.0",
          "state": {
            "_model_module": "@jupyter-widgets/base",
            "_model_module_version": "1.2.0",
            "_model_name": "LayoutModel",
            "_view_count": null,
            "_view_module": "@jupyter-widgets/base",
            "_view_module_version": "1.2.0",
            "_view_name": "LayoutView",
            "align_content": null,
            "align_items": null,
            "align_self": null,
            "border": null,
            "bottom": null,
            "display": null,
            "flex": null,
            "flex_flow": null,
            "grid_area": null,
            "grid_auto_columns": null,
            "grid_auto_flow": null,
            "grid_auto_rows": null,
            "grid_column": null,
            "grid_gap": null,
            "grid_row": null,
            "grid_template_areas": null,
            "grid_template_columns": null,
            "grid_template_rows": null,
            "height": null,
            "justify_content": null,
            "justify_items": null,
            "left": null,
            "margin": null,
            "max_height": null,
            "max_width": null,
            "min_height": null,
            "min_width": null,
            "object_fit": null,
            "object_position": null,
            "order": null,
            "overflow": null,
            "overflow_x": null,
            "overflow_y": null,
            "padding": null,
            "right": null,
            "top": null,
            "visibility": null,
            "width": null
          }
        },
        "05470711ee094acaa35cf23d58e242c2": {
          "model_module": "@jupyter-widgets/controls",
          "model_name": "DescriptionStyleModel",
          "model_module_version": "1.5.0",
          "state": {
            "_model_module": "@jupyter-widgets/controls",
            "_model_module_version": "1.5.0",
            "_model_name": "DescriptionStyleModel",
            "_view_count": null,
            "_view_module": "@jupyter-widgets/base",
            "_view_module_version": "1.2.0",
            "_view_name": "StyleView",
            "description_width": ""
          }
        },
        "b1672f4a7ab54dd58dc918ba59ff2aa0": {
          "model_module": "@jupyter-widgets/controls",
          "model_name": "HBoxModel",
          "model_module_version": "1.5.0",
          "state": {
            "_dom_classes": [],
            "_model_module": "@jupyter-widgets/controls",
            "_model_module_version": "1.5.0",
            "_model_name": "HBoxModel",
            "_view_count": null,
            "_view_module": "@jupyter-widgets/controls",
            "_view_module_version": "1.5.0",
            "_view_name": "HBoxView",
            "box_style": "",
            "children": [
              "IPY_MODEL_a3fa3a52a0dc425d8f4bff8996050df6",
              "IPY_MODEL_ef05f30d091049079d1006dcafcb6e7e",
              "IPY_MODEL_4d4856a7666c4744b43f8fee6626f48f"
            ],
            "layout": "IPY_MODEL_d063c03078844113816d3ba7d4528884"
          }
        },
        "a3fa3a52a0dc425d8f4bff8996050df6": {
          "model_module": "@jupyter-widgets/controls",
          "model_name": "HTMLModel",
          "model_module_version": "1.5.0",
          "state": {
            "_dom_classes": [],
            "_model_module": "@jupyter-widgets/controls",
            "_model_module_version": "1.5.0",
            "_model_name": "HTMLModel",
            "_view_count": null,
            "_view_module": "@jupyter-widgets/controls",
            "_view_module_version": "1.5.0",
            "_view_name": "HTMLView",
            "description": "",
            "description_tooltip": null,
            "layout": "IPY_MODEL_6fca89e01f1b4ac5be81ce82dc52ec73",
            "placeholder": "​",
            "style": "IPY_MODEL_415bec2c4a4b4e1e9467acc8fcfb3026",
            "value": "merges.txt: 100%"
          }
        },
        "ef05f30d091049079d1006dcafcb6e7e": {
          "model_module": "@jupyter-widgets/controls",
          "model_name": "FloatProgressModel",
          "model_module_version": "1.5.0",
          "state": {
            "_dom_classes": [],
            "_model_module": "@jupyter-widgets/controls",
            "_model_module_version": "1.5.0",
            "_model_name": "FloatProgressModel",
            "_view_count": null,
            "_view_module": "@jupyter-widgets/controls",
            "_view_module_version": "1.5.0",
            "_view_name": "ProgressView",
            "bar_style": "success",
            "description": "",
            "description_tooltip": null,
            "layout": "IPY_MODEL_33ab9dd935bb435f9d3e1eb089a3cce0",
            "max": 456318,
            "min": 0,
            "orientation": "horizontal",
            "style": "IPY_MODEL_35ec2d81af954829bba1113e9dff1d42",
            "value": 456318
          }
        },
        "4d4856a7666c4744b43f8fee6626f48f": {
          "model_module": "@jupyter-widgets/controls",
          "model_name": "HTMLModel",
          "model_module_version": "1.5.0",
          "state": {
            "_dom_classes": [],
            "_model_module": "@jupyter-widgets/controls",
            "_model_module_version": "1.5.0",
            "_model_name": "HTMLModel",
            "_view_count": null,
            "_view_module": "@jupyter-widgets/controls",
            "_view_module_version": "1.5.0",
            "_view_name": "HTMLView",
            "description": "",
            "description_tooltip": null,
            "layout": "IPY_MODEL_dca1a1b1de47443f9e70c6509ef7d566",
            "placeholder": "​",
            "style": "IPY_MODEL_eef1173b8ef34f4a935c151935916a6f",
            "value": " 456k/456k [00:00&lt;00:00, 1.20MB/s]"
          }
        },
        "d063c03078844113816d3ba7d4528884": {
          "model_module": "@jupyter-widgets/base",
          "model_name": "LayoutModel",
          "model_module_version": "1.2.0",
          "state": {
            "_model_module": "@jupyter-widgets/base",
            "_model_module_version": "1.2.0",
            "_model_name": "LayoutModel",
            "_view_count": null,
            "_view_module": "@jupyter-widgets/base",
            "_view_module_version": "1.2.0",
            "_view_name": "LayoutView",
            "align_content": null,
            "align_items": null,
            "align_self": null,
            "border": null,
            "bottom": null,
            "display": null,
            "flex": null,
            "flex_flow": null,
            "grid_area": null,
            "grid_auto_columns": null,
            "grid_auto_flow": null,
            "grid_auto_rows": null,
            "grid_column": null,
            "grid_gap": null,
            "grid_row": null,
            "grid_template_areas": null,
            "grid_template_columns": null,
            "grid_template_rows": null,
            "height": null,
            "justify_content": null,
            "justify_items": null,
            "left": null,
            "margin": null,
            "max_height": null,
            "max_width": null,
            "min_height": null,
            "min_width": null,
            "object_fit": null,
            "object_position": null,
            "order": null,
            "overflow": null,
            "overflow_x": null,
            "overflow_y": null,
            "padding": null,
            "right": null,
            "top": null,
            "visibility": null,
            "width": null
          }
        },
        "6fca89e01f1b4ac5be81ce82dc52ec73": {
          "model_module": "@jupyter-widgets/base",
          "model_name": "LayoutModel",
          "model_module_version": "1.2.0",
          "state": {
            "_model_module": "@jupyter-widgets/base",
            "_model_module_version": "1.2.0",
            "_model_name": "LayoutModel",
            "_view_count": null,
            "_view_module": "@jupyter-widgets/base",
            "_view_module_version": "1.2.0",
            "_view_name": "LayoutView",
            "align_content": null,
            "align_items": null,
            "align_self": null,
            "border": null,
            "bottom": null,
            "display": null,
            "flex": null,
            "flex_flow": null,
            "grid_area": null,
            "grid_auto_columns": null,
            "grid_auto_flow": null,
            "grid_auto_rows": null,
            "grid_column": null,
            "grid_gap": null,
            "grid_row": null,
            "grid_template_areas": null,
            "grid_template_columns": null,
            "grid_template_rows": null,
            "height": null,
            "justify_content": null,
            "justify_items": null,
            "left": null,
            "margin": null,
            "max_height": null,
            "max_width": null,
            "min_height": null,
            "min_width": null,
            "object_fit": null,
            "object_position": null,
            "order": null,
            "overflow": null,
            "overflow_x": null,
            "overflow_y": null,
            "padding": null,
            "right": null,
            "top": null,
            "visibility": null,
            "width": null
          }
        },
        "415bec2c4a4b4e1e9467acc8fcfb3026": {
          "model_module": "@jupyter-widgets/controls",
          "model_name": "DescriptionStyleModel",
          "model_module_version": "1.5.0",
          "state": {
            "_model_module": "@jupyter-widgets/controls",
            "_model_module_version": "1.5.0",
            "_model_name": "DescriptionStyleModel",
            "_view_count": null,
            "_view_module": "@jupyter-widgets/base",
            "_view_module_version": "1.2.0",
            "_view_name": "StyleView",
            "description_width": ""
          }
        },
        "33ab9dd935bb435f9d3e1eb089a3cce0": {
          "model_module": "@jupyter-widgets/base",
          "model_name": "LayoutModel",
          "model_module_version": "1.2.0",
          "state": {
            "_model_module": "@jupyter-widgets/base",
            "_model_module_version": "1.2.0",
            "_model_name": "LayoutModel",
            "_view_count": null,
            "_view_module": "@jupyter-widgets/base",
            "_view_module_version": "1.2.0",
            "_view_name": "LayoutView",
            "align_content": null,
            "align_items": null,
            "align_self": null,
            "border": null,
            "bottom": null,
            "display": null,
            "flex": null,
            "flex_flow": null,
            "grid_area": null,
            "grid_auto_columns": null,
            "grid_auto_flow": null,
            "grid_auto_rows": null,
            "grid_column": null,
            "grid_gap": null,
            "grid_row": null,
            "grid_template_areas": null,
            "grid_template_columns": null,
            "grid_template_rows": null,
            "height": null,
            "justify_content": null,
            "justify_items": null,
            "left": null,
            "margin": null,
            "max_height": null,
            "max_width": null,
            "min_height": null,
            "min_width": null,
            "object_fit": null,
            "object_position": null,
            "order": null,
            "overflow": null,
            "overflow_x": null,
            "overflow_y": null,
            "padding": null,
            "right": null,
            "top": null,
            "visibility": null,
            "width": null
          }
        },
        "35ec2d81af954829bba1113e9dff1d42": {
          "model_module": "@jupyter-widgets/controls",
          "model_name": "ProgressStyleModel",
          "model_module_version": "1.5.0",
          "state": {
            "_model_module": "@jupyter-widgets/controls",
            "_model_module_version": "1.5.0",
            "_model_name": "ProgressStyleModel",
            "_view_count": null,
            "_view_module": "@jupyter-widgets/base",
            "_view_module_version": "1.2.0",
            "_view_name": "StyleView",
            "bar_color": null,
            "description_width": ""
          }
        },
        "dca1a1b1de47443f9e70c6509ef7d566": {
          "model_module": "@jupyter-widgets/base",
          "model_name": "LayoutModel",
          "model_module_version": "1.2.0",
          "state": {
            "_model_module": "@jupyter-widgets/base",
            "_model_module_version": "1.2.0",
            "_model_name": "LayoutModel",
            "_view_count": null,
            "_view_module": "@jupyter-widgets/base",
            "_view_module_version": "1.2.0",
            "_view_name": "LayoutView",
            "align_content": null,
            "align_items": null,
            "align_self": null,
            "border": null,
            "bottom": null,
            "display": null,
            "flex": null,
            "flex_flow": null,
            "grid_area": null,
            "grid_auto_columns": null,
            "grid_auto_flow": null,
            "grid_auto_rows": null,
            "grid_column": null,
            "grid_gap": null,
            "grid_row": null,
            "grid_template_areas": null,
            "grid_template_columns": null,
            "grid_template_rows": null,
            "height": null,
            "justify_content": null,
            "justify_items": null,
            "left": null,
            "margin": null,
            "max_height": null,
            "max_width": null,
            "min_height": null,
            "min_width": null,
            "object_fit": null,
            "object_position": null,
            "order": null,
            "overflow": null,
            "overflow_x": null,
            "overflow_y": null,
            "padding": null,
            "right": null,
            "top": null,
            "visibility": null,
            "width": null
          }
        },
        "eef1173b8ef34f4a935c151935916a6f": {
          "model_module": "@jupyter-widgets/controls",
          "model_name": "DescriptionStyleModel",
          "model_module_version": "1.5.0",
          "state": {
            "_model_module": "@jupyter-widgets/controls",
            "_model_module_version": "1.5.0",
            "_model_name": "DescriptionStyleModel",
            "_view_count": null,
            "_view_module": "@jupyter-widgets/base",
            "_view_module_version": "1.2.0",
            "_view_name": "StyleView",
            "description_width": ""
          }
        },
        "b58eda124a1745868eeee984847e536b": {
          "model_module": "@jupyter-widgets/controls",
          "model_name": "HBoxModel",
          "model_module_version": "1.5.0",
          "state": {
            "_dom_classes": [],
            "_model_module": "@jupyter-widgets/controls",
            "_model_module_version": "1.5.0",
            "_model_name": "HBoxModel",
            "_view_count": null,
            "_view_module": "@jupyter-widgets/controls",
            "_view_module_version": "1.5.0",
            "_view_name": "HBoxView",
            "box_style": "",
            "children": [
              "IPY_MODEL_080f4f1f23b74499a6f2a7f07b173486",
              "IPY_MODEL_c88bd70c29ce4ae19e6f4dcbccf48145",
              "IPY_MODEL_e8c724ae24f642a78c80aafcef07b822"
            ],
            "layout": "IPY_MODEL_d21f3bb41bc64e59946b134d9e2c555c"
          }
        },
        "080f4f1f23b74499a6f2a7f07b173486": {
          "model_module": "@jupyter-widgets/controls",
          "model_name": "HTMLModel",
          "model_module_version": "1.5.0",
          "state": {
            "_dom_classes": [],
            "_model_module": "@jupyter-widgets/controls",
            "_model_module_version": "1.5.0",
            "_model_name": "HTMLModel",
            "_view_count": null,
            "_view_module": "@jupyter-widgets/controls",
            "_view_module_version": "1.5.0",
            "_view_name": "HTMLView",
            "description": "",
            "description_tooltip": null,
            "layout": "IPY_MODEL_60124841bf884ffb903ecea4e3b6d01d",
            "placeholder": "​",
            "style": "IPY_MODEL_81331a0c377e44e79a8e0097152dcb67",
            "value": "tokenizer.json: 100%"
          }
        },
        "c88bd70c29ce4ae19e6f4dcbccf48145": {
          "model_module": "@jupyter-widgets/controls",
          "model_name": "FloatProgressModel",
          "model_module_version": "1.5.0",
          "state": {
            "_dom_classes": [],
            "_model_module": "@jupyter-widgets/controls",
            "_model_module_version": "1.5.0",
            "_model_name": "FloatProgressModel",
            "_view_count": null,
            "_view_module": "@jupyter-widgets/controls",
            "_view_module_version": "1.5.0",
            "_view_name": "ProgressView",
            "bar_style": "success",
            "description": "",
            "description_tooltip": null,
            "layout": "IPY_MODEL_00ab7f13a4fb4b32b95a87afc90006a5",
            "max": 1355256,
            "min": 0,
            "orientation": "horizontal",
            "style": "IPY_MODEL_e3c3e1163fd74acdbfecb92bc5b6f8de",
            "value": 1355256
          }
        },
        "e8c724ae24f642a78c80aafcef07b822": {
          "model_module": "@jupyter-widgets/controls",
          "model_name": "HTMLModel",
          "model_module_version": "1.5.0",
          "state": {
            "_dom_classes": [],
            "_model_module": "@jupyter-widgets/controls",
            "_model_module_version": "1.5.0",
            "_model_name": "HTMLModel",
            "_view_count": null,
            "_view_module": "@jupyter-widgets/controls",
            "_view_module_version": "1.5.0",
            "_view_name": "HTMLView",
            "description": "",
            "description_tooltip": null,
            "layout": "IPY_MODEL_063c350bf7cc437e8dcb7516093cda1b",
            "placeholder": "​",
            "style": "IPY_MODEL_fcd47c1c6db3404a8cc8842882657a0f",
            "value": " 1.36M/1.36M [00:03&lt;00:00, 386kB/s]"
          }
        },
        "d21f3bb41bc64e59946b134d9e2c555c": {
          "model_module": "@jupyter-widgets/base",
          "model_name": "LayoutModel",
          "model_module_version": "1.2.0",
          "state": {
            "_model_module": "@jupyter-widgets/base",
            "_model_module_version": "1.2.0",
            "_model_name": "LayoutModel",
            "_view_count": null,
            "_view_module": "@jupyter-widgets/base",
            "_view_module_version": "1.2.0",
            "_view_name": "LayoutView",
            "align_content": null,
            "align_items": null,
            "align_self": null,
            "border": null,
            "bottom": null,
            "display": null,
            "flex": null,
            "flex_flow": null,
            "grid_area": null,
            "grid_auto_columns": null,
            "grid_auto_flow": null,
            "grid_auto_rows": null,
            "grid_column": null,
            "grid_gap": null,
            "grid_row": null,
            "grid_template_areas": null,
            "grid_template_columns": null,
            "grid_template_rows": null,
            "height": null,
            "justify_content": null,
            "justify_items": null,
            "left": null,
            "margin": null,
            "max_height": null,
            "max_width": null,
            "min_height": null,
            "min_width": null,
            "object_fit": null,
            "object_position": null,
            "order": null,
            "overflow": null,
            "overflow_x": null,
            "overflow_y": null,
            "padding": null,
            "right": null,
            "top": null,
            "visibility": null,
            "width": null
          }
        },
        "60124841bf884ffb903ecea4e3b6d01d": {
          "model_module": "@jupyter-widgets/base",
          "model_name": "LayoutModel",
          "model_module_version": "1.2.0",
          "state": {
            "_model_module": "@jupyter-widgets/base",
            "_model_module_version": "1.2.0",
            "_model_name": "LayoutModel",
            "_view_count": null,
            "_view_module": "@jupyter-widgets/base",
            "_view_module_version": "1.2.0",
            "_view_name": "LayoutView",
            "align_content": null,
            "align_items": null,
            "align_self": null,
            "border": null,
            "bottom": null,
            "display": null,
            "flex": null,
            "flex_flow": null,
            "grid_area": null,
            "grid_auto_columns": null,
            "grid_auto_flow": null,
            "grid_auto_rows": null,
            "grid_column": null,
            "grid_gap": null,
            "grid_row": null,
            "grid_template_areas": null,
            "grid_template_columns": null,
            "grid_template_rows": null,
            "height": null,
            "justify_content": null,
            "justify_items": null,
            "left": null,
            "margin": null,
            "max_height": null,
            "max_width": null,
            "min_height": null,
            "min_width": null,
            "object_fit": null,
            "object_position": null,
            "order": null,
            "overflow": null,
            "overflow_x": null,
            "overflow_y": null,
            "padding": null,
            "right": null,
            "top": null,
            "visibility": null,
            "width": null
          }
        },
        "81331a0c377e44e79a8e0097152dcb67": {
          "model_module": "@jupyter-widgets/controls",
          "model_name": "DescriptionStyleModel",
          "model_module_version": "1.5.0",
          "state": {
            "_model_module": "@jupyter-widgets/controls",
            "_model_module_version": "1.5.0",
            "_model_name": "DescriptionStyleModel",
            "_view_count": null,
            "_view_module": "@jupyter-widgets/base",
            "_view_module_version": "1.2.0",
            "_view_name": "StyleView",
            "description_width": ""
          }
        },
        "00ab7f13a4fb4b32b95a87afc90006a5": {
          "model_module": "@jupyter-widgets/base",
          "model_name": "LayoutModel",
          "model_module_version": "1.2.0",
          "state": {
            "_model_module": "@jupyter-widgets/base",
            "_model_module_version": "1.2.0",
            "_model_name": "LayoutModel",
            "_view_count": null,
            "_view_module": "@jupyter-widgets/base",
            "_view_module_version": "1.2.0",
            "_view_name": "LayoutView",
            "align_content": null,
            "align_items": null,
            "align_self": null,
            "border": null,
            "bottom": null,
            "display": null,
            "flex": null,
            "flex_flow": null,
            "grid_area": null,
            "grid_auto_columns": null,
            "grid_auto_flow": null,
            "grid_auto_rows": null,
            "grid_column": null,
            "grid_gap": null,
            "grid_row": null,
            "grid_template_areas": null,
            "grid_template_columns": null,
            "grid_template_rows": null,
            "height": null,
            "justify_content": null,
            "justify_items": null,
            "left": null,
            "margin": null,
            "max_height": null,
            "max_width": null,
            "min_height": null,
            "min_width": null,
            "object_fit": null,
            "object_position": null,
            "order": null,
            "overflow": null,
            "overflow_x": null,
            "overflow_y": null,
            "padding": null,
            "right": null,
            "top": null,
            "visibility": null,
            "width": null
          }
        },
        "e3c3e1163fd74acdbfecb92bc5b6f8de": {
          "model_module": "@jupyter-widgets/controls",
          "model_name": "ProgressStyleModel",
          "model_module_version": "1.5.0",
          "state": {
            "_model_module": "@jupyter-widgets/controls",
            "_model_module_version": "1.5.0",
            "_model_name": "ProgressStyleModel",
            "_view_count": null,
            "_view_module": "@jupyter-widgets/base",
            "_view_module_version": "1.2.0",
            "_view_name": "StyleView",
            "bar_color": null,
            "description_width": ""
          }
        },
        "063c350bf7cc437e8dcb7516093cda1b": {
          "model_module": "@jupyter-widgets/base",
          "model_name": "LayoutModel",
          "model_module_version": "1.2.0",
          "state": {
            "_model_module": "@jupyter-widgets/base",
            "_model_module_version": "1.2.0",
            "_model_name": "LayoutModel",
            "_view_count": null,
            "_view_module": "@jupyter-widgets/base",
            "_view_module_version": "1.2.0",
            "_view_name": "LayoutView",
            "align_content": null,
            "align_items": null,
            "align_self": null,
            "border": null,
            "bottom": null,
            "display": null,
            "flex": null,
            "flex_flow": null,
            "grid_area": null,
            "grid_auto_columns": null,
            "grid_auto_flow": null,
            "grid_auto_rows": null,
            "grid_column": null,
            "grid_gap": null,
            "grid_row": null,
            "grid_template_areas": null,
            "grid_template_columns": null,
            "grid_template_rows": null,
            "height": null,
            "justify_content": null,
            "justify_items": null,
            "left": null,
            "margin": null,
            "max_height": null,
            "max_width": null,
            "min_height": null,
            "min_width": null,
            "object_fit": null,
            "object_position": null,
            "order": null,
            "overflow": null,
            "overflow_x": null,
            "overflow_y": null,
            "padding": null,
            "right": null,
            "top": null,
            "visibility": null,
            "width": null
          }
        },
        "fcd47c1c6db3404a8cc8842882657a0f": {
          "model_module": "@jupyter-widgets/controls",
          "model_name": "DescriptionStyleModel",
          "model_module_version": "1.5.0",
          "state": {
            "_model_module": "@jupyter-widgets/controls",
            "_model_module_version": "1.5.0",
            "_model_name": "DescriptionStyleModel",
            "_view_count": null,
            "_view_module": "@jupyter-widgets/base",
            "_view_module_version": "1.2.0",
            "_view_name": "StyleView",
            "description_width": ""
          }
        },
        "97f1dd0b6a2e484ab3c0b78e475c3600": {
          "model_module": "@jupyter-widgets/controls",
          "model_name": "HBoxModel",
          "model_module_version": "1.5.0",
          "state": {
            "_dom_classes": [],
            "_model_module": "@jupyter-widgets/controls",
            "_model_module_version": "1.5.0",
            "_model_name": "HBoxModel",
            "_view_count": null,
            "_view_module": "@jupyter-widgets/controls",
            "_view_module_version": "1.5.0",
            "_view_name": "HBoxView",
            "box_style": "",
            "children": [
              "IPY_MODEL_46b8394a705446659604d7082fa8166c",
              "IPY_MODEL_f46bd30d328d415fb290a7348c0a8d95",
              "IPY_MODEL_44eacbfed00e49238411a6b714fe8415"
            ],
            "layout": "IPY_MODEL_ccef6a69efc64e7b96081716b4cf73ed"
          }
        },
        "46b8394a705446659604d7082fa8166c": {
          "model_module": "@jupyter-widgets/controls",
          "model_name": "HTMLModel",
          "model_module_version": "1.5.0",
          "state": {
            "_dom_classes": [],
            "_model_module": "@jupyter-widgets/controls",
            "_model_module_version": "1.5.0",
            "_model_name": "HTMLModel",
            "_view_count": null,
            "_view_module": "@jupyter-widgets/controls",
            "_view_module_version": "1.5.0",
            "_view_name": "HTMLView",
            "description": "",
            "description_tooltip": null,
            "layout": "IPY_MODEL_3e098c72eedc4af5b4072fb31a73347b",
            "placeholder": "​",
            "style": "IPY_MODEL_c5f30b7494274883a3ec124bc3d82e14",
            "value": "config.json: 100%"
          }
        },
        "f46bd30d328d415fb290a7348c0a8d95": {
          "model_module": "@jupyter-widgets/controls",
          "model_name": "FloatProgressModel",
          "model_module_version": "1.5.0",
          "state": {
            "_dom_classes": [],
            "_model_module": "@jupyter-widgets/controls",
            "_model_module_version": "1.5.0",
            "_model_name": "FloatProgressModel",
            "_view_count": null,
            "_view_module": "@jupyter-widgets/controls",
            "_view_module_version": "1.5.0",
            "_view_name": "ProgressView",
            "bar_style": "success",
            "description": "",
            "description_tooltip": null,
            "layout": "IPY_MODEL_a42b4ed4c2b7489aa93d4bcb4fd222e7",
            "max": 665,
            "min": 0,
            "orientation": "horizontal",
            "style": "IPY_MODEL_f5d3c677e1454f53b80a1e7b883fcf26",
            "value": 665
          }
        },
        "44eacbfed00e49238411a6b714fe8415": {
          "model_module": "@jupyter-widgets/controls",
          "model_name": "HTMLModel",
          "model_module_version": "1.5.0",
          "state": {
            "_dom_classes": [],
            "_model_module": "@jupyter-widgets/controls",
            "_model_module_version": "1.5.0",
            "_model_name": "HTMLModel",
            "_view_count": null,
            "_view_module": "@jupyter-widgets/controls",
            "_view_module_version": "1.5.0",
            "_view_name": "HTMLView",
            "description": "",
            "description_tooltip": null,
            "layout": "IPY_MODEL_f2d0de67f7684b9bab30f1b8b2dca24c",
            "placeholder": "​",
            "style": "IPY_MODEL_c45f9fa2fe81482e8abd0d70f862b329",
            "value": " 665/665 [00:00&lt;00:00, 47.9kB/s]"
          }
        },
        "ccef6a69efc64e7b96081716b4cf73ed": {
          "model_module": "@jupyter-widgets/base",
          "model_name": "LayoutModel",
          "model_module_version": "1.2.0",
          "state": {
            "_model_module": "@jupyter-widgets/base",
            "_model_module_version": "1.2.0",
            "_model_name": "LayoutModel",
            "_view_count": null,
            "_view_module": "@jupyter-widgets/base",
            "_view_module_version": "1.2.0",
            "_view_name": "LayoutView",
            "align_content": null,
            "align_items": null,
            "align_self": null,
            "border": null,
            "bottom": null,
            "display": null,
            "flex": null,
            "flex_flow": null,
            "grid_area": null,
            "grid_auto_columns": null,
            "grid_auto_flow": null,
            "grid_auto_rows": null,
            "grid_column": null,
            "grid_gap": null,
            "grid_row": null,
            "grid_template_areas": null,
            "grid_template_columns": null,
            "grid_template_rows": null,
            "height": null,
            "justify_content": null,
            "justify_items": null,
            "left": null,
            "margin": null,
            "max_height": null,
            "max_width": null,
            "min_height": null,
            "min_width": null,
            "object_fit": null,
            "object_position": null,
            "order": null,
            "overflow": null,
            "overflow_x": null,
            "overflow_y": null,
            "padding": null,
            "right": null,
            "top": null,
            "visibility": null,
            "width": null
          }
        },
        "3e098c72eedc4af5b4072fb31a73347b": {
          "model_module": "@jupyter-widgets/base",
          "model_name": "LayoutModel",
          "model_module_version": "1.2.0",
          "state": {
            "_model_module": "@jupyter-widgets/base",
            "_model_module_version": "1.2.0",
            "_model_name": "LayoutModel",
            "_view_count": null,
            "_view_module": "@jupyter-widgets/base",
            "_view_module_version": "1.2.0",
            "_view_name": "LayoutView",
            "align_content": null,
            "align_items": null,
            "align_self": null,
            "border": null,
            "bottom": null,
            "display": null,
            "flex": null,
            "flex_flow": null,
            "grid_area": null,
            "grid_auto_columns": null,
            "grid_auto_flow": null,
            "grid_auto_rows": null,
            "grid_column": null,
            "grid_gap": null,
            "grid_row": null,
            "grid_template_areas": null,
            "grid_template_columns": null,
            "grid_template_rows": null,
            "height": null,
            "justify_content": null,
            "justify_items": null,
            "left": null,
            "margin": null,
            "max_height": null,
            "max_width": null,
            "min_height": null,
            "min_width": null,
            "object_fit": null,
            "object_position": null,
            "order": null,
            "overflow": null,
            "overflow_x": null,
            "overflow_y": null,
            "padding": null,
            "right": null,
            "top": null,
            "visibility": null,
            "width": null
          }
        },
        "c5f30b7494274883a3ec124bc3d82e14": {
          "model_module": "@jupyter-widgets/controls",
          "model_name": "DescriptionStyleModel",
          "model_module_version": "1.5.0",
          "state": {
            "_model_module": "@jupyter-widgets/controls",
            "_model_module_version": "1.5.0",
            "_model_name": "DescriptionStyleModel",
            "_view_count": null,
            "_view_module": "@jupyter-widgets/base",
            "_view_module_version": "1.2.0",
            "_view_name": "StyleView",
            "description_width": ""
          }
        },
        "a42b4ed4c2b7489aa93d4bcb4fd222e7": {
          "model_module": "@jupyter-widgets/base",
          "model_name": "LayoutModel",
          "model_module_version": "1.2.0",
          "state": {
            "_model_module": "@jupyter-widgets/base",
            "_model_module_version": "1.2.0",
            "_model_name": "LayoutModel",
            "_view_count": null,
            "_view_module": "@jupyter-widgets/base",
            "_view_module_version": "1.2.0",
            "_view_name": "LayoutView",
            "align_content": null,
            "align_items": null,
            "align_self": null,
            "border": null,
            "bottom": null,
            "display": null,
            "flex": null,
            "flex_flow": null,
            "grid_area": null,
            "grid_auto_columns": null,
            "grid_auto_flow": null,
            "grid_auto_rows": null,
            "grid_column": null,
            "grid_gap": null,
            "grid_row": null,
            "grid_template_areas": null,
            "grid_template_columns": null,
            "grid_template_rows": null,
            "height": null,
            "justify_content": null,
            "justify_items": null,
            "left": null,
            "margin": null,
            "max_height": null,
            "max_width": null,
            "min_height": null,
            "min_width": null,
            "object_fit": null,
            "object_position": null,
            "order": null,
            "overflow": null,
            "overflow_x": null,
            "overflow_y": null,
            "padding": null,
            "right": null,
            "top": null,
            "visibility": null,
            "width": null
          }
        },
        "f5d3c677e1454f53b80a1e7b883fcf26": {
          "model_module": "@jupyter-widgets/controls",
          "model_name": "ProgressStyleModel",
          "model_module_version": "1.5.0",
          "state": {
            "_model_module": "@jupyter-widgets/controls",
            "_model_module_version": "1.5.0",
            "_model_name": "ProgressStyleModel",
            "_view_count": null,
            "_view_module": "@jupyter-widgets/base",
            "_view_module_version": "1.2.0",
            "_view_name": "StyleView",
            "bar_color": null,
            "description_width": ""
          }
        },
        "f2d0de67f7684b9bab30f1b8b2dca24c": {
          "model_module": "@jupyter-widgets/base",
          "model_name": "LayoutModel",
          "model_module_version": "1.2.0",
          "state": {
            "_model_module": "@jupyter-widgets/base",
            "_model_module_version": "1.2.0",
            "_model_name": "LayoutModel",
            "_view_count": null,
            "_view_module": "@jupyter-widgets/base",
            "_view_module_version": "1.2.0",
            "_view_name": "LayoutView",
            "align_content": null,
            "align_items": null,
            "align_self": null,
            "border": null,
            "bottom": null,
            "display": null,
            "flex": null,
            "flex_flow": null,
            "grid_area": null,
            "grid_auto_columns": null,
            "grid_auto_flow": null,
            "grid_auto_rows": null,
            "grid_column": null,
            "grid_gap": null,
            "grid_row": null,
            "grid_template_areas": null,
            "grid_template_columns": null,
            "grid_template_rows": null,
            "height": null,
            "justify_content": null,
            "justify_items": null,
            "left": null,
            "margin": null,
            "max_height": null,
            "max_width": null,
            "min_height": null,
            "min_width": null,
            "object_fit": null,
            "object_position": null,
            "order": null,
            "overflow": null,
            "overflow_x": null,
            "overflow_y": null,
            "padding": null,
            "right": null,
            "top": null,
            "visibility": null,
            "width": null
          }
        },
        "c45f9fa2fe81482e8abd0d70f862b329": {
          "model_module": "@jupyter-widgets/controls",
          "model_name": "DescriptionStyleModel",
          "model_module_version": "1.5.0",
          "state": {
            "_model_module": "@jupyter-widgets/controls",
            "_model_module_version": "1.5.0",
            "_model_name": "DescriptionStyleModel",
            "_view_count": null,
            "_view_module": "@jupyter-widgets/base",
            "_view_module_version": "1.2.0",
            "_view_name": "StyleView",
            "description_width": ""
          }
        },
        "80a7062ea12d4d56b61cf98aad7fa5e0": {
          "model_module": "@jupyter-widgets/controls",
          "model_name": "HBoxModel",
          "model_module_version": "1.5.0",
          "state": {
            "_dom_classes": [],
            "_model_module": "@jupyter-widgets/controls",
            "_model_module_version": "1.5.0",
            "_model_name": "HBoxModel",
            "_view_count": null,
            "_view_module": "@jupyter-widgets/controls",
            "_view_module_version": "1.5.0",
            "_view_name": "HBoxView",
            "box_style": "",
            "children": [
              "IPY_MODEL_eccd2a5184304ab69d33fa14d5db679a",
              "IPY_MODEL_d9d85e1c634a4e259a5b5689ead59974",
              "IPY_MODEL_fb7815018cea44879d17636deb556413"
            ],
            "layout": "IPY_MODEL_441d6d96446742a5a7b0f826b755d186"
          }
        },
        "eccd2a5184304ab69d33fa14d5db679a": {
          "model_module": "@jupyter-widgets/controls",
          "model_name": "HTMLModel",
          "model_module_version": "1.5.0",
          "state": {
            "_dom_classes": [],
            "_model_module": "@jupyter-widgets/controls",
            "_model_module_version": "1.5.0",
            "_model_name": "HTMLModel",
            "_view_count": null,
            "_view_module": "@jupyter-widgets/controls",
            "_view_module_version": "1.5.0",
            "_view_name": "HTMLView",
            "description": "",
            "description_tooltip": null,
            "layout": "IPY_MODEL_33a53e2e7a6347d1af76d8be6539ef5d",
            "placeholder": "​",
            "style": "IPY_MODEL_5577340fb0b049cc9528420e101e62d2",
            "value": "model.safetensors: 100%"
          }
        },
        "d9d85e1c634a4e259a5b5689ead59974": {
          "model_module": "@jupyter-widgets/controls",
          "model_name": "FloatProgressModel",
          "model_module_version": "1.5.0",
          "state": {
            "_dom_classes": [],
            "_model_module": "@jupyter-widgets/controls",
            "_model_module_version": "1.5.0",
            "_model_name": "FloatProgressModel",
            "_view_count": null,
            "_view_module": "@jupyter-widgets/controls",
            "_view_module_version": "1.5.0",
            "_view_name": "ProgressView",
            "bar_style": "success",
            "description": "",
            "description_tooltip": null,
            "layout": "IPY_MODEL_165605e5080144d4a557725c90c91af2",
            "max": 548105171,
            "min": 0,
            "orientation": "horizontal",
            "style": "IPY_MODEL_87d7da8667db44878bef8f12f72525e7",
            "value": 548105171
          }
        },
        "fb7815018cea44879d17636deb556413": {
          "model_module": "@jupyter-widgets/controls",
          "model_name": "HTMLModel",
          "model_module_version": "1.5.0",
          "state": {
            "_dom_classes": [],
            "_model_module": "@jupyter-widgets/controls",
            "_model_module_version": "1.5.0",
            "_model_name": "HTMLModel",
            "_view_count": null,
            "_view_module": "@jupyter-widgets/controls",
            "_view_module_version": "1.5.0",
            "_view_name": "HTMLView",
            "description": "",
            "description_tooltip": null,
            "layout": "IPY_MODEL_aaa304c2bc5c4214ab0cdd285684e035",
            "placeholder": "​",
            "style": "IPY_MODEL_60a6e69c21c44f96b9e349029ec5cf4b",
            "value": " 548M/548M [00:05&lt;00:00, 104MB/s]"
          }
        },
        "441d6d96446742a5a7b0f826b755d186": {
          "model_module": "@jupyter-widgets/base",
          "model_name": "LayoutModel",
          "model_module_version": "1.2.0",
          "state": {
            "_model_module": "@jupyter-widgets/base",
            "_model_module_version": "1.2.0",
            "_model_name": "LayoutModel",
            "_view_count": null,
            "_view_module": "@jupyter-widgets/base",
            "_view_module_version": "1.2.0",
            "_view_name": "LayoutView",
            "align_content": null,
            "align_items": null,
            "align_self": null,
            "border": null,
            "bottom": null,
            "display": null,
            "flex": null,
            "flex_flow": null,
            "grid_area": null,
            "grid_auto_columns": null,
            "grid_auto_flow": null,
            "grid_auto_rows": null,
            "grid_column": null,
            "grid_gap": null,
            "grid_row": null,
            "grid_template_areas": null,
            "grid_template_columns": null,
            "grid_template_rows": null,
            "height": null,
            "justify_content": null,
            "justify_items": null,
            "left": null,
            "margin": null,
            "max_height": null,
            "max_width": null,
            "min_height": null,
            "min_width": null,
            "object_fit": null,
            "object_position": null,
            "order": null,
            "overflow": null,
            "overflow_x": null,
            "overflow_y": null,
            "padding": null,
            "right": null,
            "top": null,
            "visibility": null,
            "width": null
          }
        },
        "33a53e2e7a6347d1af76d8be6539ef5d": {
          "model_module": "@jupyter-widgets/base",
          "model_name": "LayoutModel",
          "model_module_version": "1.2.0",
          "state": {
            "_model_module": "@jupyter-widgets/base",
            "_model_module_version": "1.2.0",
            "_model_name": "LayoutModel",
            "_view_count": null,
            "_view_module": "@jupyter-widgets/base",
            "_view_module_version": "1.2.0",
            "_view_name": "LayoutView",
            "align_content": null,
            "align_items": null,
            "align_self": null,
            "border": null,
            "bottom": null,
            "display": null,
            "flex": null,
            "flex_flow": null,
            "grid_area": null,
            "grid_auto_columns": null,
            "grid_auto_flow": null,
            "grid_auto_rows": null,
            "grid_column": null,
            "grid_gap": null,
            "grid_row": null,
            "grid_template_areas": null,
            "grid_template_columns": null,
            "grid_template_rows": null,
            "height": null,
            "justify_content": null,
            "justify_items": null,
            "left": null,
            "margin": null,
            "max_height": null,
            "max_width": null,
            "min_height": null,
            "min_width": null,
            "object_fit": null,
            "object_position": null,
            "order": null,
            "overflow": null,
            "overflow_x": null,
            "overflow_y": null,
            "padding": null,
            "right": null,
            "top": null,
            "visibility": null,
            "width": null
          }
        },
        "5577340fb0b049cc9528420e101e62d2": {
          "model_module": "@jupyter-widgets/controls",
          "model_name": "DescriptionStyleModel",
          "model_module_version": "1.5.0",
          "state": {
            "_model_module": "@jupyter-widgets/controls",
            "_model_module_version": "1.5.0",
            "_model_name": "DescriptionStyleModel",
            "_view_count": null,
            "_view_module": "@jupyter-widgets/base",
            "_view_module_version": "1.2.0",
            "_view_name": "StyleView",
            "description_width": ""
          }
        },
        "165605e5080144d4a557725c90c91af2": {
          "model_module": "@jupyter-widgets/base",
          "model_name": "LayoutModel",
          "model_module_version": "1.2.0",
          "state": {
            "_model_module": "@jupyter-widgets/base",
            "_model_module_version": "1.2.0",
            "_model_name": "LayoutModel",
            "_view_count": null,
            "_view_module": "@jupyter-widgets/base",
            "_view_module_version": "1.2.0",
            "_view_name": "LayoutView",
            "align_content": null,
            "align_items": null,
            "align_self": null,
            "border": null,
            "bottom": null,
            "display": null,
            "flex": null,
            "flex_flow": null,
            "grid_area": null,
            "grid_auto_columns": null,
            "grid_auto_flow": null,
            "grid_auto_rows": null,
            "grid_column": null,
            "grid_gap": null,
            "grid_row": null,
            "grid_template_areas": null,
            "grid_template_columns": null,
            "grid_template_rows": null,
            "height": null,
            "justify_content": null,
            "justify_items": null,
            "left": null,
            "margin": null,
            "max_height": null,
            "max_width": null,
            "min_height": null,
            "min_width": null,
            "object_fit": null,
            "object_position": null,
            "order": null,
            "overflow": null,
            "overflow_x": null,
            "overflow_y": null,
            "padding": null,
            "right": null,
            "top": null,
            "visibility": null,
            "width": null
          }
        },
        "87d7da8667db44878bef8f12f72525e7": {
          "model_module": "@jupyter-widgets/controls",
          "model_name": "ProgressStyleModel",
          "model_module_version": "1.5.0",
          "state": {
            "_model_module": "@jupyter-widgets/controls",
            "_model_module_version": "1.5.0",
            "_model_name": "ProgressStyleModel",
            "_view_count": null,
            "_view_module": "@jupyter-widgets/base",
            "_view_module_version": "1.2.0",
            "_view_name": "StyleView",
            "bar_color": null,
            "description_width": ""
          }
        },
        "aaa304c2bc5c4214ab0cdd285684e035": {
          "model_module": "@jupyter-widgets/base",
          "model_name": "LayoutModel",
          "model_module_version": "1.2.0",
          "state": {
            "_model_module": "@jupyter-widgets/base",
            "_model_module_version": "1.2.0",
            "_model_name": "LayoutModel",
            "_view_count": null,
            "_view_module": "@jupyter-widgets/base",
            "_view_module_version": "1.2.0",
            "_view_name": "LayoutView",
            "align_content": null,
            "align_items": null,
            "align_self": null,
            "border": null,
            "bottom": null,
            "display": null,
            "flex": null,
            "flex_flow": null,
            "grid_area": null,
            "grid_auto_columns": null,
            "grid_auto_flow": null,
            "grid_auto_rows": null,
            "grid_column": null,
            "grid_gap": null,
            "grid_row": null,
            "grid_template_areas": null,
            "grid_template_columns": null,
            "grid_template_rows": null,
            "height": null,
            "justify_content": null,
            "justify_items": null,
            "left": null,
            "margin": null,
            "max_height": null,
            "max_width": null,
            "min_height": null,
            "min_width": null,
            "object_fit": null,
            "object_position": null,
            "order": null,
            "overflow": null,
            "overflow_x": null,
            "overflow_y": null,
            "padding": null,
            "right": null,
            "top": null,
            "visibility": null,
            "width": null
          }
        },
        "60a6e69c21c44f96b9e349029ec5cf4b": {
          "model_module": "@jupyter-widgets/controls",
          "model_name": "DescriptionStyleModel",
          "model_module_version": "1.5.0",
          "state": {
            "_model_module": "@jupyter-widgets/controls",
            "_model_module_version": "1.5.0",
            "_model_name": "DescriptionStyleModel",
            "_view_count": null,
            "_view_module": "@jupyter-widgets/base",
            "_view_module_version": "1.2.0",
            "_view_name": "StyleView",
            "description_width": ""
          }
        }
      }
    }
  },
  "cells": [
    {
      "cell_type": "code",
      "execution_count": null,
      "metadata": {
        "id": "3TvIGAxqmyBB"
      },
      "outputs": [],
      "source": [
        "import pandas as pd\n",
        "import matplotlib.pyplot as plt\n",
        "import seaborn as sns\n",
        "import re\n",
        "from nltk.tokenize import word_tokenize\n",
        "from nltk.corpus import stopwords\n",
        "from nltk.stem import WordNetLemmatizer\n",
        "from sklearn.feature_extraction.text import TfidfVectorizer\n",
        "from sklearn.model_selection import train_test_split\n",
        "from tensorflow.keras.preprocessing.text import Tokenizer\n",
        "from tensorflow.keras.preprocessing.sequence import pad_sequences\n",
        "import nltk\n",
        "import numpy as np\n",
        "import pandas as pd\n",
        "from keras.models import Sequential\n",
        "from keras.layers import Dense, Dropout, Conv1D, MaxPooling1D, LSTM, Flatten\n",
        "from keras.preprocessing.text import Tokenizer\n",
        "from keras.preprocessing.sequence import pad_sequences\n",
        "from sklearn.feature_extraction.text import TfidfVectorizer, CountVectorizer\n",
        "from sklearn.metrics import classification_report, confusion_matrix, f1_score\n",
        "from sklearn.model_selection import train_test_split, cross_validate, StratifiedKFold\n",
        "from sklearn.linear_model import LogisticRegression\n",
        "from sklearn.naive_bayes import MultinomialNB\n",
        "from sklearn.svm import SVC\n",
        "from sklearn.ensemble import RandomForestClassifier\n",
        "from sklearn.neighbors import KNeighborsClassifier\n",
        "from imblearn.over_sampling import SMOTE\n",
        "from gensim.models import Word2Vec\n",
        "from gensim.utils import simple_preprocess\n",
        "\n"
      ]
    },
    {
      "cell_type": "markdown",
      "source": [
        "# Caricamento e pulizia del dataset"
      ],
      "metadata": {
        "id": "vUHHdFu9nOH7"
      }
    },
    {
      "cell_type": "code",
      "source": [
        "# Leggere il file originale\n",
        "df = pd.read_csv('RECENSIONI.csv')\n",
        "print(\"Numero di valori NaN in ciascuna colonna prima della rimozione:\")\n",
        "print(df.isnull().sum())\n",
        "\n",
        "# Rimuovere righe con valori mancanti\n",
        "df = df.dropna()\n",
        "print(\"Numero di valori NaN in ciascuna colonna dopo la rimozione:\")\n",
        "print(df.isnull().sum())\n",
        "\n",
        "# Salvare il DataFrame pulito senza valori NaN\n",
        "df.to_csv('RECENSIONI.csv', index=False)\n",
        "\n",
        "# Ricaricare il DataFrame pulito\n",
        "df = pd.read_csv('RECENSIONI.csv')\n"
      ],
      "metadata": {
        "colab": {
          "base_uri": "https://localhost:8080/"
        },
        "id": "EeAeFSRgm1ZK",
        "outputId": "566701a0-3465-47b6-fdef-b81acec78e90"
      },
      "execution_count": null,
      "outputs": [
        {
          "output_type": "stream",
          "name": "stdout",
          "text": [
            "Numero di valori NaN in ciascuna colonna prima della rimozione:\n",
            "User     0\n",
            "Stars    7\n",
            "Date     0\n",
            "Text     0\n",
            "Title    0\n",
            "dtype: int64\n",
            "Numero di valori NaN in ciascuna colonna dopo la rimozione:\n",
            "User     0\n",
            "Stars    0\n",
            "Date     0\n",
            "Text     0\n",
            "Title    0\n",
            "dtype: int64\n"
          ]
        }
      ]
    },
    {
      "cell_type": "markdown",
      "source": [
        "# Analisi esplorativa dei dati"
      ],
      "metadata": {
        "id": "gEhalfxfnhMo"
      }
    },
    {
      "cell_type": "code",
      "source": [
        "\n",
        "df = pd.read_csv('RECENSIONI.csv')\n",
        "# Distribuzione delle stelle assegnate\n",
        "plt.figure(figsize=(8, 6))\n",
        "sns.countplot(data=df, x='Stars')\n",
        "plt.title('Distribuzione delle stelle assegnate')\n",
        "plt.xlabel('Stelle')\n",
        "plt.ylabel('Numero di recensioni')\n",
        "plt.show()\n",
        "\n",
        "# Lunghezza delle recensioni\n",
        "df['Review_Length'] = df['Text'].apply(len)\n",
        "plt.figure(figsize=(8, 6))\n",
        "sns.histplot(data=df, x='Review_Length', bins=30, kde=True)\n",
        "plt.title('Distribuzione della lunghezza delle recensioni')\n",
        "plt.xlabel('Numero di parole')\n",
        "plt.ylabel('Numero di recensioni')\n",
        "plt.show()"
      ],
      "metadata": {
        "colab": {
          "base_uri": "https://localhost:8080/",
          "height": 1000
        },
        "id": "QgsuDlm8nnFv",
        "outputId": "d52a0331-c6eb-4120-dcdc-8fcd13e7952b"
      },
      "execution_count": null,
      "outputs": [
        {
          "output_type": "display_data",
          "data": {
            "text/plain": [
              "<Figure size 800x600 with 1 Axes>"
            ],
            "image/png": "[encoded data removed]"
          },
          "metadata": {}
        },
        {
          "output_type": "display_data",
          "data": {
            "text/plain": [
              "<Figure size 800x600 with 1 Axes>"
            ],
            "image/png": "[encoded data removed]"
          },
          "metadata": {}
        }
      ]
    },
    {
      "cell_type": "markdown",
      "source": [
        "# Pre-elaborazione"
      ],
      "metadata": {
        "id": "Gkn7y_ginq5-"
      }
    },
    {
      "cell_type": "code",
      "source": [
        "# Scarica i dati di WordNet necessari\n",
        "nltk.download('wordnet')\n",
        "nltk.download('omw-1.4')\n",
        "nltk.download('punkt')\n",
        "nltk.download('stopwords')\n",
        "\n",
        "# Carica il dataset originale\n",
        "df = pd.read_csv('RECENSIONI.csv')\n",
        "\n",
        "# Funzione per la rimozione della punteggiatura\n",
        "def remove_punctuation(text):\n",
        "    return re.sub(r'[^\\w\\s]', '', text)\n",
        "\n",
        "# Applica la rimozione della punteggiatura\n",
        "df['Text'] = df['Text'].apply(remove_punctuation)\n",
        "\n",
        "# Conversione in lowercase\n",
        "df['Text'] = df['Text'].str.lower()\n",
        "\n",
        "# Rimozione dei caratteri non alfabetici\n",
        "def remove_non_alphabet(text):\n",
        "    return re.sub('[^a-z ]+', '', text)\n",
        "\n",
        "df['Text'] = df['Text'].apply(remove_non_alphabet)\n",
        "\n",
        "# Funzione per rimuovere le stopwords\n",
        "stop_words = set(stopwords.words('english'))\n",
        "\n",
        "def remove_stopwords(text):\n",
        "    words = word_tokenize(text)\n",
        "    words_filtered = [word for word in words if word not in stop_words]\n",
        "    return ' '.join(words_filtered)\n",
        "\n",
        "# Applica la rimozione delle stopwords\n",
        "df['Text'] = df['Text'].apply(remove_stopwords)\n",
        "\n",
        "# Controlla le recensioni pulite\n",
        "print(\"Esempi di recensioni dopo la rimozione delle stopwords:\")\n",
        "print(df['Text'].head())\n",
        "\n",
        "# Salva il dataframe pulito\n",
        "df.to_csv('RECENSIONI_pulite.csv', index=False)\n"
      ],
      "metadata": {
        "colab": {
          "base_uri": "https://localhost:8080/"
        },
        "id": "SA-6Tq0FnHkg",
        "outputId": "0365c49a-1e07-4475-c6e1-586c32bc1318"
      },
      "execution_count": null,
      "outputs": [
        {
          "output_type": "stream",
          "name": "stderr",
          "text": [
            "[nltk_data] Downloading package wordnet to /root/nltk_data...\n",
            "[nltk_data] Downloading package omw-1.4 to /root/nltk_data...\n",
            "[nltk_data] Downloading package punkt to /root/nltk_data...\n",
            "[nltk_data]   Unzipping tokenizers/punkt.zip.\n",
            "[nltk_data] Downloading package stopwords to /root/nltk_data...\n",
            "[nltk_data]   Unzipping corpora/stopwords.zip.\n"
          ]
        },
        {
          "output_type": "stream",
          "name": "stdout",
          "text": [
            "Esempi di recensioni dopo la rimozione delle stopwords:\n",
            "0    dosent get renewed season imagine plenty peopl...\n",
            "1    gentleman spin movie name movie great big star...\n",
            "2    big fan guy ritchie movie based gentleman ive ...\n",
            "3    reminder tv freaking fun take seriously gentle...\n",
            "4    thoroughly enjoyed series although acknowledge...\n",
            "Name: Text, dtype: object\n"
          ]
        }
      ]
    },
    {
      "cell_type": "markdown",
      "source": [
        "# Definizione soglie per il sentiment\n"
      ],
      "metadata": {
        "id": "7GcKUAIen8C9"
      }
    },
    {
      "cell_type": "code",
      "source": [
        "# Definizione delle soglie per il sentiment\n",
        "positive_threshold = 7\n",
        "negative_threshold = 6\n",
        "\n",
        "# Funzione per etichettare il sentiment in base al numero di stelle\n",
        "def label_sentiment(stars):\n",
        "    if stars <= negative_threshold:\n",
        "        return 0 #negative\n",
        "    elif stars >= positive_threshold:\n",
        "        return 1 #positive\n",
        "    else:\n",
        "        return None  # Per gestire eventuali valori fuori dai range specificati\n",
        "\n",
        "# Creazione della nuova colonna 'Sentiment' basata sulle stelle\n",
        "df['Sentiment'] = df['Stars'].apply(label_sentiment)\n",
        "\n",
        "# Visualizzazione delle prime righe del DataFrame con la nuova colonna 'Sentiment'\n",
        "print(df[['Stars', 'Sentiment']].head())\n",
        "print(df[['Stars', 'Sentiment']].tail())\n",
        "\n",
        "# Verifica dei valori di 'Sentiment' nel DataFrame originale prima di salvarlo\n",
        "print(\"Conteggio dei sentiment nel DataFrame originale:\")\n",
        "print(df['Sentiment'].value_counts(dropna=False))\n",
        "\n",
        "# Salvataggio del DataFrame e rilettura del file CSV\n",
        "df.to_csv('RECENSIONI_pulite.csv', index=False)\n",
        "df = pd.read_csv('RECENSIONI_pulite.csv')\n",
        "\n",
        "# Verifica la presenza di valori NaN nella colonna 'Sentiment' dopo la rilettura del CSV\n",
        "print(\"Numero di valori NaN in 'Sentiment':\", df['Sentiment'].isna().sum())\n"
      ],
      "metadata": {
        "colab": {
          "base_uri": "https://localhost:8080/"
        },
        "id": "KYBMQq6FnYqj",
        "outputId": "2b28132e-a504-49be-b502-5b5a4a453827"
      },
      "execution_count": null,
      "outputs": [
        {
          "output_type": "stream",
          "name": "stdout",
          "text": [
            "   Stars  Sentiment\n",
            "0    9.0          1\n",
            "1    9.0          1\n",
            "2    9.0          1\n",
            "3   10.0          1\n",
            "4    9.0          1\n",
            "     Stars  Sentiment\n",
            "303    1.0          0\n",
            "304    3.0          0\n",
            "305    4.0          0\n",
            "306    3.0          0\n",
            "307    4.0          0\n",
            "Conteggio dei sentiment nel DataFrame originale:\n",
            "Sentiment\n",
            "1    207\n",
            "0    101\n",
            "Name: count, dtype: int64\n",
            "Numero di valori NaN in 'Sentiment': 0\n"
          ]
        }
      ]
    },
    {
      "cell_type": "markdown",
      "source": [
        "# Definizione del dataset di train e test"
      ],
      "metadata": {
        "id": "nXHcoMFnoXBW"
      }
    },
    {
      "cell_type": "code",
      "source": [
        "x_data= df['Text']\n",
        "y_data= df['Sentiment']\n",
        "#split dataset\n",
        "x_train, x_test, y_train, y_test= train_test_split(x_data,y_data,test_size=0.2,random_state= 42)"
      ],
      "metadata": {
        "id": "75NcD4eMoTov"
      },
      "execution_count": null,
      "outputs": []
    },
    {
      "cell_type": "code",
      "source": [
        "# Controllo della distribuzione delle classi\n",
        "print(\"Distribuzione delle classi nel training set:\")\n",
        "print(y_train.value_counts())\n",
        "print(\"Distribuzione delle classi nel test set:\")\n",
        "print(y_test.value_counts())\n"
      ],
      "metadata": {
        "colab": {
          "base_uri": "https://localhost:8080/"
        },
        "id": "GgxNkhhi9B94",
        "outputId": "6ee52730-06fb-4107-ef8e-a836f67307f2"
      },
      "execution_count": null,
      "outputs": [
        {
          "output_type": "stream",
          "name": "stdout",
          "text": [
            "Distribuzione delle classi nel training set:\n",
            "Sentiment\n",
            "1    167\n",
            "0     79\n",
            "Name: count, dtype: int64\n",
            "Distribuzione delle classi nel test set:\n",
            "Sentiment\n",
            "1    40\n",
            "0    22\n",
            "Name: count, dtype: int64\n"
          ]
        }
      ]
    },
    {
      "cell_type": "markdown",
      "source": [
        "# Tokenizzazione e Padding"
      ],
      "metadata": {
        "id": "inBlDWXRoghU"
      }
    },
    {
      "cell_type": "code",
      "source": [
        "# Inizializza e adatta il Tokenizer\n",
        "tokenizer = Tokenizer()\n",
        "tokenizer.fit_on_texts(x_train)\n",
        "\n",
        "# Calcola il numero totale di parole uniche nel vocabolario\n",
        "num_words = len(tokenizer.word_index) + 1  # Considera una parola in più per il padding\n",
        "\n",
        "# Trasforma i testi in sequenze di token\n",
        "x_train_seq = tokenizer.texts_to_sequences(x_train)\n",
        "x_test_seq = tokenizer.texts_to_sequences(x_test)\n",
        "\n",
        "#Trova la lunghezza massima delle sequenze\n",
        "max_length = max(len(seq) for seq in x_train_seq)\n",
        "\n",
        "# Applica il padding alle sequenze\n",
        "x_train_padded = pad_sequences(x_train_seq, maxlen=max_length, padding='post', truncating='post')\n",
        "x_test_padded = pad_sequences(x_test_seq, maxlen=max_length, padding='post', truncating='post')\n",
        "\n",
        "# Verifica le dimensioni dei dati di addestramento e test dopo il padding\n",
        "print(\"Dimensioni dei dati di addestramento dopo il padding:\", x_train_padded.shape)\n",
        "print(\"Dimensioni dei dati di test dopo il padding:\", x_test_padded.shape)\n"
      ],
      "metadata": {
        "colab": {
          "base_uri": "https://localhost:8080/"
        },
        "id": "e7_X0xb-odiJ",
        "outputId": "72aa5a6f-8de7-4bab-9061-524c37456d3d"
      },
      "execution_count": null,
      "outputs": [
        {
          "output_type": "stream",
          "name": "stdout",
          "text": [
            "Dimensioni dei dati di addestramento dopo il padding: (246, 357)\n",
            "Dimensioni dei dati di test dopo il padding: (62, 357)\n"
          ]
        }
      ]
    },
    {
      "cell_type": "markdown",
      "source": [
        "#  1. Trasformazione dei testi in vettori numerici: Bag Of Words, TF-IDF(Term Frequency-Inverse Document Frequency) e Word2Vec"
      ],
      "metadata": {
        "id": "gshOIT5Woo8F"
      }
    },
    {
      "cell_type": "markdown",
      "source": [
        "### BoW"
      ],
      "metadata": {
        "id": "U5vHADhEovxv"
      }
    },
    {
      "cell_type": "code",
      "source": [
        "from sklearn.feature_extraction.text import CountVectorizer\n",
        "\n",
        "#Inizializza il vettorizzatore BoW\n",
        "bow_vectorizer = CountVectorizer()\n",
        "\n",
        "# Adatta il vettorizzatore BoW ai dati di addestramento e trasforma i dati\n",
        "x_train_bow = bow_vectorizer.fit_transform(x_train)\n",
        "x_test_bow = bow_vectorizer.transform(x_test)\n",
        "\n",
        "# Stampa le dimensioni dei dati vettorizzati BoW\n",
        "print(\"Dimensioni dei dati di addestramento vettorizzati con BoW:\", x_train_bow.shape)\n",
        "print(\"Dimensioni dei dati di test vettorizzati con BoW:\", x_test_bow.shape)\n"
      ],
      "metadata": {
        "colab": {
          "base_uri": "https://localhost:8080/"
        },
        "id": "yOjkWO6IojbP",
        "outputId": "47ddc5dd-7cad-4cd0-802b-a515d1c6823f"
      },
      "execution_count": null,
      "outputs": [
        {
          "output_type": "stream",
          "name": "stdout",
          "text": [
            "Dimensioni dei dati di addestramento vettorizzati con BoW: (246, 5427)\n",
            "Dimensioni dei dati di test vettorizzati con BoW: (62, 5427)\n"
          ]
        }
      ]
    },
    {
      "cell_type": "markdown",
      "source": [
        "## TFIDF"
      ],
      "metadata": {
        "id": "9Y25gwwNo-9r"
      }
    },
    {
      "cell_type": "code",
      "source": [
        "from sklearn.feature_extraction.text import TfidfVectorizer\n",
        "\n",
        "# Inizializza il vettorizzatore TF-IDF\n",
        "tfidf_vectorizer = TfidfVectorizer()\n",
        "\n",
        "# Adatta il vettorizzatore TF-IDF ai dati di addestramento e trasforma i dati\n",
        "x_train_tfidf = tfidf_vectorizer.fit_transform(x_train)\n",
        "x_test_tfidf = tfidf_vectorizer.transform(x_test)\n",
        "\n",
        "# Stampa le dimensioni dei dati vettorizzati TF-IDF\n",
        "print(\"Dimensioni dei dati di addestramento vettorizzati con TF-IDF:\", x_train_tfidf.shape)\n",
        "print(\"Dimensioni dei dati di test vettorizzati con TF-IDF:\", x_test_tfidf.shape)"
      ],
      "metadata": {
        "colab": {
          "base_uri": "https://localhost:8080/"
        },
        "id": "OiOqs9Q5osNl",
        "outputId": "31f333e7-9c36-4cd0-dbdd-dad68dde08dd"
      },
      "execution_count": null,
      "outputs": [
        {
          "output_type": "stream",
          "name": "stdout",
          "text": [
            "Dimensioni dei dati di addestramento vettorizzati con TF-IDF: (246, 5427)\n",
            "Dimensioni dei dati di test vettorizzati con TF-IDF: (62, 5427)\n"
          ]
        }
      ]
    },
    {
      "cell_type": "markdown",
      "source": [
        "## Word2Vec"
      ],
      "metadata": {
        "id": "WAS3rUPhpGJP"
      }
    },
    {
      "cell_type": "code",
      "source": [
        "from gensim.models import Word2Vec\n",
        "from gensim.utils import simple_preprocess\n",
        "import numpy as np\n",
        "\n",
        "# Prepara i dati per il training di Word2Vec\n",
        "corpus_train = [simple_preprocess(text) for text in x_train]\n",
        "corpus_test = [simple_preprocess(text) for text in x_test]\n",
        "\n",
        "# Addestra il modello Word2Vec\n",
        "word2vec_model = Word2Vec(sentences=corpus_train, vector_size=300, window=5, min_count=1, workers=4)\n",
        "\n",
        "# Vettorizza i dati di addestramento e di test\n",
        "def document_vector(word2vec_model, doc):\n",
        "    \"\"\" Calcola il vettore del documento \"\"\"\n",
        "    doc = [word for word in doc if word in word2vec_model.wv.index_to_key]\n",
        "    return np.mean(word2vec_model.wv[doc], axis=0)\n",
        "\n",
        "x_train_w2v = np.array([document_vector(word2vec_model, doc) for doc in corpus_train])\n",
        "x_test_w2v = np.array([document_vector(word2vec_model, doc) for doc in corpus_test])\n",
        "\n",
        "# Stampa le dimensioni dei dati vettorizzati Word2Vec\n",
        "print(\"Dimensioni dei dati di addestramento vettorizzati con Word2Vec:\", x_train_w2v.shape)\n",
        "print(\"Dimensioni dei dati di test vettorizzati con Word2Vec:\", x_test_w2v.shape)\n"
      ],
      "metadata": {
        "colab": {
          "base_uri": "https://localhost:8080/"
        },
        "id": "2twajRHoorc0",
        "outputId": "643d1258-181c-4a55-a08c-6777399831b0"
      },
      "execution_count": null,
      "outputs": [
        {
          "output_type": "stream",
          "name": "stdout",
          "text": [
            "Dimensioni dei dati di addestramento vettorizzati con Word2Vec: (246, 300)\n",
            "Dimensioni dei dati di test vettorizzati con Word2Vec: (62, 300)\n"
          ]
        }
      ]
    },
    {
      "cell_type": "markdown",
      "source": [
        "# SMOTE"
      ],
      "metadata": {
        "id": "-se5HCzK9V6M"
      }
    },
    {
      "cell_type": "markdown",
      "source": [
        "### Applicazione di SMOTE solo sui dati di addestramento"
      ],
      "metadata": {
        "id": "GUkmHuJt9xlr"
      }
    },
    {
      "cell_type": "code",
      "source": [
        "# Applicazione di SMOTE solo sui dati di addestramento\n",
        "from imblearn.over_sampling import SMOTE\n",
        "\n",
        "smote = SMOTE(random_state=42)\n",
        "x_train_bow_smote, y_train_bow_smote = smote.fit_resample(x_train_bow, y_train)\n",
        "x_train_tfidf_smote, y_train_tfidf_smote = smote.fit_resample(x_train_tfidf, y_train)\n",
        "\n"
      ],
      "metadata": {
        "id": "ksEo1-rh9YSC"
      },
      "execution_count": null,
      "outputs": []
    },
    {
      "cell_type": "markdown",
      "source": [
        "### Valutazione dei modelli con cross-validation stratificata per ogni vettorizzazione e con dati SMOTE"
      ],
      "metadata": {
        "id": "n7gP9NMr97HQ"
      }
    },
    {
      "cell_type": "code",
      "source": [
        "from sklearn.model_selection import cross_validate, StratifiedKFold\n",
        "from sklearn.linear_model import LogisticRegression\n",
        "from sklearn.naive_bayes import MultinomialNB\n",
        "from sklearn.svm import SVC\n",
        "from sklearn.ensemble import RandomForestClassifier\n",
        "from sklearn.neighbors import KNeighborsClassifier\n",
        "# Valutazione dei modelli con cross-validation stratificata per ogni vettorizzazione e con dati SMOTE\n",
        "# Definizione dei modelli\n",
        "models = {\n",
        "    \"Logistic Regression\": LogisticRegression(max_iter=1000),\n",
        "    \"Naive Bayes\": MultinomialNB(),\n",
        "    \"SVM\": SVC(),\n",
        "    \"Random Forest\": RandomForestClassifier(),\n",
        "    \"KNN\": KNeighborsClassifier()\n",
        "}\n",
        "scoring = ['accuracy', 'precision', 'recall', 'f1']\n",
        "\n",
        "vectorizers = {\n",
        "    \"BoW\": (x_train_bow_smote, x_test_bow, y_train_bow_smote),\n",
        "    \"TF-IDF\": (x_train_tfidf_smote, x_test_tfidf, y_train_tfidf_smote)\n",
        "}\n",
        "\n",
        "for vectorizer_name, (x_train_vec, x_test_vec, y_train_vec_smote) in vectorizers.items():\n",
        "    print(f\"Vettorizzazione: {vectorizer_name}\")\n",
        "    for model_name, model in models.items():\n",
        "        print(f\"Modello: {model_name}\")\n",
        "        stratified_kfold = StratifiedKFold(n_splits=5, shuffle=True, random_state=42)\n",
        "        results = cross_validate(model, x_train_vec, y_train_vec_smote, cv=stratified_kfold, scoring=scoring)\n",
        "        mean_accuracy = np.mean(results['test_accuracy'])\n",
        "        mean_precision = np.mean(results['test_precision'])\n",
        "        mean_recall = np.mean(results['test_recall'])\n",
        "        mean_f1 = np.mean(results['test_f1'])\n",
        "        print(f\"Accuracy (mean): {mean_accuracy}\")\n",
        "        print(f\"Precision (mean): {mean_precision}\")\n",
        "        print(f\"Recall (mean): {mean_recall}\")\n",
        "        print(f\"F1-score (mean): {mean_f1}\")\n",
        "        print()"
      ],
      "metadata": {
        "colab": {
          "base_uri": "https://localhost:8080/"
        },
        "id": "5v0s4j2F98yv",
        "outputId": "e23f158d-0f38-4613-f94f-c2b6bf71494f"
      },
      "execution_count": null,
      "outputs": [
        {
          "output_type": "stream",
          "name": "stdout",
          "text": [
            "Vettorizzazione: BoW\n",
            "Modello: Logistic Regression\n",
            "Accuracy (mean): 0.8413387607417457\n",
            "Precision (mean): 0.8684650316930629\n",
            "Recall (mean): 0.8085561497326204\n",
            "F1-score (mean): 0.8334721495867704\n",
            "\n",
            "Modello: Naive Bayes\n",
            "Accuracy (mean): 0.8592944369063771\n",
            "Precision (mean): 0.8437195484254307\n",
            "Recall (mean): 0.886096256684492\n",
            "F1-score (mean): 0.8633786520872828\n",
            "\n",
            "Modello: SVM\n",
            "Accuracy (mean): 0.8353686114880144\n",
            "Precision (mean): 0.76590472549966\n",
            "Recall (mean): 0.970409982174688\n",
            "F1-score (mean): 0.8554789199852492\n",
            "\n",
            "Modello: Random Forest\n",
            "Accuracy (mean): 0.8056083220262324\n",
            "Precision (mean): 0.8459518792191206\n",
            "Recall (mean): 0.7484848484848484\n",
            "F1-score (mean): 0.7914559094275119\n",
            "\n",
            "Modello: KNN\n",
            "Accuracy (mean): 0.5029850746268656\n",
            "Precision (mean): 0.2\n",
            "Recall (mean): 0.006060606060606061\n",
            "F1-score (mean): 0.011764705882352943\n",
            "\n",
            "Vettorizzazione: TF-IDF\n",
            "Modello: Logistic Regression\n"
          ]
        },
        {
          "output_type": "stream",
          "name": "stderr",
          "text": [
            "/usr/local/lib/python3.10/dist-packages/sklearn/metrics/_classification.py:1344: UndefinedMetricWarning: Precision is ill-defined and being set to 0.0 due to no predicted samples. Use `zero_division` parameter to control this behavior.\n",
            "  _warn_prf(average, modifier, msg_start, len(result))\n",
            "/usr/local/lib/python3.10/dist-packages/sklearn/metrics/_classification.py:1344: UndefinedMetricWarning: Precision is ill-defined and being set to 0.0 due to no predicted samples. Use `zero_division` parameter to control this behavior.\n",
            "  _warn_prf(average, modifier, msg_start, len(result))\n",
            "/usr/local/lib/python3.10/dist-packages/sklearn/metrics/_classification.py:1344: UndefinedMetricWarning: Precision is ill-defined and being set to 0.0 due to no predicted samples. Use `zero_division` parameter to control this behavior.\n",
            "  _warn_prf(average, modifier, msg_start, len(result))\n",
            "/usr/local/lib/python3.10/dist-packages/sklearn/metrics/_classification.py:1344: UndefinedMetricWarning: Precision is ill-defined and being set to 0.0 due to no predicted samples. Use `zero_division` parameter to control this behavior.\n",
            "  _warn_prf(average, modifier, msg_start, len(result))\n"
          ]
        },
        {
          "output_type": "stream",
          "name": "stdout",
          "text": [
            "Accuracy (mean): 0.9341022161917684\n",
            "Precision (mean): 0.9132719430552247\n",
            "Recall (mean): 0.9638146167557933\n",
            "F1-score (mean): 0.9359687403833794\n",
            "\n",
            "Modello: Naive Bayes\n",
            "Accuracy (mean): 0.9251922207146087\n",
            "Precision (mean): 0.9560483870967742\n",
            "Recall (mean): 0.8921568627450981\n",
            "F1-score (mean): 0.9226678697646438\n",
            "\n",
            "Modello: SVM\n",
            "Accuracy (mean): 0.8983717774762552\n",
            "Precision (mean): 0.83335656213705\n",
            "Recall (mean): 1.0\n",
            "F1-score (mean): 0.9084138784093018\n",
            "\n",
            "Modello: Random Forest\n",
            "Accuracy (mean): 0.8715061058344642\n",
            "Precision (mean): 0.8129755538579069\n",
            "Recall (mean): 0.9759358288770054\n",
            "F1-score (mean): 0.8852709558192668\n",
            "\n",
            "Modello: KNN\n"
          ]
        },
        {
          "output_type": "stream",
          "name": "stderr",
          "text": [
            "/usr/local/lib/python3.10/dist-packages/sklearn/metrics/_classification.py:1344: UndefinedMetricWarning: Precision is ill-defined and being set to 0.0 due to no predicted samples. Use `zero_division` parameter to control this behavior.\n",
            "  _warn_prf(average, modifier, msg_start, len(result))\n",
            "/usr/local/lib/python3.10/dist-packages/sklearn/metrics/_classification.py:1344: UndefinedMetricWarning: Precision is ill-defined and being set to 0.0 due to no predicted samples. Use `zero_division` parameter to control this behavior.\n",
            "  _warn_prf(average, modifier, msg_start, len(result))\n",
            "/usr/local/lib/python3.10/dist-packages/sklearn/metrics/_classification.py:1344: UndefinedMetricWarning: Precision is ill-defined and being set to 0.0 due to no predicted samples. Use `zero_division` parameter to control this behavior.\n",
            "  _warn_prf(average, modifier, msg_start, len(result))\n",
            "/usr/local/lib/python3.10/dist-packages/sklearn/metrics/_classification.py:1344: UndefinedMetricWarning: Precision is ill-defined and being set to 0.0 due to no predicted samples. Use `zero_division` parameter to control this behavior.\n",
            "  _warn_prf(average, modifier, msg_start, len(result))\n"
          ]
        },
        {
          "output_type": "stream",
          "name": "stdout",
          "text": [
            "Accuracy (mean): 0.5\n",
            "Precision (mean): 0.0\n",
            "Recall (mean): 0.0\n",
            "F1-score (mean): 0.0\n",
            "\n"
          ]
        },
        {
          "output_type": "stream",
          "name": "stderr",
          "text": [
            "/usr/local/lib/python3.10/dist-packages/sklearn/metrics/_classification.py:1344: UndefinedMetricWarning: Precision is ill-defined and being set to 0.0 due to no predicted samples. Use `zero_division` parameter to control this behavior.\n",
            "  _warn_prf(average, modifier, msg_start, len(result))\n"
          ]
        }
      ]
    },
    {
      "cell_type": "markdown",
      "source": [
        "### Addestramento e valutazione dei modelli con dati SMOTE e BoW + matrice di confusione"
      ],
      "metadata": {
        "id": "JfXkxOvV-CFq"
      }
    },
    {
      "cell_type": "code",
      "source": [
        "# Addestramento e valutazione dei modelli con dati SMOTE e BoW\n",
        "for model_name, model in models.items():\n",
        "    print(f\"Modello: {model_name}\")\n",
        "    # Addestramento del modello completo sui dati di addestramento SMOTE BoW\n",
        "    model.fit(x_train_bow_smote, y_train_bow_smote)\n",
        "    # Predizioni sui dati di test\n",
        "    y_pred = model.predict(x_test_bow)\n",
        "    # Calcolo della matrice di confusione\n",
        "    conf_matrix = confusion_matrix(y_test, y_pred)\n",
        "    # Plot della matrice di confusione\n",
        "    plt.figure(figsize=(8, 6))\n",
        "    sns.heatmap(conf_matrix, annot=True, fmt='d', cmap='Blues', cbar=False)\n",
        "    plt.xlabel('Predicted labels')\n",
        "    plt.ylabel('True labels')\n",
        "    plt.title(f'Confusion Matrix - {model_name}')\n",
        "    plt.show()\n",
        "    # Rapporto di classificazione\n",
        "    class_report = classification_report(y_test, y_pred)\n",
        "    print(\"Classification Report:\")\n",
        "    print(class_report)\n"
      ],
      "metadata": {
        "colab": {
          "base_uri": "https://localhost:8080/",
          "height": 1000
        },
        "id": "KN0qyGb49_gH",
        "outputId": "76428aab-7ebe-4f78-c93d-34e9feb371ed"
      },
      "execution_count": null,
      "outputs": [
        {
          "output_type": "stream",
          "name": "stdout",
          "text": [
            "Modello: Logistic Regression\n"
          ]
        },
        {
          "output_type": "display_data",
          "data": {
            "text/plain": [
              "<Figure size 800x600 with 1 Axes>"
            ],
            "image/png": "[encoded data removed]"
          },
          "metadata": {}
        },
        {
          "output_type": "stream",
          "name": "stdout",
          "text": [
            "Classification Report:\n",
            "              precision    recall  f1-score   support\n",
            "\n",
            "           0       0.79      0.68      0.73        22\n",
            "           1       0.84      0.90      0.87        40\n",
            "\n",
            "    accuracy                           0.82        62\n",
            "   macro avg       0.81      0.79      0.80        62\n",
            "weighted avg       0.82      0.82      0.82        62\n",
            "\n",
            "Modello: Naive Bayes\n"
          ]
        },
        {
          "output_type": "display_data",
          "data": {
            "text/plain": [
              "<Figure size 800x600 with 1 Axes>"
            ],
            "image/png": "[encoded data removed]"
          },
          "metadata": {}
        },
        {
          "output_type": "stream",
          "name": "stdout",
          "text": [
            "Classification Report:\n",
            "              precision    recall  f1-score   support\n",
            "\n",
            "           0       1.00      0.64      0.78        22\n",
            "           1       0.83      1.00      0.91        40\n",
            "\n",
            "    accuracy                           0.87        62\n",
            "   macro avg       0.92      0.82      0.84        62\n",
            "weighted avg       0.89      0.87      0.86        62\n",
            "\n",
            "Modello: SVM\n"
          ]
        },
        {
          "output_type": "display_data",
          "data": {
            "text/plain": [
              "<Figure size 800x600 with 1 Axes>"
            ],
            "image/png": "[encoded data removed]"
          },
          "metadata": {}
        },
        {
          "output_type": "stream",
          "name": "stdout",
          "text": [
            "Classification Report:\n",
            "              precision    recall  f1-score   support\n",
            "\n",
            "           0       0.88      0.64      0.74        22\n",
            "           1       0.83      0.95      0.88        40\n",
            "\n",
            "    accuracy                           0.84        62\n",
            "   macro avg       0.85      0.79      0.81        62\n",
            "weighted avg       0.84      0.84      0.83        62\n",
            "\n",
            "Modello: Random Forest\n"
          ]
        },
        {
          "output_type": "display_data",
          "data": {
            "text/plain": [
              "<Figure size 800x600 with 1 Axes>"
            ],
            "image/png": "[encoded data removed]"
          },
          "metadata": {}
        },
        {
          "output_type": "stream",
          "name": "stdout",
          "text": [
            "Classification Report:\n",
            "              precision    recall  f1-score   support\n",
            "\n",
            "           0       0.79      0.68      0.73        22\n",
            "           1       0.84      0.90      0.87        40\n",
            "\n",
            "    accuracy                           0.82        62\n",
            "   macro avg       0.81      0.79      0.80        62\n",
            "weighted avg       0.82      0.82      0.82        62\n",
            "\n",
            "Modello: KNN\n"
          ]
        },
        {
          "output_type": "display_data",
          "data": {
            "text/plain": [
              "<Figure size 800x600 with 1 Axes>"
            ],
            "image/png": "[encoded data removed]"
          },
          "metadata": {}
        },
        {
          "output_type": "stream",
          "name": "stdout",
          "text": [
            "Classification Report:\n",
            "              precision    recall  f1-score   support\n",
            "\n",
            "           0       0.35      1.00      0.52        22\n",
            "           1       0.00      0.00      0.00        40\n",
            "\n",
            "    accuracy                           0.35        62\n",
            "   macro avg       0.18      0.50      0.26        62\n",
            "weighted avg       0.13      0.35      0.19        62\n",
            "\n"
          ]
        },
        {
          "output_type": "stream",
          "name": "stderr",
          "text": [
            "/usr/local/lib/python3.10/dist-packages/sklearn/metrics/_classification.py:1344: UndefinedMetricWarning: Precision and F-score are ill-defined and being set to 0.0 in labels with no predicted samples. Use `zero_division` parameter to control this behavior.\n",
            "  _warn_prf(average, modifier, msg_start, len(result))\n",
            "/usr/local/lib/python3.10/dist-packages/sklearn/metrics/_classification.py:1344: UndefinedMetricWarning: Precision and F-score are ill-defined and being set to 0.0 in labels with no predicted samples. Use `zero_division` parameter to control this behavior.\n",
            "  _warn_prf(average, modifier, msg_start, len(result))\n",
            "/usr/local/lib/python3.10/dist-packages/sklearn/metrics/_classification.py:1344: UndefinedMetricWarning: Precision and F-score are ill-defined and being set to 0.0 in labels with no predicted samples. Use `zero_division` parameter to control this behavior.\n",
            "  _warn_prf(average, modifier, msg_start, len(result))\n"
          ]
        }
      ]
    },
    {
      "cell_type": "markdown",
      "source": [
        "### Addestramento e valutazione dei modelli con dati SMOTE e TF-IDF + Matrici di confusione"
      ],
      "metadata": {
        "id": "Lzv_CD2q-Hhu"
      }
    },
    {
      "cell_type": "code",
      "source": [
        "from sklearn.metrics import confusion_matrix, classification_report\n",
        "import matplotlib.pyplot as plt\n",
        "import seaborn as sns\n",
        "\n",
        "# Addestramento e valutazione dei modelli con dati SMOTE e TF-IDF\n",
        "for model_name, model in models.items():\n",
        "    print(f\"Modello: {model_name}\")\n",
        "    # Addestramento del modello completo sui dati di addestramento SMOTE TF-IDF\n",
        "    model.fit(x_train_tfidf_smote, y_train_tfidf_smote)\n",
        "    # Predizioni sui dati di test\n",
        "    y_pred = model.predict(x_test_tfidf)\n",
        "    # Calcolo della matrice di confusione\n",
        "    conf_matrix = confusion_matrix(y_test, y_pred)\n",
        "    # Plot della matrice di confusione\n",
        "    plt.figure(figsize=(8, 6))\n",
        "    sns.heatmap(conf_matrix, annot=True, fmt='d', cmap='Blues', cbar=False)\n",
        "    plt.xlabel('Predicted labels')\n",
        "    plt.ylabel('True labels')\n",
        "    plt.title(f'Confusion Matrix - {model_name}')\n",
        "    plt.show()\n",
        "    # Rapporto di classificazione\n",
        "    class_report = classification_report(y_test, y_pred)\n",
        "    print(\"Classification Report:\")\n",
        "    print(class_report)\n",
        "\n"
      ],
      "metadata": {
        "colab": {
          "base_uri": "https://localhost:8080/",
          "height": 1000
        },
        "id": "DIfG9SY7-Oit",
        "outputId": "1b6aef0d-149c-447d-a9f7-44e2a913345c"
      },
      "execution_count": null,
      "outputs": [
        {
          "output_type": "stream",
          "name": "stdout",
          "text": [
            "Modello: Logistic Regression\n"
          ]
        },
        {
          "output_type": "display_data",
          "data": {
            "text/plain": [
              "<Figure size 800x600 with 1 Axes>"
            ],
            "image/png": "[encoded data removed]"
          },
          "metadata": {}
        },
        {
          "output_type": "stream",
          "name": "stdout",
          "text": [
            "Classification Report:\n",
            "              precision    recall  f1-score   support\n",
            "\n",
            "           0       0.88      0.64      0.74        22\n",
            "           1       0.83      0.95      0.88        40\n",
            "\n",
            "    accuracy                           0.84        62\n",
            "   macro avg       0.85      0.79      0.81        62\n",
            "weighted avg       0.84      0.84      0.83        62\n",
            "\n",
            "Modello: Naive Bayes\n"
          ]
        },
        {
          "output_type": "display_data",
          "data": {
            "text/plain": [
              "<Figure size 800x600 with 1 Axes>"
            ],
            "image/png": "[encoded data removed]"
          },
          "metadata": {}
        },
        {
          "output_type": "stream",
          "name": "stdout",
          "text": [
            "Classification Report:\n",
            "              precision    recall  f1-score   support\n",
            "\n",
            "           0       0.85      0.77      0.81        22\n",
            "           1       0.88      0.93      0.90        40\n",
            "\n",
            "    accuracy                           0.87        62\n",
            "   macro avg       0.87      0.85      0.86        62\n",
            "weighted avg       0.87      0.87      0.87        62\n",
            "\n",
            "Modello: SVM\n"
          ]
        },
        {
          "output_type": "display_data",
          "data": {
            "text/plain": [
              "<Figure size 800x600 with 1 Axes>"
            ],
            "image/png": "[encoded data removed]"
          },
          "metadata": {}
        },
        {
          "output_type": "stream",
          "name": "stdout",
          "text": [
            "Classification Report:\n",
            "              precision    recall  f1-score   support\n",
            "\n",
            "           0       1.00      0.05      0.09        22\n",
            "           1       0.66      1.00      0.79        40\n",
            "\n",
            "    accuracy                           0.66        62\n",
            "   macro avg       0.83      0.52      0.44        62\n",
            "weighted avg       0.78      0.66      0.54        62\n",
            "\n",
            "Modello: Random Forest\n"
          ]
        },
        {
          "output_type": "display_data",
          "data": {
            "text/plain": [
              "<Figure size 800x600 with 1 Axes>"
            ],
            "image/png": "[encoded data removed]"
          },
          "metadata": {}
        },
        {
          "output_type": "stream",
          "name": "stdout",
          "text": [
            "Classification Report:\n",
            "              precision    recall  f1-score   support\n",
            "\n",
            "           0       1.00      0.27      0.43        22\n",
            "           1       0.71      1.00      0.83        40\n",
            "\n",
            "    accuracy                           0.74        62\n",
            "   macro avg       0.86      0.64      0.63        62\n",
            "weighted avg       0.82      0.74      0.69        62\n",
            "\n",
            "Modello: KNN\n"
          ]
        },
        {
          "output_type": "display_data",
          "data": {
            "text/plain": [
              "<Figure size 800x600 with 1 Axes>"
            ],
            "image/png": "[encoded data removed]"
          },
          "metadata": {}
        },
        {
          "output_type": "stream",
          "name": "stdout",
          "text": [
            "Classification Report:\n",
            "              precision    recall  f1-score   support\n",
            "\n",
            "           0       0.35      1.00      0.52        22\n",
            "           1       0.00      0.00      0.00        40\n",
            "\n",
            "    accuracy                           0.35        62\n",
            "   macro avg       0.18      0.50      0.26        62\n",
            "weighted avg       0.13      0.35      0.19        62\n",
            "\n"
          ]
        },
        {
          "output_type": "stream",
          "name": "stderr",
          "text": [
            "/usr/local/lib/python3.10/dist-packages/sklearn/metrics/_classification.py:1344: UndefinedMetricWarning: Precision and F-score are ill-defined and being set to 0.0 in labels with no predicted samples. Use `zero_division` parameter to control this behavior.\n",
            "  _warn_prf(average, modifier, msg_start, len(result))\n",
            "/usr/local/lib/python3.10/dist-packages/sklearn/metrics/_classification.py:1344: UndefinedMetricWarning: Precision and F-score are ill-defined and being set to 0.0 in labels with no predicted samples. Use `zero_division` parameter to control this behavior.\n",
            "  _warn_prf(average, modifier, msg_start, len(result))\n",
            "/usr/local/lib/python3.10/dist-packages/sklearn/metrics/_classification.py:1344: UndefinedMetricWarning: Precision and F-score are ill-defined and being set to 0.0 in labels with no predicted samples. Use `zero_division` parameter to control this behavior.\n",
            "  _warn_prf(average, modifier, msg_start, len(result))\n"
          ]
        }
      ]
    },
    {
      "cell_type": "markdown",
      "source": [
        "### Reshape e Applicazione di SMOTE con Word2Vec"
      ],
      "metadata": {
        "id": "iFGyaDTX-PzF"
      }
    },
    {
      "cell_type": "code",
      "source": [
        "# Reshape dei dati di addestramento Word2Vec\n",
        "x_train_w2v_reshaped = x_train_w2v.reshape((x_train_w2v.shape[0], -1))\n",
        "\n",
        "# Applicazione di SMOTE solo sui dati di addestramento Word2Vec\n",
        "smote = SMOTE(random_state=42)\n",
        "x_train_w2v_smote, y_train_w2v_smote = smote.fit_resample(x_train_w2v_reshaped, y_train)\n"
      ],
      "metadata": {
        "id": "XE0oHR2X-XQi"
      },
      "execution_count": null,
      "outputs": []
    },
    {
      "cell_type": "markdown",
      "source": [
        "### Valutazione dei modelli con cross-validation stratificata per Word2Vec e con dati SMOTE"
      ],
      "metadata": {
        "id": "lrHaC0bj-a_y"
      }
    },
    {
      "cell_type": "code",
      "source": [
        "# Valutazione dei modelli con cross-validation stratificata per Word2Vec e con dati SMOTE\n",
        "print(\"Vettorizzazione: Word2Vec\")\n",
        "for model_name, model in models.items():\n",
        "    if model_name == \"Naive Bayes\":  # Naive Bayes non compatibile con Word2Vec\n",
        "        continue\n",
        "    print(f\"Modello: {model_name}\")\n",
        "    stratified_kfold = StratifiedKFold(n_splits=5, shuffle=True, random_state=42)\n",
        "    results = cross_validate(model, x_train_w2v_smote, y_train_w2v_smote, cv=stratified_kfold, scoring=scoring)\n",
        "    mean_accuracy = np.mean(results['test_accuracy'])\n",
        "    mean_precision = np.mean(results['test_precision'])\n",
        "    mean_recall = np.mean(results['test_recall'])\n",
        "    mean_f1 = np.mean(results['test_f1'])\n",
        "    print(f\"Accuracy (mean): {mean_accuracy}\")\n",
        "    print(f\"Precision (mean): {mean_precision}\")\n",
        "    print(f\"Recall (mean): {mean_recall}\")\n",
        "    print(f\"F1-score (mean): {mean_f1}\")\n",
        "    print()\n"
      ],
      "metadata": {
        "colab": {
          "base_uri": "https://localhost:8080/"
        },
        "id": "AvMUwQzP-ds1",
        "outputId": "b74f4981-5185-4fd4-dc02-e5dd8b1b2965"
      },
      "execution_count": null,
      "outputs": [
        {
          "output_type": "stream",
          "name": "stdout",
          "text": [
            "Vettorizzazione: Word2Vec\n",
            "Modello: Logistic Regression\n",
            "Accuracy (mean): 0.5419267299864314\n",
            "Precision (mean): 0.7120397428404441\n",
            "Recall (mean): 0.5376114081996435\n",
            "F1-score (mean): 0.46955802495774446\n",
            "\n",
            "Modello: SVM\n",
            "Accuracy (mean): 0.5479421076436002\n",
            "Precision (mean): 0.5805116959064327\n",
            "Recall (mean): 0.3233511586452763\n",
            "F1-score (mean): 0.4125565356231867\n",
            "\n",
            "Modello: Random Forest\n",
            "Accuracy (mean): 0.8262777023971053\n",
            "Precision (mean): 0.8356345897941824\n",
            "Recall (mean): 0.813903743315508\n",
            "F1-score (mean): 0.8209154146230417\n",
            "\n",
            "Modello: KNN\n",
            "Accuracy (mean): 0.6407960199004974\n",
            "Precision (mean): 0.819496336996337\n",
            "Recall (mean): 0.3345811051693405\n",
            "F1-score (mean): 0.4716811594202898\n",
            "\n"
          ]
        }
      ]
    },
    {
      "cell_type": "markdown",
      "source": [
        "### Matrice di confusione con word2vec"
      ],
      "metadata": {
        "id": "K6yD9Od--iS4"
      }
    },
    {
      "cell_type": "code",
      "source": [
        "from sklearn.metrics import confusion_matrix, classification_report\n",
        "\n",
        "# Addestramento e valutazione dei modelli con dati SMOTE e Word2Vec\n",
        "for model_name, model in models.items():\n",
        "    if model_name == \"Naive Bayes\":  # Naive Bayes non compatibile con Word2Vec\n",
        "        continue\n",
        "    print(f\"Modello: {model_name}\")\n",
        "    # Addestramento del modello completo sui dati di addestramento SMOTE Word2Vec\n",
        "    model.fit(x_train_w2v_smote, y_train_w2v_smote)\n",
        "    # Predizioni sui dati di test\n",
        "    y_pred = model.predict(x_test_w2v)\n",
        "    # Calcolo della matrice di confusione\n",
        "    conf_matrix = confusion_matrix(y_test, y_pred)\n",
        "    # Plot della matrice di confusione\n",
        "    plt.figure(figsize=(8, 6))\n",
        "    sns.heatmap(conf_matrix, annot=True, fmt='d', cmap='Blues', cbar=False)\n",
        "    plt.xlabel('Predicted labels')\n",
        "    plt.ylabel('True labels')\n",
        "    plt.title(f'Confusion Matrix - {model_name}')\n",
        "    plt.show()\n",
        "    # Rapporto di classificazione\n",
        "    class_report = classification_report(y_test, y_pred)\n",
        "    print(\"Classification Report:\")\n",
        "    print(class_report)\n"
      ],
      "metadata": {
        "colab": {
          "base_uri": "https://localhost:8080/",
          "height": 1000
        },
        "id": "Oqs9urh3-lH9",
        "outputId": "3a1b0898-d1e8-4902-e08c-f76dd2d4049e"
      },
      "execution_count": null,
      "outputs": [
        {
          "output_type": "stream",
          "name": "stdout",
          "text": [
            "Modello: Logistic Regression\n"
          ]
        },
        {
          "output_type": "display_data",
          "data": {
            "text/plain": [
              "<Figure size 800x600 with 1 Axes>"
            ],
            "image/png": "[encoded data removed]"
          },
          "metadata": {}
        },
        {
          "output_type": "stream",
          "name": "stdout",
          "text": [
            "Classification Report:\n",
            "              precision    recall  f1-score   support\n",
            "\n",
            "           0       0.50      0.41      0.45        22\n",
            "           1       0.70      0.78      0.74        40\n",
            "\n",
            "    accuracy                           0.65        62\n",
            "   macro avg       0.60      0.59      0.59        62\n",
            "weighted avg       0.63      0.65      0.64        62\n",
            "\n",
            "Modello: SVM\n"
          ]
        },
        {
          "output_type": "display_data",
          "data": {
            "text/plain": [
              "<Figure size 800x600 with 1 Axes>"
            ],
            "image/png": "[encoded data removed]"
          },
          "metadata": {}
        },
        {
          "output_type": "stream",
          "name": "stdout",
          "text": [
            "Classification Report:\n",
            "              precision    recall  f1-score   support\n",
            "\n",
            "           0       0.48      0.73      0.58        22\n",
            "           1       0.79      0.57      0.67        40\n",
            "\n",
            "    accuracy                           0.63        62\n",
            "   macro avg       0.64      0.65      0.62        62\n",
            "weighted avg       0.68      0.63      0.64        62\n",
            "\n",
            "Modello: Random Forest\n"
          ]
        },
        {
          "output_type": "display_data",
          "data": {
            "text/plain": [
              "<Figure size 800x600 with 1 Axes>"
            ],
            "image/png": "[encoded data removed]"
          },
          "metadata": {}
        },
        {
          "output_type": "stream",
          "name": "stdout",
          "text": [
            "Classification Report:\n",
            "              precision    recall  f1-score   support\n",
            "\n",
            "           0       0.40      0.09      0.15        22\n",
            "           1       0.65      0.93      0.76        40\n",
            "\n",
            "    accuracy                           0.63        62\n",
            "   macro avg       0.52      0.51      0.46        62\n",
            "weighted avg       0.56      0.63      0.54        62\n",
            "\n",
            "Modello: KNN\n"
          ]
        },
        {
          "output_type": "display_data",
          "data": {
            "text/plain": [
              "<Figure size 800x600 with 1 Axes>"
            ],
            "image/png": "[encoded data removed]"
          },
          "metadata": {}
        },
        {
          "output_type": "stream",
          "name": "stdout",
          "text": [
            "Classification Report:\n",
            "              precision    recall  f1-score   support\n",
            "\n",
            "           0       0.42      0.68      0.52        22\n",
            "           1       0.73      0.47      0.58        40\n",
            "\n",
            "    accuracy                           0.55        62\n",
            "   macro avg       0.57      0.58      0.55        62\n",
            "weighted avg       0.62      0.55      0.55        62\n",
            "\n"
          ]
        }
      ]
    },
    {
      "cell_type": "markdown",
      "source": [
        "##  Valutazione Performance dei Modelli tramite Cross-Validation Stratificata:\n",
        " La stratificazione garantisce che ogni fold abbia una distribuzione simile delle classi di target, il che può portare a stime più affidabili delle prestazioni del modello. Considerando che stai lavorando con dati di recensioni, che potrebbero essere soggetti a sbilanciamento delle classi, l'uso della cross-validation stratificata è una scelta appropriata e può portare a stime più accurate delle prestazioni del modello"
      ],
      "metadata": {
        "id": "Ka5jezFvpMOi"
      }
    },
    {
      "cell_type": "code",
      "source": [
        "from sklearn.model_selection import cross_validate, StratifiedKFold\n",
        "from sklearn.linear_model import LogisticRegression\n",
        "from sklearn.naive_bayes import MultinomialNB\n",
        "from sklearn.svm import SVC\n",
        "from sklearn.ensemble import RandomForestClassifier\n",
        "from sklearn.neighbors import KNeighborsClassifier\n",
        "\n",
        "# Definizione dei modelli\n",
        "models = {\n",
        "    \"Logistic Regression\": LogisticRegression(max_iter=1000),\n",
        "    \"Naive Bayes\": MultinomialNB(),\n",
        "    \"SVM\": SVC(),\n",
        "    \"Random Forest\": RandomForestClassifier(),\n",
        "    \"KNN\": KNeighborsClassifier()\n",
        "}\n",
        "\n",
        "# Definizione delle vettorizzazioni\n",
        "vectorizers = {\n",
        "    \"BoW\": (x_train_bow, x_test_bow),\n",
        "    \"TF-IDF\": (x_train_tfidf, x_test_tfidf),\n",
        "    \"Word2Vec\": (x_train_w2v, x_test_w2v)\n",
        "}\n",
        "\n",
        "# Definizione delle misure di performance\n",
        "scoring = ['accuracy', 'precision', 'recall', 'f1']\n",
        "\n",
        "# Valutazione dei modelli con cross-validation stratificata per ogni vettorizzazione\n",
        "for vectorizer_name, (x_train_vec, x_test_vec) in vectorizers.items():\n",
        "    print(f\"Vettorizzazione: {vectorizer_name}\")\n",
        "    for model_name, model in models.items():\n",
        "        if model_name == \"Naive Bayes\" and vectorizer_name == \"Word2Vec\":\n",
        "            continue  # Salta Naive Bayes con Word2Vec\n",
        "        print(f\"Modello: {model_name}\")\n",
        "        stratified_kfold = StratifiedKFold(n_splits=5, shuffle=True, random_state=42)\n",
        "        results = cross_validate(model, x_train_vec, y_train, cv=stratified_kfold, scoring=scoring)\n",
        "        mean_accuracy = np.mean(results['test_accuracy'])\n",
        "        std_accuracy = np.std(results['test_accuracy'])\n",
        "        mean_precision = np.mean(results['test_precision'])\n",
        "        std_precision = np.std(results['test_precision'])\n",
        "        mean_recall = np.mean(results['test_recall'])\n",
        "        std_recall = np.std(results['test_recall'])\n",
        "        mean_f1 = np.mean(results['test_f1'])\n",
        "        std_f1 = np.std(results['test_f1'])\n",
        "        print(f\"Accuracy (mean): {mean_accuracy}\")\n",
        "        print(f\"Accuracy (std): {std_accuracy}\")\n",
        "        print(f\"Precision (mean): {mean_precision}\")\n",
        "        print(f\"Precision (std): {std_precision}\")\n",
        "        print(f\"Recall (mean): {mean_recall}\")\n",
        "        print(f\"Recall (std): {std_recall}\")\n",
        "        print(f\"F1-score (mean): {mean_f1}\")\n",
        "        print(f\"F1-score (std): {std_f1}\")\n",
        "        print()\n",
        "    print()\n"
      ],
      "metadata": {
        "colab": {
          "base_uri": "https://localhost:8080/"
        },
        "id": "lQ3TOvSqpIv1",
        "outputId": "3d960771-bf33-412f-8d05-77d4c5d4781c"
      },
      "execution_count": null,
      "outputs": [
        {
          "output_type": "stream",
          "name": "stdout",
          "text": [
            "Vettorizzazione: BoW\n",
            "Modello: Logistic Regression\n",
            "Accuracy (mean): 0.8171428571428571\n",
            "Accuracy (std): 0.031127634228469567\n",
            "Precision (mean): 0.8188104007255854\n",
            "Precision (std): 0.04673626379943468\n",
            "Recall (mean): 0.9467023172905525\n",
            "Recall (std): 0.05395625053969607\n",
            "F1-score (mean): 0.8756520632766444\n",
            "F1-score (std): 0.01962450778131024\n",
            "\n",
            "Modello: Naive Bayes\n",
            "Accuracy (mean): 0.8087346938775509\n",
            "Accuracy (std): 0.05313000252067309\n",
            "Precision (mean): 0.8262324929971989\n",
            "Precision (std): 0.05503712710193044\n",
            "Recall (mean): 0.9158645276292334\n",
            "Recall (std): 0.04037580712913113\n",
            "F1-score (mean): 0.8672322166041294\n",
            "F1-score (std): 0.03448124511757865\n",
            "\n",
            "Modello: SVM\n",
            "Accuracy (mean): 0.6748571428571428\n",
            "Accuracy (std): 0.010847010770202826\n",
            "Precision (mean): 0.6775510204081632\n",
            "Precision (std): 0.008163265306122458\n",
            "Recall (mean): 0.9941176470588236\n",
            "Recall (std): 0.011764705882352944\n",
            "F1-score (mean): 0.8058183955333529\n",
            "F1-score (std): 0.007706488022641702\n",
            "\n",
            "Modello: Random Forest\n",
            "Accuracy (mean): 0.7155102040816327\n",
            "Accuracy (std): 0.035899809677218\n",
            "Precision (mean): 0.7099123053026707\n",
            "Precision (std): 0.03375957636410399\n",
            "Recall (mean): 0.9880570409982175\n",
            "Recall (std): 0.01462979289032669\n",
            "F1-score (mean): 0.8254563320681451\n",
            "F1-score (std): 0.017953044056815262\n",
            "\n",
            "Modello: KNN\n",
            "Accuracy (mean): 0.7035102040816327\n",
            "Accuracy (std): 0.0768256516927614\n",
            "Precision (mean): 0.724031524031524\n",
            "Precision (std): 0.046215369899143904\n",
            "Recall (mean): 0.9098039215686274\n",
            "Recall (std): 0.06607975611606508\n",
            "F1-score (mean): 0.8060071850004225\n",
            "F1-score (std): 0.05206519522889057\n",
            "\n",
            "\n",
            "Vettorizzazione: TF-IDF\n",
            "Modello: Logistic Regression\n",
            "Accuracy (mean): 0.6788571428571428\n",
            "Accuracy (std): 0.007924676636415747\n",
            "Precision (mean): 0.6788571428571428\n",
            "Precision (std): 0.007924676636415747\n",
            "Recall (mean): 1.0\n",
            "Recall (std): 0.0\n",
            "F1-score (mean): 0.8086870128598015\n",
            "F1-score (std): 0.005592405117558078\n",
            "\n",
            "Modello: Naive Bayes\n",
            "Accuracy (mean): 0.6788571428571428\n",
            "Accuracy (std): 0.007924676636415747\n",
            "Precision (mean): 0.6788571428571428\n",
            "Precision (std): 0.007924676636415747\n",
            "Recall (mean): 1.0\n",
            "Recall (std): 0.0\n",
            "F1-score (mean): 0.8086870128598015\n",
            "F1-score (std): 0.005592405117558078\n",
            "\n",
            "Modello: SVM\n",
            "Accuracy (mean): 0.6788571428571428\n",
            "Accuracy (std): 0.007924676636415747\n",
            "Precision (mean): 0.6788571428571428\n",
            "Precision (std): 0.007924676636415747\n",
            "Recall (mean): 1.0\n",
            "Recall (std): 0.0\n",
            "F1-score (mean): 0.8086870128598015\n",
            "F1-score (std): 0.005592405117558078\n",
            "\n",
            "Modello: Random Forest\n",
            "Accuracy (mean): 0.7155102040816327\n",
            "Accuracy (std): 0.030912810169406505\n",
            "Precision (mean): 0.7053121532300863\n",
            "Precision (std): 0.025689827598329124\n",
            "Recall (mean): 1.0\n",
            "Recall (std): 0.0\n",
            "F1-score (mean): 0.8269332463468502\n",
            "F1-score (std): 0.01732213418030444\n",
            "\n",
            "Modello: KNN\n",
            "Accuracy (mean): 0.7602448979591836\n",
            "Accuracy (std): 0.03442885571420076\n",
            "Precision (mean): 0.7579731379731379\n",
            "Precision (std): 0.024993080780991137\n",
            "Recall (mean): 0.952584670231729\n",
            "Recall (std): 0.039740452609921505\n",
            "F1-score (mean): 0.8435738450446454\n",
            "F1-score (std): 0.02202300566539481\n",
            "\n",
            "\n",
            "Vettorizzazione: Word2Vec\n",
            "Modello: Logistic Regression\n",
            "Accuracy (mean): 0.6788571428571428\n",
            "Accuracy (std): 0.007924676636415747\n",
            "Precision (mean): 0.6788571428571428\n",
            "Precision (std): 0.007924676636415747\n",
            "Recall (mean): 1.0\n",
            "Recall (std): 0.0\n",
            "F1-score (mean): 0.8086870128598015\n",
            "F1-score (std): 0.005592405117558078\n",
            "\n",
            "Modello: SVM\n",
            "Accuracy (mean): 0.6788571428571428\n",
            "Accuracy (std): 0.007924676636415747\n",
            "Precision (mean): 0.6788571428571428\n",
            "Precision (std): 0.007924676636415747\n",
            "Recall (mean): 1.0\n",
            "Recall (std): 0.0\n",
            "F1-score (mean): 0.8086870128598015\n",
            "F1-score (std): 0.005592405117558078\n",
            "\n",
            "Modello: Random Forest\n",
            "Accuracy (mean): 0.6868571428571429\n",
            "Accuracy (std): 0.04086397219116512\n",
            "Precision (mean): 0.7002415458937198\n",
            "Precision (std): 0.013856189189527638\n",
            "Recall (mean): 0.9397504456327986\n",
            "Recall (std): 0.06356817149484024\n",
            "F1-score (mean): 0.8020039922211657\n",
            "F1-score (std): 0.03259158301328487\n",
            "\n",
            "Modello: KNN\n",
            "Accuracy (mean): 0.6342040816326531\n",
            "Accuracy (std): 0.04595737118983798\n",
            "Precision (mean): 0.7073146223146223\n",
            "Precision (std): 0.032888878362327255\n",
            "Recall (mean): 0.7903743315508022\n",
            "Recall (std): 0.05079869894847937\n",
            "F1-score (mean): 0.7455517130859596\n",
            "F1-score (std): 0.03134507342268051\n",
            "\n",
            "\n"
          ]
        }
      ]
    },
    {
      "cell_type": "markdown",
      "source": [
        "# Rete neurale con vettori Word2Vec"
      ],
      "metadata": {
        "id": "fp_W1U5jpndk"
      }
    },
    {
      "cell_type": "code",
      "source": [
        "# Importazioni necessarie\n",
        "import numpy as np\n",
        "from keras.models import Sequential\n",
        "from keras.layers import SimpleRNN, Dropout, Dense, Conv1D, MaxPooling1D, Flatten, LSTM\n",
        "from keras.optimizers import Adam\n",
        "from sklearn.metrics import accuracy_score, f1_score\n",
        "from keras.preprocessing.sequence import pad_sequences\n",
        "\n",
        "# Funzione per compilare e addestrare il modello\n",
        "def compile_and_train(model, x_train, y_train, x_test, y_test, epochs=10, batch_size=32):\n",
        "    model.compile(loss='binary_crossentropy', optimizer=Adam(), metrics=['accuracy'])\n",
        "    model.fit(x_train, y_train, epochs=epochs, batch_size=batch_size, validation_data=(x_test, y_test))\n",
        "    score = model.evaluate(x_test, y_test, verbose=0)\n",
        "    y_pred = (model.predict(x_test) > 0.5).astype(\"int32\")\n",
        "    accuracy = accuracy_score(y_test, y_pred)\n",
        "    f1 = f1_score(y_test, y_pred)\n",
        "    print(f\"Test loss: {score[0]}, Test accuracy: {accuracy}, F1-score: {f1}\")\n",
        "    return accuracy, f1\n",
        "\n",
        "# Modello RNN\n",
        "rnn_model = Sequential([\n",
        "    SimpleRNN(128, input_shape=(max_length, 1), return_sequences=True),\n",
        "    Dropout(0.2),\n",
        "    SimpleRNN(128),\n",
        "    Dropout(0.2),\n",
        "    Dense(1, activation='sigmoid')\n",
        "])\n",
        "\n",
        "print(\"Training RNN model...\")\n",
        "rnn_accuracy, rnn_f1 = compile_and_train(rnn_model, x_train_padded, y_train, x_test_padded, y_test)\n",
        "\n",
        "# Modello CNN\n",
        "cnn_model = Sequential([\n",
        "    Conv1D(filters=128, kernel_size=3, activation='relu', input_shape=(max_length, 1)),\n",
        "    MaxPooling1D(pool_size=2),\n",
        "    Dropout(0.2),\n",
        "    Conv1D(filters=128, kernel_size=3, activation='relu'),\n",
        "    MaxPooling1D(pool_size=2),\n",
        "    Dropout(0.2),\n",
        "    Flatten(),\n",
        "    Dense(128, activation='relu'),\n",
        "    Dropout(0.2),\n",
        "    Dense(1, activation='sigmoid')\n",
        "])\n",
        "\n",
        "print(\"Training CNN model...\")\n",
        "cnn_accuracy, cnn_f1 = compile_and_train(cnn_model, x_train_padded, y_train, x_test_padded, y_test)\n",
        "\n",
        "# Modello LSTM\n",
        "lstm_model = Sequential([\n",
        "    LSTM(128, input_shape=(max_length, 1), return_sequences=True),\n",
        "    Dropout(0.2),\n",
        "    LSTM(128),\n",
        "    Dropout(0.2),\n",
        "    Dense(1, activation='sigmoid')\n",
        "])\n",
        "\n",
        "print(\"Training LSTM model...\")\n",
        "lstm_accuracy, lstm_f1 = compile_and_train(lstm_model, x_train_padded, y_train, x_test_padded, y_test)\n",
        "\n",
        "# Stampa dei risultati\n",
        "print(f\"RNN Model - Accuracy: {rnn_accuracy}, F1-score: {rnn_f1}\")\n",
        "print(f\"CNN Model - Accuracy: {cnn_accuracy}, F1-score: {cnn_f1}\")\n",
        "print(f\"LSTM Model - Accuracy: {lstm_accuracy}, F1-score: {lstm_f1}\")\n",
        "\n",
        "# Predizioni sui dati di test\n",
        "y_pred_rnn = (rnn_model.predict(x_test_padded) > 0.5).astype(\"int32\")\n",
        "y_pred_cnn = (cnn_model.predict(x_test_padded) > 0.5).astype(\"int32\")\n",
        "y_pred_lstm = (lstm_model.predict(x_test_padded) > 0.5).astype(\"int32\")\n",
        "\n"
      ],
      "metadata": {
        "colab": {
          "base_uri": "https://localhost:8080/"
        },
        "id": "BvyOKohGEAyH",
        "outputId": "e23a904c-b58a-4be5-e67d-37a6b910fd49"
      },
      "execution_count": null,
      "outputs": [
        {
          "output_type": "stream",
          "name": "stdout",
          "text": [
            "Training RNN model...\n",
            "Epoch 1/10\n",
            "8/8 [==============================] - 10s 514ms/step - loss: 0.6878 - accuracy: 0.6179 - val_loss: 0.6645 - val_accuracy: 0.6452\n",
            "Epoch 2/10\n",
            "8/8 [==============================] - 4s 465ms/step - loss: 0.6378 - accuracy: 0.6504 - val_loss: 0.6705 - val_accuracy: 0.6452\n",
            "Epoch 3/10\n",
            "8/8 [==============================] - 6s 821ms/step - loss: 0.6413 - accuracy: 0.6789 - val_loss: 0.6633 - val_accuracy: 0.6452\n",
            "Epoch 4/10\n",
            "8/8 [==============================] - 10s 1s/step - loss: 0.6799 - accuracy: 0.6138 - val_loss: 0.6560 - val_accuracy: 0.6452\n",
            "Epoch 5/10\n",
            "8/8 [==============================] - 9s 1s/step - loss: 0.6734 - accuracy: 0.5894 - val_loss: 0.6655 - val_accuracy: 0.6452\n",
            "Epoch 6/10\n",
            "8/8 [==============================] - 7s 792ms/step - loss: 0.6502 - accuracy: 0.6748 - val_loss: 0.6504 - val_accuracy: 0.6452\n",
            "Epoch 7/10\n",
            "8/8 [==============================] - 4s 468ms/step - loss: 0.6823 - accuracy: 0.5894 - val_loss: 0.6693 - val_accuracy: 0.6452\n",
            "Epoch 8/10\n",
            "8/8 [==============================] - 4s 469ms/step - loss: 0.6392 - accuracy: 0.6911 - val_loss: 0.6518 - val_accuracy: 0.6452\n",
            "Epoch 9/10\n",
            "8/8 [==============================] - 5s 588ms/step - loss: 0.6822 - accuracy: 0.6179 - val_loss: 0.6679 - val_accuracy: 0.6452\n",
            "Epoch 10/10\n",
            "8/8 [==============================] - 6s 463ms/step - loss: 0.6404 - accuracy: 0.6382 - val_loss: 0.6956 - val_accuracy: 0.5968\n",
            "2/2 [==============================] - 0s 58ms/step\n",
            "Test loss: 0.6956489086151123, Test accuracy: 0.5967741935483871, F1-score: 0.7474747474747475\n",
            "Training CNN model...\n",
            "Epoch 1/10\n",
            "8/8 [==============================] - 4s 73ms/step - loss: 102.3950 - accuracy: 0.5528 - val_loss: 10.5196 - val_accuracy: 0.5000\n",
            "Epoch 2/10\n",
            "8/8 [==============================] - 0s 11ms/step - loss: 10.5642 - accuracy: 0.7276 - val_loss: 4.6058 - val_accuracy: 0.5645\n",
            "Epoch 3/10\n",
            "8/8 [==============================] - 0s 8ms/step - loss: 4.7093 - accuracy: 0.6260 - val_loss: 1.8192 - val_accuracy: 0.5161\n",
            "Epoch 4/10\n",
            "8/8 [==============================] - 0s 8ms/step - loss: 1.9408 - accuracy: 0.6341 - val_loss: 1.1082 - val_accuracy: 0.5484\n",
            "Epoch 5/10\n",
            "8/8 [==============================] - 0s 8ms/step - loss: 1.1369 - accuracy: 0.6992 - val_loss: 0.9861 - val_accuracy: 0.5323\n",
            "Epoch 6/10\n",
            "8/8 [==============================] - 0s 8ms/step - loss: 0.9811 - accuracy: 0.7276 - val_loss: 0.8522 - val_accuracy: 0.6452\n",
            "Epoch 7/10\n",
            "8/8 [==============================] - 0s 8ms/step - loss: 0.8859 - accuracy: 0.6992 - val_loss: 0.8039 - val_accuracy: 0.6129\n",
            "Epoch 8/10\n",
            "8/8 [==============================] - 0s 8ms/step - loss: 0.7780 - accuracy: 0.6748 - val_loss: 0.7891 - val_accuracy: 0.5806\n",
            "Epoch 9/10\n",
            "8/8 [==============================] - 0s 11ms/step - loss: 0.5509 - accuracy: 0.7480 - val_loss: 0.8023 - val_accuracy: 0.6613\n",
            "Epoch 10/10\n",
            "8/8 [==============================] - 0s 11ms/step - loss: 0.6988 - accuracy: 0.6951 - val_loss: 0.7652 - val_accuracy: 0.6452\n",
            "2/2 [==============================] - 0s 5ms/step\n",
            "Test loss: 0.7651503682136536, Test accuracy: 0.6451612903225806, F1-score: 0.7441860465116279\n",
            "Training LSTM model...\n",
            "Epoch 1/10\n",
            "8/8 [==============================] - 4s 149ms/step - loss: 0.6689 - accuracy: 0.6504 - val_loss: 0.6581 - val_accuracy: 0.6452\n",
            "Epoch 2/10\n",
            "8/8 [==============================] - 0s 32ms/step - loss: 0.6360 - accuracy: 0.6789 - val_loss: 0.6504 - val_accuracy: 0.6452\n",
            "Epoch 3/10\n",
            "8/8 [==============================] - 0s 30ms/step - loss: 0.6345 - accuracy: 0.6789 - val_loss: 0.6520 - val_accuracy: 0.6452\n",
            "Epoch 4/10\n",
            "8/8 [==============================] - 0s 29ms/step - loss: 0.6315 - accuracy: 0.6789 - val_loss: 0.6513 - val_accuracy: 0.6452\n",
            "Epoch 5/10\n",
            "8/8 [==============================] - 0s 28ms/step - loss: 0.6326 - accuracy: 0.6789 - val_loss: 0.6524 - val_accuracy: 0.6452\n",
            "Epoch 6/10\n",
            "8/8 [==============================] - 0s 29ms/step - loss: 0.6329 - accuracy: 0.6789 - val_loss: 0.6515 - val_accuracy: 0.6452\n",
            "Epoch 7/10\n",
            "8/8 [==============================] - 0s 29ms/step - loss: 0.6265 - accuracy: 0.6789 - val_loss: 0.6510 - val_accuracy: 0.6452\n",
            "Epoch 8/10\n",
            "8/8 [==============================] - 0s 30ms/step - loss: 0.6293 - accuracy: 0.6789 - val_loss: 0.6526 - val_accuracy: 0.6452\n",
            "Epoch 9/10\n",
            "8/8 [==============================] - 0s 29ms/step - loss: 0.6277 - accuracy: 0.6789 - val_loss: 0.6508 - val_accuracy: 0.6452\n",
            "Epoch 10/10\n",
            "8/8 [==============================] - 0s 30ms/step - loss: 0.6278 - accuracy: 0.6789 - val_loss: 0.6567 - val_accuracy: 0.6452\n",
            "2/2 [==============================] - 1s 13ms/step\n",
            "Test loss: 0.6566914916038513, Test accuracy: 0.6451612903225806, F1-score: 0.7843137254901961\n",
            "RNN Model - Accuracy: 0.5967741935483871, F1-score: 0.7474747474747475\n",
            "CNN Model - Accuracy: 0.6451612903225806, F1-score: 0.7441860465116279\n",
            "LSTM Model - Accuracy: 0.6451612903225806, F1-score: 0.7843137254901961\n",
            "2/2 [==============================] - 0s 52ms/step\n",
            "2/2 [==============================] - 0s 5ms/step\n",
            "2/2 [==============================] - 0s 12ms/step\n"
          ]
        }
      ]
    },
    {
      "cell_type": "markdown",
      "source": [
        "# Matrice di confusione per valutare le prestazioni del modello"
      ],
      "metadata": {
        "id": "SZJGepT3IyYn"
      }
    },
    {
      "cell_type": "code",
      "source": [
        "import seaborn as sns\n",
        "import matplotlib.pyplot as plt\n",
        "from sklearn.metrics import confusion_matrix\n",
        "\n",
        "# Definisci i nomi dei modelli e le relative previsioni\n",
        "model_names = ['RNN', 'CNN', 'LSTM']\n",
        "y_preds = [y_pred_rnn, y_pred_cnn, y_pred_lstm]\n",
        "\n",
        "# Crea una griglia di subplot per le matrici di confusione\n",
        "fig, axes = plt.subplots(1, 3, figsize=(18, 6))\n",
        "\n",
        "# Per ogni modello, calcola e visualizza la matrice di confusione\n",
        "for i, (model_name, y_pred) in enumerate(zip(model_names, y_preds)):\n",
        "    conf_matrix = confusion_matrix(y_test, y_pred)\n",
        "    conf_df = pd.DataFrame(conf_matrix, index=['True Negative', 'True Positive'], columns=['Predicted Negative', 'Predicted Positive'])\n",
        "    sns.heatmap(conf_df, annot=True, fmt='d', cmap='Blues', cbar=False, ax=axes[i])\n",
        "    axes[i].set_title(f'Confusion Matrix - {model_name} Model')\n",
        "    axes[i].set_xlabel('Predicted Label')\n",
        "    axes[i].set_ylabel('True Label')\n",
        "\n",
        "plt.tight_layout()\n",
        "plt.show()\n"
      ],
      "metadata": {
        "id": "f-ee1O2GFa9J",
        "colab": {
          "base_uri": "https://localhost:8080/",
          "height": 472
        },
        "outputId": "36f04716-e451-43f5-a330-e7337b1294a1"
      },
      "execution_count": null,
      "outputs": [
        {
          "output_type": "display_data",
          "data": {
            "text/plain": [
              "<Figure size 1800x600 with 3 Axes>"
            ],
            "image/png": "[encoded data removed]"
          },
          "metadata": {}
        }
      ]
    },
    {
      "cell_type": "markdown",
      "source": [
        "c'è una tendenza nello scegliere il positivo al posto del negativo"
      ],
      "metadata": {
        "id": "O4UOfGYWHwh9"
      }
    },
    {
      "cell_type": "markdown",
      "source": [
        "#TRANSFORMERS"
      ],
      "metadata": {
        "id": "-5S6XTNY-wHU"
      }
    },
    {
      "cell_type": "markdown",
      "source": [
        "## BERT"
      ],
      "metadata": {
        "id": "7Jx6FaI4-ytk"
      }
    },
    {
      "cell_type": "code",
      "source": [
        "import torch\n",
        "from transformers import BertTokenizer, BertForSequenceClassification\n",
        "from torch.utils.data import TensorDataset, DataLoader, RandomSampler\n",
        "from transformers import AdamW, get_linear_schedule_with_warmup\n",
        "from sklearn.model_selection import train_test_split\n",
        "from sklearn.metrics import accuracy_score\n",
        "import numpy as np\n",
        "\n",
        "# Definizione dei parametri\n",
        "MAX_LEN = 512  # Lunghezza massima della sequenza\n",
        "BATCH_SIZE = 32\n",
        "LEARNING_RATE = 2e-5\n",
        "EPOCHS = 3\n",
        "\n",
        "# Caricamento dei dati di addestramento e test\n",
        "df= pd.read_csv('RECENSIONI_pulite.csv')\n",
        "texts = df['Text']\n",
        "labels = df['Sentiment']\n",
        "\n",
        "# Tokenizzazione dei testi\n",
        "tokenizer = BertTokenizer.from_pretrained('bert-base-uncased', do_lower_case=True)\n",
        "input_ids = []\n",
        "attention_masks = []\n",
        "\n",
        "for text in texts:\n",
        "    encoded_dict = tokenizer.encode_plus(\n",
        "                        text,                      # Testo da tokenizzare\n",
        "                        add_special_tokens = True, # Aggiunge [CLS] e [SEP]\n",
        "                        max_length = MAX_LEN,      # Imposta la lunghezza massima della sequenza\n",
        "                        padding = 'max_length',    # Padding della sequenza\n",
        "                        return_attention_mask = True,   # Crea le attention mask\n",
        "                        return_tensors = 'pt',     # Restituisce i tensori di PyTorch\n",
        "                   )\n",
        "\n",
        "    input_ids.append(encoded_dict['input_ids'])\n",
        "    attention_masks.append(encoded_dict['attention_mask'])\n",
        "\n",
        "input_ids = torch.cat(input_ids, dim=0)\n",
        "attention_masks = torch.cat(attention_masks, dim=0)\n",
        "labels = torch.tensor(labels)\n",
        "\n",
        "# Divisione dei dati in set di addestramento e di validazione\n",
        "train_inputs, val_inputs, train_labels, val_labels = train_test_split(input_ids, labels,\n",
        "                                                            random_state=2022, test_size=0.1)\n",
        "train_masks, val_masks, _, _ = train_test_split(attention_masks, input_ids,\n",
        "                                             random_state=2022, test_size=0.1)\n",
        "\n",
        "# Creazione di DataLoader per il set di addestramento e di validazione\n",
        "train_data = TensorDataset(train_inputs, train_masks, train_labels)\n",
        "train_sampler = RandomSampler(train_data)\n",
        "train_dataloader = DataLoader(train_data, sampler=train_sampler, batch_size=BATCH_SIZE)\n",
        "\n",
        "val_data = TensorDataset(val_inputs, val_masks, val_labels)\n",
        "val_dataloader = DataLoader(val_data, batch_size=BATCH_SIZE)\n",
        "\n",
        "# Caricamento del modello BERT pre-addestrato per la classificazione di sequenze\n",
        "model = BertForSequenceClassification.from_pretrained(\n",
        "    \"bert-base-uncased\",\n",
        "    num_labels = 2,\n",
        "    output_attentions = False,\n",
        "    output_hidden_states = False,\n",
        ")\n",
        "\n",
        "# Definizione del device per l'addestramento su GPU, se disponibile\n",
        "device = torch.device(\"cuda\" if torch.cuda.is_available() else \"cpu\")\n",
        "model.to(device)\n",
        "\n",
        "# Definizione dell'ottimizzatore e del scheduler\n",
        "optimizer = AdamW(model.parameters(),\n",
        "                  lr = LEARNING_RATE,\n",
        "                  eps = 1e-8\n",
        "                )\n",
        "\n",
        "total_steps = len(train_dataloader) * EPOCHS\n",
        "\n",
        "scheduler = get_linear_schedule_with_warmup(optimizer,\n",
        "                                            num_warmup_steps = 0,\n",
        "                                            num_training_steps = total_steps)\n",
        "\n",
        "# Addestramento del modello\n",
        "for epoch in range(EPOCHS):\n",
        "    model.train()\n",
        "    total_train_loss = 0\n",
        "\n",
        "    for step, batch in enumerate(train_dataloader):\n",
        "        b_input_ids = batch[0].to(device)\n",
        "        b_input_mask = batch[1].to(device)\n",
        "        b_labels = batch[2].to(device)\n",
        "\n",
        "        model.zero_grad()\n",
        "        outputs = model(b_input_ids,\n",
        "                    token_type_ids=None,\n",
        "                    attention_mask=b_input_mask,\n",
        "                    labels=b_labels)\n",
        "\n",
        "        loss = outputs.loss\n",
        "        total_train_loss += loss.item()\n",
        "        loss.backward()\n",
        "        torch.nn.utils.clip_grad_norm_(model.parameters(), 1.0)\n",
        "        optimizer.step()\n",
        "        scheduler.step()\n",
        "\n",
        "    avg_train_loss = total_train_loss / len(train_dataloader)\n",
        "\n",
        "    # Valutazione del modello sul set di validazione\n",
        "    model.eval()\n",
        "    total_eval_accuracy = 0\n",
        "    total_eval_loss = 0\n",
        "\n",
        "    for batch in val_dataloader:\n",
        "        b_input_ids = batch[0].to(device)\n",
        "        b_input_mask = batch[1].to(device)\n",
        "        b_labels = batch[2].to(device)\n",
        "\n",
        "        with torch.no_grad():\n",
        "            outputs = model(b_input_ids,\n",
        "                            token_type_ids=None,\n",
        "                            attention_mask=b_input_mask,\n",
        "                            labels=b_labels)\n",
        "\n",
        "            loss = outputs.loss\n",
        "            logits = outputs.logits\n",
        "\n",
        "        total_eval_loss += loss.item()\n",
        "        logits = logits.detach().cpu().numpy()\n",
        "        label_ids = b_labels.to('cpu').numpy()\n",
        "        total_eval_accuracy += accuracy_score(np.argmax(logits, axis=1), label_ids)\n",
        "\n",
        "    avg_val_accuracy = total_eval_accuracy / len(val_dataloader)\n",
        "    avg_val_loss = total_eval_loss / len(val_dataloader)\n",
        "\n",
        "    print(f'Epoch {epoch + 1}/{EPOCHS}')\n",
        "    print(f'Training Loss: {avg_train_loss:.4f}')\n",
        "    print(f'Validation Loss: {avg_val_loss:.4f}')\n",
        "    print(f'Validation Accuracy: {avg_val_accuracy:.4f}')\n",
        "\n",
        "print(\"Addestramento completato!\")\n"
      ],
      "metadata": {
        "id": "tICyp-hjU-DQ",
        "colab": {
          "base_uri": "https://localhost:8080/",
          "height": 527,
          "referenced_widgets": [
            "557294e5abca4f2eb4c7f526fd8a1f23",
            "8f410de922294e19aba79e42e0aba72e",
            "a2e8a89d487a4900935bebe62d15aee7",
            "69c976a6046540fdb2b129f1dffd5a8d",
            "0418ed1d1a8643fbb261620e0055e638",
            "f4a46b5849e543f29e5042dcf8235333",
            "a3e7cff12cb54a55b6c1ce27a0f9f6cc",
            "8a759020655741a5a97d2170e15ba556",
            "48b4b5937a104a899d09f23746362f46",
            "3816a55c9b104847a24b082fc2329ed8",
            "7cff89f8cd03474abb59e3ebbbbafca6",
            "2ea3925d918b47949d9362502f376424",
            "c778578250324eb78145969574f36697",
            "a4ce22aee7fe4f6796d0fea039e07b56",
            "d77884084efa4ec6adcc3cacacfe9ec3",
            "09a0d472434240ec8f5cbee7136b4356",
            "169699c0c70c4fc6bc901881a2a1e513",
            "fae7c663250f4dee84c8c81263e17181",
            "3e1fc69e59764bd4ae84325934980be9",
            "381269252dfb45b699d683ba12c47750",
            "57b20c99357a4427a51d3aa56c12b266",
            "8c9e6c69241c4ca4bf72c0e875b0e52f",
            "6df6740b45b94e7f9bd527cfcdd5ae79",
            "c3b9ca54b3bc4f3a814a8adfb8109d71",
            "32add1113024445b800cd1b76e7bb5cd",
            "2690a0d59efc4a2aa07faf77ecb05161",
            "84efa9f2747f4461a22c8b67401f53f9",
            "c42f0b4e97ea401a83726c2e644ab7e5",
            "61f5a1a7aec544928ea1a096b3302e2a",
            "7af35d9eb0e146ae9f4b5f072d3a88f9",
            "0f7835c2b3544ceab384874f269ef19f",
            "cb86e19ca9674a4f89f18bdad73dae3a",
            "e13c0ed4a5d1458a816e5b3e03dc397b",
            "84a45592a60b42588f8e6f90b675f873",
            "051a6b7d394b447381e1972a87070214",
            "5e84aea7c9504c59b8e125f199eb84f0",
            "7138658343e64fcb9dcf2cbfda204dd8",
            "074b6e6146f14c839d5b1b97839a571d",
            "cd406a8a4fa5480a9f14ccb37e17f844",
            "db2ba32b90934a028663059db0f1e2af",
            "00f6b950c1d7486a8aa7ffc99f2d156f",
            "406f2eb8dad84db3badf96a4c070c39e",
            "a9f94af99b8643c2876170891cc470eb",
            "e198098487244cc88c1bf51f21e11300",
            "c5e64c79ee934c54bfc3bbed037d19d7",
            "7fc99bbb2c7c4da8ac03c1ccaf04a76f",
            "704f0664bdea4b2ca0e8a00a2623b3b9",
            "f2d97c3764d9470eba0f5f4b9e524bb7",
            "3db9de48ec7141909ca0a17535fb818b",
            "675a7aedc5db4b9b813553e9a5820c61",
            "8110114fc971498c8245b95bdbe36f43",
            "28b223e9aa1a48be90ba46b7d361469a",
            "538bd5d1bbd94b6f8285dc2273d81522",
            "a75dae2dd7dd4ad2b85c812a7f88e335",
            "e230d73ce08e4ea8ae0d8878b7b1d23a"
          ]
        },
        "outputId": "663af80b-8de0-4f6a-edae-8da695d71a4d"
      },
      "execution_count": null,
      "outputs": [
        {
          "output_type": "display_data",
          "data": {
            "text/plain": [
              "tokenizer_config.json:   0%|          | 0.00/48.0 [00:00<?, ?B/s]"
            ],
            "application/vnd.jupyter.widget-view+json": {
              "version_major": 2,
              "version_minor": 0,
              "model_id": "557294e5abca4f2eb4c7f526fd8a1f23"
            }
          },
          "metadata": {}
        },
        {
          "output_type": "display_data",
          "data": {
            "text/plain": [
              "vocab.txt:   0%|          | 0.00/232k [00:00<?, ?B/s]"
            ],
            "application/vnd.jupyter.widget-view+json": {
              "version_major": 2,
              "version_minor": 0,
              "model_id": "2ea3925d918b47949d9362502f376424"
            }
          },
          "metadata": {}
        },
        {
          "output_type": "display_data",
          "data": {
            "text/plain": [
              "tokenizer.json:   0%|          | 0.00/466k [00:00<?, ?B/s]"
            ],
            "application/vnd.jupyter.widget-view+json": {
              "version_major": 2,
              "version_minor": 0,
              "model_id": "6df6740b45b94e7f9bd527cfcdd5ae79"
            }
          },
          "metadata": {}
        },
        {
          "output_type": "stream",
          "name": "stderr",
          "text": [
            "/usr/local/lib/python3.10/dist-packages/huggingface_hub/file_download.py:1132: FutureWarning: `resume_download` is deprecated and will be removed in version 1.0.0. Downloads always resume when possible. If you want to force a new download, use `force_download=True`.\n",
            "  warnings.warn(\n"
          ]
        },
        {
          "output_type": "display_data",
          "data": {
            "text/plain": [
              "config.json:   0%|          | 0.00/570 [00:00<?, ?B/s]"
            ],
            "application/vnd.jupyter.widget-view+json": {
              "version_major": 2,
              "version_minor": 0,
              "model_id": "84a45592a60b42588f8e6f90b675f873"
            }
          },
          "metadata": {}
        },
        {
          "output_type": "display_data",
          "data": {
            "text/plain": [
              "model.safetensors:   0%|          | 0.00/440M [00:00<?, ?B/s]"
            ],
            "application/vnd.jupyter.widget-view+json": {
              "version_major": 2,
              "version_minor": 0,
              "model_id": "c5e64c79ee934c54bfc3bbed037d19d7"
            }
          },
          "metadata": {}
        },
        {
          "output_type": "stream",
          "name": "stderr",
          "text": [
            "Some weights of BertForSequenceClassification were not initialized from the model checkpoint at bert-base-uncased and are newly initialized: ['classifier.bias', 'classifier.weight']\n",
            "You should probably TRAIN this model on a down-stream task to be able to use it for predictions and inference.\n",
            "/usr/local/lib/python3.10/dist-packages/transformers/optimization.py:588: FutureWarning: This implementation of AdamW is deprecated and will be removed in a future version. Use the PyTorch implementation torch.optim.AdamW instead, or set `no_deprecation_warning=True` to disable this warning\n",
            "  warnings.warn(\n"
          ]
        },
        {
          "output_type": "stream",
          "name": "stdout",
          "text": [
            "Epoch 1/3\n",
            "Training Loss: 0.6177\n",
            "Validation Loss: 0.6658\n",
            "Validation Accuracy: 0.6129\n",
            "Epoch 2/3\n",
            "Training Loss: 0.5474\n",
            "Validation Loss: 0.5262\n",
            "Validation Accuracy: 0.6774\n",
            "Epoch 3/3\n",
            "Training Loss: 0.4782\n",
            "Validation Loss: 0.5040\n",
            "Validation Accuracy: 0.6452\n",
            "Addestramento completato!\n"
          ]
        }
      ]
    },
    {
      "cell_type": "markdown",
      "source": [
        "# GPT-2"
      ],
      "metadata": {
        "id": "PqmVqZrGiE0h"
      }
    },
    {
      "cell_type": "code",
      "source": [
        "data = pd.read_csv('RECENSIONI_pulite.csv')\n",
        "import torch\n",
        "from transformers import GPT2Tokenizer, GPT2ForSequenceClassification\n",
        "from sklearn.model_selection import train_test_split\n",
        "\n",
        "# Tokenizer e modello GPT-2\n",
        "tokenizer = GPT2Tokenizer.from_pretrained('gpt2')\n",
        "tokenizer.pad_token = tokenizer.eos_token  # Aggiungi il token di padding\n",
        "model = GPT2ForSequenceClassification.from_pretrained('gpt2', num_labels=2)\n",
        "model.config.pad_token_id = tokenizer.pad_token_id  # Configura il modello per usare il token di padding\n",
        "\n",
        "# Tokenizzazione e encoding delle recensioni\n",
        "def encode_reviews(reviews, tokenizer, max_length=512):\n",
        "    return tokenizer(reviews, padding=True, truncation=True, max_length=max_length, return_tensors='pt')\n",
        "\n",
        "# Prepara i dati\n",
        "reviews = data['Text'].tolist()\n",
        "labels = data['Sentiment'].apply(lambda x: 1 if x == 'positivo' else 0).tolist()  # Supponiamo che i sentimenti siano \"positivo\" e \"negativo\"\n",
        "\n",
        "# Suddivisione in train e test\n",
        "train_texts, test_texts, train_labels, test_labels = train_test_split(reviews, labels, test_size=0.2, random_state=42)\n",
        "\n",
        "# Encoding dei dati\n",
        "train_encodings = encode_reviews(train_texts, tokenizer)\n",
        "test_encodings = encode_reviews(test_texts, tokenizer)\n",
        "\n",
        "train_labels = torch.tensor(train_labels)\n",
        "test_labels = torch.tensor(test_labels)\n"
      ],
      "metadata": {
        "id": "65C7JXjbnEjk",
        "colab": {
          "base_uri": "https://localhost:8080/",
          "height": 403,
          "referenced_widgets": [
            "44829e570ce84294a180a723b2ae5e64",
            "d0bf5c815c0345229bfbec9afd1872fe",
            "58606c6487344a35bd35c246c1e336e4",
            "6660989b588c41e5a246315c4b5e71b7",
            "73af3b315d88476181f8f0e363751d67",
            "f749ad3d2ee4437db678b35e19aa1e07",
            "604d30ecc30a4e0b893d047b288dec91",
            "b2b3e4635a0f4913b837fbd08936ed51",
            "9f684bb4cace4cceb4444a22ccd03b10",
            "afaa907a82e14db795530894d3650841",
            "035c049536624a43bda33bf6a3bec2bc",
            "832e49bf52624cdda4ef8ced694c40a5",
            "defb2701055a4f7daac79a21ea7145b2",
            "0e6ada0056ea4fd5bcba27dc768b2f66",
            "39ca6f525b7e41d9a32f2ff9aac6694f",
            "1c709b7683364b5eae5283ce163c4a22",
            "b610444a73b0410da3fd9a7ac36bd41d",
            "7ce91df0c90d43a18912075657808547",
            "eb7e12b95cff4998b5f2d483d0ad0189",
            "087361ac646548b8996506fe76f0da74",
            "1b2bc9397c764bc18daaacfbca8e6b24",
            "05470711ee094acaa35cf23d58e242c2",
            "b1672f4a7ab54dd58dc918ba59ff2aa0",
            "a3fa3a52a0dc425d8f4bff8996050df6",
            "ef05f30d091049079d1006dcafcb6e7e",
            "4d4856a7666c4744b43f8fee6626f48f",
            "d063c03078844113816d3ba7d4528884",
            "6fca89e01f1b4ac5be81ce82dc52ec73",
            "415bec2c4a4b4e1e9467acc8fcfb3026",
            "33ab9dd935bb435f9d3e1eb089a3cce0",
            "35ec2d81af954829bba1113e9dff1d42",
            "dca1a1b1de47443f9e70c6509ef7d566",
            "eef1173b8ef34f4a935c151935916a6f",
            "b58eda124a1745868eeee984847e536b",
            "080f4f1f23b74499a6f2a7f07b173486",
            "c88bd70c29ce4ae19e6f4dcbccf48145",
            "e8c724ae24f642a78c80aafcef07b822",
            "d21f3bb41bc64e59946b134d9e2c555c",
            "60124841bf884ffb903ecea4e3b6d01d",
            "81331a0c377e44e79a8e0097152dcb67",
            "00ab7f13a4fb4b32b95a87afc90006a5",
            "e3c3e1163fd74acdbfecb92bc5b6f8de",
            "063c350bf7cc437e8dcb7516093cda1b",
            "fcd47c1c6db3404a8cc8842882657a0f",
            "97f1dd0b6a2e484ab3c0b78e475c3600",
            "46b8394a705446659604d7082fa8166c",
            "f46bd30d328d415fb290a7348c0a8d95",
            "44eacbfed00e49238411a6b714fe8415",
            "ccef6a69efc64e7b96081716b4cf73ed",
            "3e098c72eedc4af5b4072fb31a73347b",
            "c5f30b7494274883a3ec124bc3d82e14",
            "a42b4ed4c2b7489aa93d4bcb4fd222e7",
            "f5d3c677e1454f53b80a1e7b883fcf26",
            "f2d0de67f7684b9bab30f1b8b2dca24c",
            "c45f9fa2fe81482e8abd0d70f862b329",
            "80a7062ea12d4d56b61cf98aad7fa5e0",
            "eccd2a5184304ab69d33fa14d5db679a",
            "d9d85e1c634a4e259a5b5689ead59974",
            "fb7815018cea44879d17636deb556413",
            "441d6d96446742a5a7b0f826b755d186",
            "33a53e2e7a6347d1af76d8be6539ef5d",
            "5577340fb0b049cc9528420e101e62d2",
            "165605e5080144d4a557725c90c91af2",
            "87d7da8667db44878bef8f12f72525e7",
            "aaa304c2bc5c4214ab0cdd285684e035",
            "60a6e69c21c44f96b9e349029ec5cf4b"
          ]
        },
        "outputId": "774af61f-98a6-4b7a-a42a-6b719b895a2c"
      },
      "execution_count": null,
      "outputs": [
        {
          "output_type": "stream",
          "name": "stderr",
          "text": [
            "/usr/local/lib/python3.10/dist-packages/huggingface_hub/utils/_token.py:89: UserWarning: \n",
            "The secret `HF_TOKEN` does not exist in your Colab secrets.\n",
            "To authenticate with the Hugging Face Hub, create a token in your settings tab (https://huggingface.co/settings/tokens), set it as secret in your Google Colab and restart your session.\n",
            "You will be able to reuse this secret in all of your notebooks.\n",
            "Please note that authentication is recommended but still optional to access public models or datasets.\n",
            "  warnings.warn(\n"
          ]
        },
        {
          "output_type": "display_data",
          "data": {
            "text/plain": [
              "tokenizer_config.json:   0%|          | 0.00/26.0 [00:00<?, ?B/s]"
            ],
            "application/vnd.jupyter.widget-view+json": {
              "version_major": 2,
              "version_minor": 0,
              "model_id": "44829e570ce84294a180a723b2ae5e64"
            }
          },
          "metadata": {}
        },
        {
          "output_type": "display_data",
          "data": {
            "text/plain": [
              "vocab.json:   0%|          | 0.00/1.04M [00:00<?, ?B/s]"
            ],
            "application/vnd.jupyter.widget-view+json": {
              "version_major": 2,
              "version_minor": 0,
              "model_id": "832e49bf52624cdda4ef8ced694c40a5"
            }
          },
          "metadata": {}
        },
        {
          "output_type": "display_data",
          "data": {
            "text/plain": [
              "merges.txt:   0%|          | 0.00/456k [00:00<?, ?B/s]"
            ],
            "application/vnd.jupyter.widget-view+json": {
              "version_major": 2,
              "version_minor": 0,
              "model_id": "b1672f4a7ab54dd58dc918ba59ff2aa0"
            }
          },
          "metadata": {}
        },
        {
          "output_type": "display_data",
          "data": {
            "text/plain": [
              "tokenizer.json:   0%|          | 0.00/1.36M [00:00<?, ?B/s]"
            ],
            "application/vnd.jupyter.widget-view+json": {
              "version_major": 2,
              "version_minor": 0,
              "model_id": "b58eda124a1745868eeee984847e536b"
            }
          },
          "metadata": {}
        },
        {
          "output_type": "stream",
          "name": "stderr",
          "text": [
            "/usr/local/lib/python3.10/dist-packages/huggingface_hub/file_download.py:1132: FutureWarning: `resume_download` is deprecated and will be removed in version 1.0.0. Downloads always resume when possible. If you want to force a new download, use `force_download=True`.\n",
            "  warnings.warn(\n"
          ]
        },
        {
          "output_type": "display_data",
          "data": {
            "text/plain": [
              "config.json:   0%|          | 0.00/665 [00:00<?, ?B/s]"
            ],
            "application/vnd.jupyter.widget-view+json": {
              "version_major": 2,
              "version_minor": 0,
              "model_id": "97f1dd0b6a2e484ab3c0b78e475c3600"
            }
          },
          "metadata": {}
        },
        {
          "output_type": "display_data",
          "data": {
            "text/plain": [
              "model.safetensors:   0%|          | 0.00/548M [00:00<?, ?B/s]"
            ],
            "application/vnd.jupyter.widget-view+json": {
              "version_major": 2,
              "version_minor": 0,
              "model_id": "80a7062ea12d4d56b61cf98aad7fa5e0"
            }
          },
          "metadata": {}
        },
        {
          "output_type": "stream",
          "name": "stderr",
          "text": [
            "Some weights of GPT2ForSequenceClassification were not initialized from the model checkpoint at gpt2 and are newly initialized: ['score.weight']\n",
            "You should probably TRAIN this model on a down-stream task to be able to use it for predictions and inference.\n"
          ]
        }
      ]
    },
    {
      "cell_type": "code",
      "source": [
        "from torch.utils.data import DataLoader, TensorDataset\n",
        "from torch.optim import AdamW\n",
        "import numpy as np\n",
        "\n",
        "# Creazione dei DataLoader\n",
        "train_dataset = TensorDataset(train_encodings['input_ids'], train_encodings['attention_mask'], train_labels)\n",
        "test_dataset = TensorDataset(test_encodings['input_ids'], test_encodings['attention_mask'], test_labels)\n",
        "\n",
        "train_loader = DataLoader(train_dataset, batch_size=8, shuffle=True)\n",
        "test_loader = DataLoader(test_dataset, batch_size=8)\n",
        "\n",
        "# Ottimizzatore\n",
        "optimizer = AdamW(model.parameters(), lr=5e-5)\n",
        "\n",
        "# Funzione di training\n",
        "def train(model, train_loader, optimizer, epochs=3):\n",
        "    model.train()\n",
        "    for epoch in range(epochs):\n",
        "        total_loss = 0\n",
        "        for batch in train_loader:\n",
        "            optimizer.zero_grad()\n",
        "            input_ids, attention_mask, labels = batch\n",
        "            input_ids, attention_mask, labels = input_ids.to(model.device), attention_mask.to(model.device), labels.to(model.device)\n",
        "            outputs = model(input_ids, attention_mask=attention_mask, labels=labels)\n",
        "            loss = outputs.loss\n",
        "            total_loss += loss.item()\n",
        "            loss.backward()\n",
        "            optimizer.step()\n",
        "        avg_loss = total_loss / len(train_loader)\n",
        "        print(f'Epoch {epoch + 1} completed with average loss: {avg_loss:.4f}')\n",
        "\n",
        "# Sposta il modello sulla GPU se disponibile\n",
        "device = torch.device(\"cuda\" if torch.cuda.is_available() else \"cpu\")\n",
        "model.to(device)\n",
        "\n",
        "# Addestra il modello\n",
        "train(model, train_loader, optimizer)\n"
      ],
      "metadata": {
        "colab": {
          "base_uri": "https://localhost:8080/"
        },
        "id": "umZGFaCF1D5F",
        "outputId": "ecdc2751-6d79-422a-c478-1290aafbcbaf"
      },
      "execution_count": null,
      "outputs": [
        {
          "output_type": "stream",
          "name": "stdout",
          "text": [
            "Epoch 1 completed with average loss: 0.0212\n",
            "Epoch 2 completed with average loss: 0.0000\n",
            "Epoch 3 completed with average loss: 0.0000\n"
          ]
        }
      ]
    },
    {
      "cell_type": "code",
      "source": [
        "from sklearn.metrics import confusion_matrix, classification_report, accuracy_score\n",
        "\n",
        "# Funzione di valutazione\n",
        "def evaluate(model, test_loader):\n",
        "    model.eval()\n",
        "    preds, true_labels = [], []\n",
        "    with torch.no_grad():\n",
        "        for batch in test_loader:\n",
        "            input_ids, attention_mask, labels = batch\n",
        "            input_ids, attention_mask, labels = input_ids.to(model.device), attention_mask.to(model.device), labels.to(model.device)\n",
        "            outputs = model(input_ids, attention_mask=attention_mask)\n",
        "            logits = outputs.logits\n",
        "            preds.extend(torch.argmax(logits, dim=1).tolist())\n",
        "            true_labels.extend(labels.tolist())\n",
        "    accuracy = accuracy_score(true_labels, preds)\n",
        "    return preds, true_labels, accuracy\n",
        "\n",
        "# Ottieni le predizioni\n",
        "y_pred, y_true, accuracy = evaluate(model, test_loader)\n",
        "\n",
        "# Calcola la matrice di confusione\n",
        "conf_matrix = confusion_matrix(y_true, y_pred)\n",
        "\n",
        "# Stampa la matrice di confusione, l'accuratezza e il rapporto di classificazione\n",
        "print('Matrice di confusione:')\n",
        "print(conf_matrix)\n",
        "\n",
        "print('Accuratezza:', accuracy)\n",
        "\n",
        "print('Rapporto di classificazione:')\n",
        "print(classification_report(y_true, y_pred))\n"
      ],
      "metadata": {
        "colab": {
          "base_uri": "https://localhost:8080/"
        },
        "id": "THiw8v001Ekf",
        "outputId": "d10922a3-0f2a-43c0-b09a-8800088ab3ad"
      },
      "execution_count": null,
      "outputs": [
        {
          "output_type": "stream",
          "name": "stdout",
          "text": [
            "Matrice di confusione:\n",
            "[[62]]\n",
            "Accuratezza: 1.0\n",
            "Rapporto di classificazione:\n",
            "              precision    recall  f1-score   support\n",
            "\n",
            "           0       1.00      1.00      1.00        62\n",
            "\n",
            "    accuracy                           1.00        62\n",
            "   macro avg       1.00      1.00      1.00        62\n",
            "weighted avg       1.00      1.00      1.00        62\n",
            "\n"
          ]
        }
      ]
    },
    {
      "cell_type": "code",
      "source": [],
      "metadata": {
        "id": "hts8snrq9UH5"
      },
      "execution_count": null,
      "outputs": []
    }
  ]
}